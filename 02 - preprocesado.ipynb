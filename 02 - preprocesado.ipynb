{
  "nbformat": 4,
  "nbformat_minor": 0,
  "metadata": {
    "colab": {
      "provenance": []
    },
    "kernelspec": {
      "name": "python3",
      "display_name": "Python 3"
    },
    "language_info": {
      "name": "python"
    }
  },
  "cells": [
    {
      "cell_type": "markdown",
      "source": [
        "### Instrucciones para Descargar los Datos desde Kaggle\n",
        "\n",
        "Para descargar los archivos de datos de la competencia de Kaggle directamente a este entorno de Google Colab, sigue los siguientes pasos:\n",
        "\n",
        "1. **Generar el archivo `kaggle.json`**:\n",
        "   - Ve a [Kaggle](https://www.kaggle.com).\n",
        "   - Inicia sesión con tu cuenta.\n",
        "   - Dirígete a tu perfil (haciendo clic en tu imagen de perfil en la esquina superior derecha) y selecciona **Settings**.\n",
        "   - Desplázate hasta la sección **API** y haz clic en **Create New API Token**.\n",
        "   - Esto descargará un archivo `kaggle.json` en tu computadora. Este archivo contiene las credenciales necesarias para acceder a la API de Kaggle.\n",
        "\n",
        "2. **Subir el archivo `kaggle.json` a Google Colab**:\n",
        "   - Ejecuta la celda que te pide subir archivos.\n",
        "   - Selecciona el archivo `kaggle.json` que descargaste de Kaggle.\n",
        "\n",
        "3. **Ejecutar el código para descargar los datos**:\n",
        "   - Una vez que hayas subido el archivo `kaggle.json`, las siguientes celdas descargarán y descomprimirán automáticamente los archivos de la competencia desde Kaggle."
      ],
      "metadata": {
        "id": "EKQ9hcIZZxMW"
      }
    },
    {
      "cell_type": "markdown",
      "source": [
        "**Subir el archivo `kaggle.json`**:"
      ],
      "metadata": {
        "id": "m7G4OaRtZ46W"
      }
    },
    {
      "cell_type": "code",
      "execution_count": null,
      "metadata": {
        "colab": {
          "base_uri": "https://localhost:8080/",
          "height": 298
        },
        "id": "wfzeEBiNZeX0",
        "outputId": "e4d1ed26-0aad-4321-f64c-e425896371f6"
      },
      "outputs": [
        {
          "output_type": "stream",
          "name": "stdout",
          "text": [
            "Requirement already satisfied: kaggle in /usr/local/lib/python3.10/dist-packages (1.6.17)\n",
            "Requirement already satisfied: six>=1.10 in /usr/local/lib/python3.10/dist-packages (from kaggle) (1.16.0)\n",
            "Requirement already satisfied: certifi>=2023.7.22 in /usr/local/lib/python3.10/dist-packages (from kaggle) (2024.8.30)\n",
            "Requirement already satisfied: python-dateutil in /usr/local/lib/python3.10/dist-packages (from kaggle) (2.8.2)\n",
            "Requirement already satisfied: requests in /usr/local/lib/python3.10/dist-packages (from kaggle) (2.32.3)\n",
            "Requirement already satisfied: tqdm in /usr/local/lib/python3.10/dist-packages (from kaggle) (4.66.5)\n",
            "Requirement already satisfied: python-slugify in /usr/local/lib/python3.10/dist-packages (from kaggle) (8.0.4)\n",
            "Requirement already satisfied: urllib3 in /usr/local/lib/python3.10/dist-packages (from kaggle) (2.2.3)\n",
            "Requirement already satisfied: bleach in /usr/local/lib/python3.10/dist-packages (from kaggle) (6.1.0)\n",
            "Requirement already satisfied: webencodings in /usr/local/lib/python3.10/dist-packages (from bleach->kaggle) (0.5.1)\n",
            "Requirement already satisfied: text-unidecode>=1.3 in /usr/local/lib/python3.10/dist-packages (from python-slugify->kaggle) (1.3)\n",
            "Requirement already satisfied: charset-normalizer<4,>=2 in /usr/local/lib/python3.10/dist-packages (from requests->kaggle) (3.3.2)\n",
            "Requirement already satisfied: idna<4,>=2.5 in /usr/local/lib/python3.10/dist-packages (from requests->kaggle) (3.10)\n"
          ]
        },
        {
          "output_type": "display_data",
          "data": {
            "text/plain": [
              "<IPython.core.display.HTML object>"
            ],
            "text/html": [
              "\n",
              "     <input type=\"file\" id=\"files-2da317c1-3b5a-43ec-bd55-b012e6ecb56e\" name=\"files[]\" multiple disabled\n",
              "        style=\"border:none\" />\n",
              "     <output id=\"result-2da317c1-3b5a-43ec-bd55-b012e6ecb56e\">\n",
              "      Upload widget is only available when the cell has been executed in the\n",
              "      current browser session. Please rerun this cell to enable.\n",
              "      </output>\n",
              "      <script>// Copyright 2017 Google LLC\n",
              "//\n",
              "// Licensed under the Apache License, Version 2.0 (the \"License\");\n",
              "// you may not use this file except in compliance with the License.\n",
              "// You may obtain a copy of the License at\n",
              "//\n",
              "//      http://www.apache.org/licenses/LICENSE-2.0\n",
              "//\n",
              "// Unless required by applicable law or agreed to in writing, software\n",
              "// distributed under the License is distributed on an \"AS IS\" BASIS,\n",
              "// WITHOUT WARRANTIES OR CONDITIONS OF ANY KIND, either express or implied.\n",
              "// See the License for the specific language governing permissions and\n",
              "// limitations under the License.\n",
              "\n",
              "/**\n",
              " * @fileoverview Helpers for google.colab Python module.\n",
              " */\n",
              "(function(scope) {\n",
              "function span(text, styleAttributes = {}) {\n",
              "  const element = document.createElement('span');\n",
              "  element.textContent = text;\n",
              "  for (const key of Object.keys(styleAttributes)) {\n",
              "    element.style[key] = styleAttributes[key];\n",
              "  }\n",
              "  return element;\n",
              "}\n",
              "\n",
              "// Max number of bytes which will be uploaded at a time.\n",
              "const MAX_PAYLOAD_SIZE = 100 * 1024;\n",
              "\n",
              "function _uploadFiles(inputId, outputId) {\n",
              "  const steps = uploadFilesStep(inputId, outputId);\n",
              "  const outputElement = document.getElementById(outputId);\n",
              "  // Cache steps on the outputElement to make it available for the next call\n",
              "  // to uploadFilesContinue from Python.\n",
              "  outputElement.steps = steps;\n",
              "\n",
              "  return _uploadFilesContinue(outputId);\n",
              "}\n",
              "\n",
              "// This is roughly an async generator (not supported in the browser yet),\n",
              "// where there are multiple asynchronous steps and the Python side is going\n",
              "// to poll for completion of each step.\n",
              "// This uses a Promise to block the python side on completion of each step,\n",
              "// then passes the result of the previous step as the input to the next step.\n",
              "function _uploadFilesContinue(outputId) {\n",
              "  const outputElement = document.getElementById(outputId);\n",
              "  const steps = outputElement.steps;\n",
              "\n",
              "  const next = steps.next(outputElement.lastPromiseValue);\n",
              "  return Promise.resolve(next.value.promise).then((value) => {\n",
              "    // Cache the last promise value to make it available to the next\n",
              "    // step of the generator.\n",
              "    outputElement.lastPromiseValue = value;\n",
              "    return next.value.response;\n",
              "  });\n",
              "}\n",
              "\n",
              "/**\n",
              " * Generator function which is called between each async step of the upload\n",
              " * process.\n",
              " * @param {string} inputId Element ID of the input file picker element.\n",
              " * @param {string} outputId Element ID of the output display.\n",
              " * @return {!Iterable<!Object>} Iterable of next steps.\n",
              " */\n",
              "function* uploadFilesStep(inputId, outputId) {\n",
              "  const inputElement = document.getElementById(inputId);\n",
              "  inputElement.disabled = false;\n",
              "\n",
              "  const outputElement = document.getElementById(outputId);\n",
              "  outputElement.innerHTML = '';\n",
              "\n",
              "  const pickedPromise = new Promise((resolve) => {\n",
              "    inputElement.addEventListener('change', (e) => {\n",
              "      resolve(e.target.files);\n",
              "    });\n",
              "  });\n",
              "\n",
              "  const cancel = document.createElement('button');\n",
              "  inputElement.parentElement.appendChild(cancel);\n",
              "  cancel.textContent = 'Cancel upload';\n",
              "  const cancelPromise = new Promise((resolve) => {\n",
              "    cancel.onclick = () => {\n",
              "      resolve(null);\n",
              "    };\n",
              "  });\n",
              "\n",
              "  // Wait for the user to pick the files.\n",
              "  const files = yield {\n",
              "    promise: Promise.race([pickedPromise, cancelPromise]),\n",
              "    response: {\n",
              "      action: 'starting',\n",
              "    }\n",
              "  };\n",
              "\n",
              "  cancel.remove();\n",
              "\n",
              "  // Disable the input element since further picks are not allowed.\n",
              "  inputElement.disabled = true;\n",
              "\n",
              "  if (!files) {\n",
              "    return {\n",
              "      response: {\n",
              "        action: 'complete',\n",
              "      }\n",
              "    };\n",
              "  }\n",
              "\n",
              "  for (const file of files) {\n",
              "    const li = document.createElement('li');\n",
              "    li.append(span(file.name, {fontWeight: 'bold'}));\n",
              "    li.append(span(\n",
              "        `(${file.type || 'n/a'}) - ${file.size} bytes, ` +\n",
              "        `last modified: ${\n",
              "            file.lastModifiedDate ? file.lastModifiedDate.toLocaleDateString() :\n",
              "                                    'n/a'} - `));\n",
              "    const percent = span('0% done');\n",
              "    li.appendChild(percent);\n",
              "\n",
              "    outputElement.appendChild(li);\n",
              "\n",
              "    const fileDataPromise = new Promise((resolve) => {\n",
              "      const reader = new FileReader();\n",
              "      reader.onload = (e) => {\n",
              "        resolve(e.target.result);\n",
              "      };\n",
              "      reader.readAsArrayBuffer(file);\n",
              "    });\n",
              "    // Wait for the data to be ready.\n",
              "    let fileData = yield {\n",
              "      promise: fileDataPromise,\n",
              "      response: {\n",
              "        action: 'continue',\n",
              "      }\n",
              "    };\n",
              "\n",
              "    // Use a chunked sending to avoid message size limits. See b/62115660.\n",
              "    let position = 0;\n",
              "    do {\n",
              "      const length = Math.min(fileData.byteLength - position, MAX_PAYLOAD_SIZE);\n",
              "      const chunk = new Uint8Array(fileData, position, length);\n",
              "      position += length;\n",
              "\n",
              "      const base64 = btoa(String.fromCharCode.apply(null, chunk));\n",
              "      yield {\n",
              "        response: {\n",
              "          action: 'append',\n",
              "          file: file.name,\n",
              "          data: base64,\n",
              "        },\n",
              "      };\n",
              "\n",
              "      let percentDone = fileData.byteLength === 0 ?\n",
              "          100 :\n",
              "          Math.round((position / fileData.byteLength) * 100);\n",
              "      percent.textContent = `${percentDone}% done`;\n",
              "\n",
              "    } while (position < fileData.byteLength);\n",
              "  }\n",
              "\n",
              "  // All done.\n",
              "  yield {\n",
              "    response: {\n",
              "      action: 'complete',\n",
              "    }\n",
              "  };\n",
              "}\n",
              "\n",
              "scope.google = scope.google || {};\n",
              "scope.google.colab = scope.google.colab || {};\n",
              "scope.google.colab._files = {\n",
              "  _uploadFiles,\n",
              "  _uploadFilesContinue,\n",
              "};\n",
              "})(self);\n",
              "</script> "
            ]
          },
          "metadata": {}
        },
        {
          "output_type": "stream",
          "name": "stdout",
          "text": [
            "Saving kaggle.json to kaggle.json\n"
          ]
        }
      ],
      "source": [
        "!pip install kaggle\n",
        "\n",
        "# Solicitar el archivo kaggle.json\n",
        "from google.colab import files\n",
        "files.upload()  # Subir el archivo kaggle.json\n",
        "\n",
        "# Crear el directorio .kaggle y mover el archivo kaggle.json\n",
        "!mkdir -p ~/.kaggle\n",
        "!mv kaggle.json ~/.kaggle/\n",
        "!chmod 600 ~/.kaggle/kaggle.json"
      ]
    },
    {
      "cell_type": "markdown",
      "source": [
        "**Código para descargar los datos**:\n"
      ],
      "metadata": {
        "id": "jrUeSS9aZ5ws"
      }
    },
    {
      "cell_type": "code",
      "source": [
        "# Descargar los datos\n",
        "!kaggle competitions download -c udea-ai4eng-20242\n",
        "\n",
        "# Descomprimir los archivos descargados\n",
        "!unzip udea-ai4eng-20242.zip"
      ],
      "metadata": {
        "colab": {
          "base_uri": "https://localhost:8080/"
        },
        "id": "asM0KxI8aIR2",
        "outputId": "262348f2-eafa-43d2-b8e9-ec11f30010dd"
      },
      "execution_count": null,
      "outputs": [
        {
          "output_type": "stream",
          "name": "stdout",
          "text": [
            "Downloading udea-ai4eng-20242.zip to /content\n",
            "\r  0% 0.00/20.1M [00:00<?, ?B/s]\r 75% 15.0M/20.1M [00:00<00:00, 150MB/s]\n",
            "\r100% 20.1M/20.1M [00:00<00:00, 146MB/s]\n",
            "Archive:  udea-ai4eng-20242.zip\n",
            "  inflating: submission_example.csv  \n",
            "  inflating: test.csv                \n",
            "  inflating: train.csv               \n"
          ]
        }
      ]
    },
    {
      "cell_type": "markdown",
      "source": [
        "**Importando librerías**"
      ],
      "metadata": {
        "id": "5aagDUJtZ568"
      }
    },
    {
      "cell_type": "code",
      "source": [
        "# Importar librerías\n",
        "import pandas as pd\n",
        "import numpy as np\n",
        "import matplotlib.pyplot as plt\n",
        "import seaborn as sns\n",
        "from sklearn.preprocessing import OneHotEncoder, OrdinalEncoder\n",
        "from sklearn.impute import SimpleImputer"
      ],
      "metadata": {
        "id": "8vHRXhsAaI0e"
      },
      "execution_count": null,
      "outputs": []
    },
    {
      "cell_type": "markdown",
      "source": [
        "# **Carga y visualización del dataset**"
      ],
      "metadata": {
        "id": "EA539VtSa5jr"
      }
    },
    {
      "cell_type": "code",
      "source": [
        "# Cargar los datos\n",
        "data = pd.read_csv('train.csv')\n",
        "\n",
        "# Mostrar los primeros registros\n",
        "data.head()"
      ],
      "metadata": {
        "colab": {
          "base_uri": "https://localhost:8080/",
          "height": 313
        },
        "id": "RWKs7Xu0amSh",
        "outputId": "b96b190c-9906-4659-bba1-3fbce83124c7"
      },
      "execution_count": null,
      "outputs": [
        {
          "output_type": "execute_result",
          "data": {
            "text/plain": [
              "       ID  PERIODO         ESTU_PRGM_ACADEMICO ESTU_PRGM_DEPARTAMENTO  \\\n",
              "0  904256    20212                  ENFERMERIA                 BOGOTÁ   \n",
              "1  645256    20212                     DERECHO              ATLANTICO   \n",
              "2  308367    20203       MERCADEO Y PUBLICIDAD                 BOGOTÁ   \n",
              "3  470353    20195  ADMINISTRACION DE EMPRESAS              SANTANDER   \n",
              "4  989032    20212                  PSICOLOGIA              ANTIOQUIA   \n",
              "\n",
              "             ESTU_VALORMATRICULAUNIVERSIDAD ESTU_HORASSEMANATRABAJA  \\\n",
              "0  Entre 5.5 millones y menos de 7 millones       Menos de 10 horas   \n",
              "1  Entre 2.5 millones y menos de 4 millones                       0   \n",
              "2  Entre 2.5 millones y menos de 4 millones         Más de 30 horas   \n",
              "3  Entre 4 millones y menos de 5.5 millones                       0   \n",
              "4  Entre 2.5 millones y menos de 4 millones     Entre 21 y 30 horas   \n",
              "\n",
              "  FAMI_ESTRATOVIVIENDA FAMI_TIENEINTERNET                 FAMI_EDUCACIONPADRE  \\\n",
              "0            Estrato 3                 Si    Técnica o tecnológica incompleta   \n",
              "1            Estrato 3                 No      Técnica o tecnológica completa   \n",
              "2            Estrato 3                 Si  Secundaria (Bachillerato) completa   \n",
              "3            Estrato 4                 Si                             No sabe   \n",
              "4            Estrato 3                 Si                   Primaria completa   \n",
              "\n",
              "                  FAMI_EDUCACIONMADRE ESTU_PAGOMATRICULAPROPIO  \\\n",
              "0                           Postgrado                       No   \n",
              "1    Técnica o tecnológica incompleta                       No   \n",
              "2  Secundaria (Bachillerato) completa                       No   \n",
              "3  Secundaria (Bachillerato) completa                       No   \n",
              "4                   Primaria completa                       No   \n",
              "\n",
              "  RENDIMIENTO_GLOBAL  \n",
              "0         medio-alto  \n",
              "1               bajo  \n",
              "2               bajo  \n",
              "3               alto  \n",
              "4         medio-bajo  "
            ],
            "text/html": [
              "\n",
              "  <div id=\"df-dad25bf3-c34e-4fc4-a9b0-2fb9587b85b4\" class=\"colab-df-container\">\n",
              "    <div>\n",
              "<style scoped>\n",
              "    .dataframe tbody tr th:only-of-type {\n",
              "        vertical-align: middle;\n",
              "    }\n",
              "\n",
              "    .dataframe tbody tr th {\n",
              "        vertical-align: top;\n",
              "    }\n",
              "\n",
              "    .dataframe thead th {\n",
              "        text-align: right;\n",
              "    }\n",
              "</style>\n",
              "<table border=\"1\" class=\"dataframe\">\n",
              "  <thead>\n",
              "    <tr style=\"text-align: right;\">\n",
              "      <th></th>\n",
              "      <th>ID</th>\n",
              "      <th>PERIODO</th>\n",
              "      <th>ESTU_PRGM_ACADEMICO</th>\n",
              "      <th>ESTU_PRGM_DEPARTAMENTO</th>\n",
              "      <th>ESTU_VALORMATRICULAUNIVERSIDAD</th>\n",
              "      <th>ESTU_HORASSEMANATRABAJA</th>\n",
              "      <th>FAMI_ESTRATOVIVIENDA</th>\n",
              "      <th>FAMI_TIENEINTERNET</th>\n",
              "      <th>FAMI_EDUCACIONPADRE</th>\n",
              "      <th>FAMI_EDUCACIONMADRE</th>\n",
              "      <th>ESTU_PAGOMATRICULAPROPIO</th>\n",
              "      <th>RENDIMIENTO_GLOBAL</th>\n",
              "    </tr>\n",
              "  </thead>\n",
              "  <tbody>\n",
              "    <tr>\n",
              "      <th>0</th>\n",
              "      <td>904256</td>\n",
              "      <td>20212</td>\n",
              "      <td>ENFERMERIA</td>\n",
              "      <td>BOGOTÁ</td>\n",
              "      <td>Entre 5.5 millones y menos de 7 millones</td>\n",
              "      <td>Menos de 10 horas</td>\n",
              "      <td>Estrato 3</td>\n",
              "      <td>Si</td>\n",
              "      <td>Técnica o tecnológica incompleta</td>\n",
              "      <td>Postgrado</td>\n",
              "      <td>No</td>\n",
              "      <td>medio-alto</td>\n",
              "    </tr>\n",
              "    <tr>\n",
              "      <th>1</th>\n",
              "      <td>645256</td>\n",
              "      <td>20212</td>\n",
              "      <td>DERECHO</td>\n",
              "      <td>ATLANTICO</td>\n",
              "      <td>Entre 2.5 millones y menos de 4 millones</td>\n",
              "      <td>0</td>\n",
              "      <td>Estrato 3</td>\n",
              "      <td>No</td>\n",
              "      <td>Técnica o tecnológica completa</td>\n",
              "      <td>Técnica o tecnológica incompleta</td>\n",
              "      <td>No</td>\n",
              "      <td>bajo</td>\n",
              "    </tr>\n",
              "    <tr>\n",
              "      <th>2</th>\n",
              "      <td>308367</td>\n",
              "      <td>20203</td>\n",
              "      <td>MERCADEO Y PUBLICIDAD</td>\n",
              "      <td>BOGOTÁ</td>\n",
              "      <td>Entre 2.5 millones y menos de 4 millones</td>\n",
              "      <td>Más de 30 horas</td>\n",
              "      <td>Estrato 3</td>\n",
              "      <td>Si</td>\n",
              "      <td>Secundaria (Bachillerato) completa</td>\n",
              "      <td>Secundaria (Bachillerato) completa</td>\n",
              "      <td>No</td>\n",
              "      <td>bajo</td>\n",
              "    </tr>\n",
              "    <tr>\n",
              "      <th>3</th>\n",
              "      <td>470353</td>\n",
              "      <td>20195</td>\n",
              "      <td>ADMINISTRACION DE EMPRESAS</td>\n",
              "      <td>SANTANDER</td>\n",
              "      <td>Entre 4 millones y menos de 5.5 millones</td>\n",
              "      <td>0</td>\n",
              "      <td>Estrato 4</td>\n",
              "      <td>Si</td>\n",
              "      <td>No sabe</td>\n",
              "      <td>Secundaria (Bachillerato) completa</td>\n",
              "      <td>No</td>\n",
              "      <td>alto</td>\n",
              "    </tr>\n",
              "    <tr>\n",
              "      <th>4</th>\n",
              "      <td>989032</td>\n",
              "      <td>20212</td>\n",
              "      <td>PSICOLOGIA</td>\n",
              "      <td>ANTIOQUIA</td>\n",
              "      <td>Entre 2.5 millones y menos de 4 millones</td>\n",
              "      <td>Entre 21 y 30 horas</td>\n",
              "      <td>Estrato 3</td>\n",
              "      <td>Si</td>\n",
              "      <td>Primaria completa</td>\n",
              "      <td>Primaria completa</td>\n",
              "      <td>No</td>\n",
              "      <td>medio-bajo</td>\n",
              "    </tr>\n",
              "  </tbody>\n",
              "</table>\n",
              "</div>\n",
              "    <div class=\"colab-df-buttons\">\n",
              "\n",
              "  <div class=\"colab-df-container\">\n",
              "    <button class=\"colab-df-convert\" onclick=\"convertToInteractive('df-dad25bf3-c34e-4fc4-a9b0-2fb9587b85b4')\"\n",
              "            title=\"Convert this dataframe to an interactive table.\"\n",
              "            style=\"display:none;\">\n",
              "\n",
              "  <svg xmlns=\"http://www.w3.org/2000/svg\" height=\"24px\" viewBox=\"0 -960 960 960\">\n",
              "    <path d=\"M120-120v-720h720v720H120Zm60-500h600v-160H180v160Zm220 220h160v-160H400v160Zm0 220h160v-160H400v160ZM180-400h160v-160H180v160Zm440 0h160v-160H620v160ZM180-180h160v-160H180v160Zm440 0h160v-160H620v160Z\"/>\n",
              "  </svg>\n",
              "    </button>\n",
              "\n",
              "  <style>\n",
              "    .colab-df-container {\n",
              "      display:flex;\n",
              "      gap: 12px;\n",
              "    }\n",
              "\n",
              "    .colab-df-convert {\n",
              "      background-color: #E8F0FE;\n",
              "      border: none;\n",
              "      border-radius: 50%;\n",
              "      cursor: pointer;\n",
              "      display: none;\n",
              "      fill: #1967D2;\n",
              "      height: 32px;\n",
              "      padding: 0 0 0 0;\n",
              "      width: 32px;\n",
              "    }\n",
              "\n",
              "    .colab-df-convert:hover {\n",
              "      background-color: #E2EBFA;\n",
              "      box-shadow: 0px 1px 2px rgba(60, 64, 67, 0.3), 0px 1px 3px 1px rgba(60, 64, 67, 0.15);\n",
              "      fill: #174EA6;\n",
              "    }\n",
              "\n",
              "    .colab-df-buttons div {\n",
              "      margin-bottom: 4px;\n",
              "    }\n",
              "\n",
              "    [theme=dark] .colab-df-convert {\n",
              "      background-color: #3B4455;\n",
              "      fill: #D2E3FC;\n",
              "    }\n",
              "\n",
              "    [theme=dark] .colab-df-convert:hover {\n",
              "      background-color: #434B5C;\n",
              "      box-shadow: 0px 1px 3px 1px rgba(0, 0, 0, 0.15);\n",
              "      filter: drop-shadow(0px 1px 2px rgba(0, 0, 0, 0.3));\n",
              "      fill: #FFFFFF;\n",
              "    }\n",
              "  </style>\n",
              "\n",
              "    <script>\n",
              "      const buttonEl =\n",
              "        document.querySelector('#df-dad25bf3-c34e-4fc4-a9b0-2fb9587b85b4 button.colab-df-convert');\n",
              "      buttonEl.style.display =\n",
              "        google.colab.kernel.accessAllowed ? 'block' : 'none';\n",
              "\n",
              "      async function convertToInteractive(key) {\n",
              "        const element = document.querySelector('#df-dad25bf3-c34e-4fc4-a9b0-2fb9587b85b4');\n",
              "        const dataTable =\n",
              "          await google.colab.kernel.invokeFunction('convertToInteractive',\n",
              "                                                    [key], {});\n",
              "        if (!dataTable) return;\n",
              "\n",
              "        const docLinkHtml = 'Like what you see? Visit the ' +\n",
              "          '<a target=\"_blank\" href=https://colab.research.google.com/notebooks/data_table.ipynb>data table notebook</a>'\n",
              "          + ' to learn more about interactive tables.';\n",
              "        element.innerHTML = '';\n",
              "        dataTable['output_type'] = 'display_data';\n",
              "        await google.colab.output.renderOutput(dataTable, element);\n",
              "        const docLink = document.createElement('div');\n",
              "        docLink.innerHTML = docLinkHtml;\n",
              "        element.appendChild(docLink);\n",
              "      }\n",
              "    </script>\n",
              "  </div>\n",
              "\n",
              "\n",
              "<div id=\"df-d209832f-0e43-47c0-a0e4-8e32c3606aa7\">\n",
              "  <button class=\"colab-df-quickchart\" onclick=\"quickchart('df-d209832f-0e43-47c0-a0e4-8e32c3606aa7')\"\n",
              "            title=\"Suggest charts\"\n",
              "            style=\"display:none;\">\n",
              "\n",
              "<svg xmlns=\"http://www.w3.org/2000/svg\" height=\"24px\"viewBox=\"0 0 24 24\"\n",
              "     width=\"24px\">\n",
              "    <g>\n",
              "        <path d=\"M19 3H5c-1.1 0-2 .9-2 2v14c0 1.1.9 2 2 2h14c1.1 0 2-.9 2-2V5c0-1.1-.9-2-2-2zM9 17H7v-7h2v7zm4 0h-2V7h2v10zm4 0h-2v-4h2v4z\"/>\n",
              "    </g>\n",
              "</svg>\n",
              "  </button>\n",
              "\n",
              "<style>\n",
              "  .colab-df-quickchart {\n",
              "      --bg-color: #E8F0FE;\n",
              "      --fill-color: #1967D2;\n",
              "      --hover-bg-color: #E2EBFA;\n",
              "      --hover-fill-color: #174EA6;\n",
              "      --disabled-fill-color: #AAA;\n",
              "      --disabled-bg-color: #DDD;\n",
              "  }\n",
              "\n",
              "  [theme=dark] .colab-df-quickchart {\n",
              "      --bg-color: #3B4455;\n",
              "      --fill-color: #D2E3FC;\n",
              "      --hover-bg-color: #434B5C;\n",
              "      --hover-fill-color: #FFFFFF;\n",
              "      --disabled-bg-color: #3B4455;\n",
              "      --disabled-fill-color: #666;\n",
              "  }\n",
              "\n",
              "  .colab-df-quickchart {\n",
              "    background-color: var(--bg-color);\n",
              "    border: none;\n",
              "    border-radius: 50%;\n",
              "    cursor: pointer;\n",
              "    display: none;\n",
              "    fill: var(--fill-color);\n",
              "    height: 32px;\n",
              "    padding: 0;\n",
              "    width: 32px;\n",
              "  }\n",
              "\n",
              "  .colab-df-quickchart:hover {\n",
              "    background-color: var(--hover-bg-color);\n",
              "    box-shadow: 0 1px 2px rgba(60, 64, 67, 0.3), 0 1px 3px 1px rgba(60, 64, 67, 0.15);\n",
              "    fill: var(--button-hover-fill-color);\n",
              "  }\n",
              "\n",
              "  .colab-df-quickchart-complete:disabled,\n",
              "  .colab-df-quickchart-complete:disabled:hover {\n",
              "    background-color: var(--disabled-bg-color);\n",
              "    fill: var(--disabled-fill-color);\n",
              "    box-shadow: none;\n",
              "  }\n",
              "\n",
              "  .colab-df-spinner {\n",
              "    border: 2px solid var(--fill-color);\n",
              "    border-color: transparent;\n",
              "    border-bottom-color: var(--fill-color);\n",
              "    animation:\n",
              "      spin 1s steps(1) infinite;\n",
              "  }\n",
              "\n",
              "  @keyframes spin {\n",
              "    0% {\n",
              "      border-color: transparent;\n",
              "      border-bottom-color: var(--fill-color);\n",
              "      border-left-color: var(--fill-color);\n",
              "    }\n",
              "    20% {\n",
              "      border-color: transparent;\n",
              "      border-left-color: var(--fill-color);\n",
              "      border-top-color: var(--fill-color);\n",
              "    }\n",
              "    30% {\n",
              "      border-color: transparent;\n",
              "      border-left-color: var(--fill-color);\n",
              "      border-top-color: var(--fill-color);\n",
              "      border-right-color: var(--fill-color);\n",
              "    }\n",
              "    40% {\n",
              "      border-color: transparent;\n",
              "      border-right-color: var(--fill-color);\n",
              "      border-top-color: var(--fill-color);\n",
              "    }\n",
              "    60% {\n",
              "      border-color: transparent;\n",
              "      border-right-color: var(--fill-color);\n",
              "    }\n",
              "    80% {\n",
              "      border-color: transparent;\n",
              "      border-right-color: var(--fill-color);\n",
              "      border-bottom-color: var(--fill-color);\n",
              "    }\n",
              "    90% {\n",
              "      border-color: transparent;\n",
              "      border-bottom-color: var(--fill-color);\n",
              "    }\n",
              "  }\n",
              "</style>\n",
              "\n",
              "  <script>\n",
              "    async function quickchart(key) {\n",
              "      const quickchartButtonEl =\n",
              "        document.querySelector('#' + key + ' button');\n",
              "      quickchartButtonEl.disabled = true;  // To prevent multiple clicks.\n",
              "      quickchartButtonEl.classList.add('colab-df-spinner');\n",
              "      try {\n",
              "        const charts = await google.colab.kernel.invokeFunction(\n",
              "            'suggestCharts', [key], {});\n",
              "      } catch (error) {\n",
              "        console.error('Error during call to suggestCharts:', error);\n",
              "      }\n",
              "      quickchartButtonEl.classList.remove('colab-df-spinner');\n",
              "      quickchartButtonEl.classList.add('colab-df-quickchart-complete');\n",
              "    }\n",
              "    (() => {\n",
              "      let quickchartButtonEl =\n",
              "        document.querySelector('#df-d209832f-0e43-47c0-a0e4-8e32c3606aa7 button');\n",
              "      quickchartButtonEl.style.display =\n",
              "        google.colab.kernel.accessAllowed ? 'block' : 'none';\n",
              "    })();\n",
              "  </script>\n",
              "</div>\n",
              "\n",
              "    </div>\n",
              "  </div>\n"
            ],
            "application/vnd.google.colaboratory.intrinsic+json": {
              "type": "dataframe",
              "variable_name": "data"
            }
          },
          "metadata": {},
          "execution_count": 5
        }
      ]
    },
    {
      "cell_type": "markdown",
      "source": [
        "**Información del dataset**"
      ],
      "metadata": {
        "id": "xBueV3Qtgvnv"
      }
    },
    {
      "cell_type": "code",
      "source": [
        "# Mostrar tipos de datos y valores nulos\n",
        "data.info()"
      ],
      "metadata": {
        "colab": {
          "base_uri": "https://localhost:8080/"
        },
        "id": "ExwG2znRgddZ",
        "outputId": "91a038b8-4abd-43c9-9bca-7e0d91c32d29"
      },
      "execution_count": null,
      "outputs": [
        {
          "output_type": "stream",
          "name": "stdout",
          "text": [
            "<class 'pandas.core.frame.DataFrame'>\n",
            "RangeIndex: 692500 entries, 0 to 692499\n",
            "Data columns (total 12 columns):\n",
            " #   Column                          Non-Null Count   Dtype \n",
            "---  ------                          --------------   ----- \n",
            " 0   ID                              692500 non-null  int64 \n",
            " 1   PERIODO                         692500 non-null  int64 \n",
            " 2   ESTU_PRGM_ACADEMICO             692500 non-null  object\n",
            " 3   ESTU_PRGM_DEPARTAMENTO          692500 non-null  object\n",
            " 4   ESTU_VALORMATRICULAUNIVERSIDAD  686213 non-null  object\n",
            " 5   ESTU_HORASSEMANATRABAJA         661643 non-null  object\n",
            " 6   FAMI_ESTRATOVIVIENDA            660363 non-null  object\n",
            " 7   FAMI_TIENEINTERNET              665871 non-null  object\n",
            " 8   FAMI_EDUCACIONPADRE             669322 non-null  object\n",
            " 9   FAMI_EDUCACIONMADRE             668836 non-null  object\n",
            " 10  ESTU_PAGOMATRICULAPROPIO        686002 non-null  object\n",
            " 11  RENDIMIENTO_GLOBAL              692500 non-null  object\n",
            "dtypes: int64(2), object(10)\n",
            "memory usage: 63.4+ MB\n"
          ]
        }
      ]
    },
    {
      "cell_type": "markdown",
      "source": [
        "**Identificar valores faltantes**"
      ],
      "metadata": {
        "id": "ZV8FS-1Hb3aI"
      }
    },
    {
      "cell_type": "code",
      "source": [
        "# Explorar la cantidad de valores faltantes por columna\n",
        "missing_values = data.isnull().sum()\n",
        "print(\"Valores faltantes:\\n\", missing_values)"
      ],
      "metadata": {
        "colab": {
          "base_uri": "https://localhost:8080/"
        },
        "id": "SJNV5Ivkawdo",
        "outputId": "11aeab86-19a9-4e2b-a84c-ae0fe7d37807"
      },
      "execution_count": null,
      "outputs": [
        {
          "output_type": "stream",
          "name": "stdout",
          "text": [
            "Valores faltantes:\n",
            " ID                                    0\n",
            "PERIODO                               0\n",
            "ESTU_PRGM_ACADEMICO                   0\n",
            "ESTU_PRGM_DEPARTAMENTO                0\n",
            "ESTU_VALORMATRICULAUNIVERSIDAD     6287\n",
            "ESTU_HORASSEMANATRABAJA           30857\n",
            "FAMI_ESTRATOVIVIENDA              32137\n",
            "FAMI_TIENEINTERNET                26629\n",
            "FAMI_EDUCACIONPADRE               23178\n",
            "FAMI_EDUCACIONMADRE               23664\n",
            "ESTU_PAGOMATRICULAPROPIO           6498\n",
            "RENDIMIENTO_GLOBAL                    0\n",
            "dtype: int64\n"
          ]
        }
      ]
    },
    {
      "cell_type": "markdown",
      "source": [
        "#**Limpieza y preprocesamiento de datos**"
      ],
      "metadata": {
        "id": "G0II00D4dUlq"
      }
    },
    {
      "cell_type": "markdown",
      "source": [
        "**Porcentaje de valores faltantes**"
      ],
      "metadata": {
        "id": "Bbr2qhJgjD4X"
      }
    },
    {
      "cell_type": "code",
      "source": [
        "# Calcular el porcentaje de valores faltantes por columna\n",
        "missing_percentage = data.isnull().sum() / len(data) * 100\n",
        "print(missing_percentage)\n",
        "\n",
        "# Definir un umbral del 30% para eliminar columnas con demasiados valores faltantes\n",
        "threshold = 30\n",
        "columns_to_drop = missing_percentage[missing_percentage > threshold].index\n",
        "data_cleaned = data.drop(columns=columns_to_drop)\n",
        "\n",
        "print(f\"Columnas eliminadas: {columns_to_drop}\")"
      ],
      "metadata": {
        "colab": {
          "base_uri": "https://localhost:8080/"
        },
        "id": "DsXRu0F3jcX9",
        "outputId": "ace82b59-73f3-4f9f-94a2-0e30b5d91b6a"
      },
      "execution_count": null,
      "outputs": [
        {
          "output_type": "stream",
          "name": "stdout",
          "text": [
            "ID                                0.000000\n",
            "PERIODO                           0.000000\n",
            "ESTU_PRGM_ACADEMICO               0.000000\n",
            "ESTU_PRGM_DEPARTAMENTO            0.000000\n",
            "ESTU_VALORMATRICULAUNIVERSIDAD    0.907870\n",
            "ESTU_HORASSEMANATRABAJA           4.455884\n",
            "FAMI_ESTRATOVIVIENDA              4.640722\n",
            "FAMI_TIENEINTERNET                3.845343\n",
            "FAMI_EDUCACIONPADRE               3.347004\n",
            "FAMI_EDUCACIONMADRE               3.417184\n",
            "ESTU_PAGOMATRICULAPROPIO          0.938339\n",
            "RENDIMIENTO_GLOBAL                0.000000\n",
            "dtype: float64\n",
            "Columnas eliminadas: Index([], dtype='object')\n"
          ]
        }
      ]
    },
    {
      "cell_type": "markdown",
      "source": [
        "**Inputar valores nulos para las columnas con valores faltantes**"
      ],
      "metadata": {
        "id": "Da9FfKyEtHtm"
      }
    },
    {
      "cell_type": "code",
      "source": [
        "data['ESTU_VALORMATRICULAUNIVERSIDAD'].fillna('Desconocido', inplace=True)\n",
        "data['ESTU_HORASSEMANATRABAJA'].fillna('Desconocido', inplace=True)\n",
        "data['FAMI_ESTRATOVIVIENDA'].fillna(data['FAMI_ESTRATOVIVIENDA'].mode()[0], inplace=True)\n",
        "data['FAMI_TIENEINTERNET'].fillna('Desconocido', inplace=True)\n",
        "data['FAMI_EDUCACIONPADRE'].fillna(data['FAMI_EDUCACIONPADRE'].mode()[0], inplace=True)\n",
        "data['FAMI_EDUCACIONMADRE'].fillna(data['FAMI_EDUCACIONMADRE'].mode()[0], inplace=True)\n",
        "data['ESTU_PAGOMATRICULAPROPIO'].fillna(0, inplace=True)\n"
      ],
      "metadata": {
        "colab": {
          "base_uri": "https://localhost:8080/"
        },
        "id": "dlhUY_hEtjwP",
        "outputId": "a3ec8645-f8c8-408b-bf0d-7c6c7fe89f4b"
      },
      "execution_count": null,
      "outputs": [
        {
          "output_type": "stream",
          "name": "stderr",
          "text": [
            "<ipython-input-9-4d1143fa3003>:1: FutureWarning: A value is trying to be set on a copy of a DataFrame or Series through chained assignment using an inplace method.\n",
            "The behavior will change in pandas 3.0. This inplace method will never work because the intermediate object on which we are setting values always behaves as a copy.\n",
            "\n",
            "For example, when doing 'df[col].method(value, inplace=True)', try using 'df.method({col: value}, inplace=True)' or df[col] = df[col].method(value) instead, to perform the operation inplace on the original object.\n",
            "\n",
            "\n",
            "  data['ESTU_VALORMATRICULAUNIVERSIDAD'].fillna('Desconocido', inplace=True)\n",
            "<ipython-input-9-4d1143fa3003>:2: FutureWarning: A value is trying to be set on a copy of a DataFrame or Series through chained assignment using an inplace method.\n",
            "The behavior will change in pandas 3.0. This inplace method will never work because the intermediate object on which we are setting values always behaves as a copy.\n",
            "\n",
            "For example, when doing 'df[col].method(value, inplace=True)', try using 'df.method({col: value}, inplace=True)' or df[col] = df[col].method(value) instead, to perform the operation inplace on the original object.\n",
            "\n",
            "\n",
            "  data['ESTU_HORASSEMANATRABAJA'].fillna('Desconocido', inplace=True)\n",
            "<ipython-input-9-4d1143fa3003>:3: FutureWarning: A value is trying to be set on a copy of a DataFrame or Series through chained assignment using an inplace method.\n",
            "The behavior will change in pandas 3.0. This inplace method will never work because the intermediate object on which we are setting values always behaves as a copy.\n",
            "\n",
            "For example, when doing 'df[col].method(value, inplace=True)', try using 'df.method({col: value}, inplace=True)' or df[col] = df[col].method(value) instead, to perform the operation inplace on the original object.\n",
            "\n",
            "\n",
            "  data['FAMI_ESTRATOVIVIENDA'].fillna(data['FAMI_ESTRATOVIVIENDA'].mode()[0], inplace=True)\n",
            "<ipython-input-9-4d1143fa3003>:4: FutureWarning: A value is trying to be set on a copy of a DataFrame or Series through chained assignment using an inplace method.\n",
            "The behavior will change in pandas 3.0. This inplace method will never work because the intermediate object on which we are setting values always behaves as a copy.\n",
            "\n",
            "For example, when doing 'df[col].method(value, inplace=True)', try using 'df.method({col: value}, inplace=True)' or df[col] = df[col].method(value) instead, to perform the operation inplace on the original object.\n",
            "\n",
            "\n",
            "  data['FAMI_TIENEINTERNET'].fillna('Desconocido', inplace=True)\n",
            "<ipython-input-9-4d1143fa3003>:5: FutureWarning: A value is trying to be set on a copy of a DataFrame or Series through chained assignment using an inplace method.\n",
            "The behavior will change in pandas 3.0. This inplace method will never work because the intermediate object on which we are setting values always behaves as a copy.\n",
            "\n",
            "For example, when doing 'df[col].method(value, inplace=True)', try using 'df.method({col: value}, inplace=True)' or df[col] = df[col].method(value) instead, to perform the operation inplace on the original object.\n",
            "\n",
            "\n",
            "  data['FAMI_EDUCACIONPADRE'].fillna(data['FAMI_EDUCACIONPADRE'].mode()[0], inplace=True)\n",
            "<ipython-input-9-4d1143fa3003>:6: FutureWarning: A value is trying to be set on a copy of a DataFrame or Series through chained assignment using an inplace method.\n",
            "The behavior will change in pandas 3.0. This inplace method will never work because the intermediate object on which we are setting values always behaves as a copy.\n",
            "\n",
            "For example, when doing 'df[col].method(value, inplace=True)', try using 'df.method({col: value}, inplace=True)' or df[col] = df[col].method(value) instead, to perform the operation inplace on the original object.\n",
            "\n",
            "\n",
            "  data['FAMI_EDUCACIONMADRE'].fillna(data['FAMI_EDUCACIONMADRE'].mode()[0], inplace=True)\n",
            "<ipython-input-9-4d1143fa3003>:7: FutureWarning: A value is trying to be set on a copy of a DataFrame or Series through chained assignment using an inplace method.\n",
            "The behavior will change in pandas 3.0. This inplace method will never work because the intermediate object on which we are setting values always behaves as a copy.\n",
            "\n",
            "For example, when doing 'df[col].method(value, inplace=True)', try using 'df.method({col: value}, inplace=True)' or df[col] = df[col].method(value) instead, to perform the operation inplace on the original object.\n",
            "\n",
            "\n",
            "  data['ESTU_PAGOMATRICULAPROPIO'].fillna(0, inplace=True)\n"
          ]
        }
      ]
    },
    {
      "cell_type": "code",
      "source": [
        "# Explorar la cantidad de valores faltantes por columna\n",
        "missing_values = data.isnull().sum()\n",
        "print(\"Valores faltantes:\\n\", missing_values)"
      ],
      "metadata": {
        "colab": {
          "base_uri": "https://localhost:8080/"
        },
        "id": "E-kyGONJuZm9",
        "outputId": "27659646-ca95-487f-ecca-98d877c45e31"
      },
      "execution_count": null,
      "outputs": [
        {
          "output_type": "stream",
          "name": "stdout",
          "text": [
            "Valores faltantes:\n",
            " ID                                0\n",
            "PERIODO                           0\n",
            "ESTU_PRGM_ACADEMICO               0\n",
            "ESTU_PRGM_DEPARTAMENTO            0\n",
            "ESTU_VALORMATRICULAUNIVERSIDAD    0\n",
            "ESTU_HORASSEMANATRABAJA           0\n",
            "FAMI_ESTRATOVIVIENDA              0\n",
            "FAMI_TIENEINTERNET                0\n",
            "FAMI_EDUCACIONPADRE               0\n",
            "FAMI_EDUCACIONMADRE               0\n",
            "ESTU_PAGOMATRICULAPROPIO          0\n",
            "RENDIMIENTO_GLOBAL                0\n",
            "dtype: int64\n"
          ]
        }
      ]
    },
    {
      "cell_type": "markdown",
      "source": [
        "## **Variables con orden representativo**"
      ],
      "metadata": {
        "id": "NmAZPhVT0S01"
      }
    },
    {
      "cell_type": "markdown",
      "source": [
        "**Aplicar OrdinalEncoder a variables con orden representativo**"
      ],
      "metadata": {
        "id": "2ktNoW_MMVcr"
      }
    },
    {
      "cell_type": "code",
      "source": [
        "# Crear un diccionario con las categorías ordenadas, ya considerando 'Desconocido'\n",
        "ordinal_categories = {\n",
        "    'ESTU_VALORMATRICULAUNIVERSIDAD': ['Desconocido', 'No pagó matrícula', 'Menos de 500 mil',\n",
        "                                       'Entre 500 mil y menos de 1 millón', 'Entre 1 millón y menos de 2.5 millones',\n",
        "                                       'Entre 2.5 millones y menos de 4 millones', 'Entre 4 millones y menos de 5.5 millones',\n",
        "                                       'Entre 5.5 millones y menos de 7 millones', 'Más de 7 millones'],\n",
        "    'ESTU_HORASSEMANATRABAJA': ['Desconocido', '0', 'Menos de 10 horas', 'Entre 11 y 20 horas',\n",
        "                                'Entre 21 y 30 horas', 'Más de 30 horas'],\n",
        "    'FAMI_ESTRATOVIVIENDA': ['Sin Estrato', 'Estrato 1', 'Estrato 2', 'Estrato 3',\n",
        "                             'Estrato 4', 'Estrato 5', 'Estrato 6'],\n",
        "    'RENDIMIENTO_GLOBAL': ['bajo', 'medio-bajo', 'medio-alto', 'alto']\n",
        "}\n",
        "\n",
        "# Aplicar OrdinalEncoder con manejo de valores desconocidos\n",
        "ordinal_enc = OrdinalEncoder(categories=[ordinal_categories[col] for col in ordinal_categories.keys()],\n",
        "                             handle_unknown='use_encoded_value', unknown_value=-1)\n",
        "\n",
        "# Transformar las columnas que necesitan codificación ordinal\n",
        "data[list(ordinal_categories.keys())] = ordinal_enc.fit_transform(data[list(ordinal_categories.keys())])\n",
        "\n",
        "# Verificar los resultados\n",
        "print(data[list(ordinal_categories.keys())].head())\n",
        "print(data['ESTU_VALORMATRICULAUNIVERSIDAD'].value_counts())\n",
        "print(data['ESTU_HORASSEMANATRABAJA'].value_counts())\n",
        "print(data['FAMI_ESTRATOVIVIENDA'].value_counts())\n",
        "print(data['RENDIMIENTO_GLOBAL'].value_counts())"
      ],
      "metadata": {
        "colab": {
          "base_uri": "https://localhost:8080/"
        },
        "id": "Jvwy4cwAqKGH",
        "outputId": "f3a5ef74-f242-4c70-dd28-98a274ca4161"
      },
      "execution_count": null,
      "outputs": [
        {
          "output_type": "stream",
          "name": "stdout",
          "text": [
            "   ESTU_VALORMATRICULAUNIVERSIDAD  ESTU_HORASSEMANATRABAJA  \\\n",
            "0                             7.0                      2.0   \n",
            "1                             5.0                      1.0   \n",
            "2                             5.0                      5.0   \n",
            "3                             6.0                      1.0   \n",
            "4                             5.0                      4.0   \n",
            "\n",
            "   FAMI_ESTRATOVIVIENDA  RENDIMIENTO_GLOBAL  \n",
            "0                   3.0                 2.0  \n",
            "1                   3.0                 0.0  \n",
            "2                   3.0                 0.0  \n",
            "3                   4.0                 3.0  \n",
            "4                   3.0                 1.0  \n",
            "ESTU_VALORMATRICULAUNIVERSIDAD\n",
            "4.0    204048\n",
            "5.0    127430\n",
            "2.0     80263\n",
            "3.0     78704\n",
            "6.0     69736\n",
            "8.0     68014\n",
            "7.0     38490\n",
            "1.0     19528\n",
            "0.0      6287\n",
            "Name: count, dtype: int64\n",
            "ESTU_HORASSEMANATRABAJA\n",
            "5.0    249352\n",
            "1.0    116550\n",
            "3.0    115857\n",
            "4.0     92693\n",
            "2.0     87191\n",
            "0.0     30857\n",
            "Name: count, dtype: int64\n",
            "FAMI_ESTRATOVIVIENDA\n",
            "2.0    264808\n",
            "3.0    210685\n",
            "1.0    111991\n",
            "4.0     65514\n",
            "5.0     23608\n",
            "6.0     12605\n",
            "0.0      3289\n",
            "Name: count, dtype: int64\n",
            "RENDIMIENTO_GLOBAL\n",
            "3.0    175619\n",
            "0.0    172987\n",
            "1.0    172275\n",
            "2.0    171619\n",
            "Name: count, dtype: int64\n"
          ]
        }
      ]
    },
    {
      "cell_type": "markdown",
      "source": [
        "## **Codificar variables booleanas**"
      ],
      "metadata": {
        "id": "vXVzWEyOz7wE"
      }
    },
    {
      "cell_type": "code",
      "source": [
        "# Convertir las columnas booleanas a formato numérico (0 y 1)\n",
        "data['ESTU_PAGOMATRICULAPROPIO'] = data['ESTU_PAGOMATRICULAPROPIO'].replace({'Si': 1, 'No': 0})\n",
        "\n",
        "# Verificar que ahora los valores sean numéricos\n",
        "data['ESTU_PAGOMATRICULAPROPIO'] = data['ESTU_PAGOMATRICULAPROPIO'].astype(int)\n",
        "\n",
        "# Verificar los resultados\n",
        "print(data[['ESTU_PAGOMATRICULAPROPIO']].head())\n",
        "print(data['ESTU_PAGOMATRICULAPROPIO'].value_counts())"
      ],
      "metadata": {
        "colab": {
          "base_uri": "https://localhost:8080/"
        },
        "id": "p1aFedaj0Id_",
        "outputId": "2e40c670-2c34-40ff-e024-467b72c8743d"
      },
      "execution_count": null,
      "outputs": [
        {
          "output_type": "stream",
          "name": "stdout",
          "text": [
            "   ESTU_PAGOMATRICULAPROPIO\n",
            "0                         0\n",
            "1                         0\n",
            "2                         0\n",
            "3                         0\n",
            "4                         0\n",
            "ESTU_PAGOMATRICULAPROPIO\n",
            "0    388699\n",
            "1    303801\n",
            "Name: count, dtype: int64\n"
          ]
        },
        {
          "output_type": "stream",
          "name": "stderr",
          "text": [
            "<ipython-input-12-4216059937db>:2: FutureWarning: Downcasting behavior in `replace` is deprecated and will be removed in a future version. To retain the old behavior, explicitly call `result.infer_objects(copy=False)`. To opt-in to the future behavior, set `pd.set_option('future.no_silent_downcasting', True)`\n",
            "  data['ESTU_PAGOMATRICULAPROPIO'] = data['ESTU_PAGOMATRICULAPROPIO'].replace({'Si': 1, 'No': 0})\n"
          ]
        }
      ]
    },
    {
      "cell_type": "markdown",
      "source": [
        "## **Variables sin orden representativo**"
      ],
      "metadata": {
        "id": "mx6O09By0MEp"
      }
    },
    {
      "cell_type": "markdown",
      "source": [
        "**Agrupación de valores de 'ESTU_PRGM_DEPARTAMENTO' a otros**"
      ],
      "metadata": {
        "id": "p4TCsBE0KhyK"
      }
    },
    {
      "cell_type": "code",
      "source": [
        "# Frecuencia de cada departamento\n",
        "department_counts = data['ESTU_PRGM_DEPARTAMENTO'].value_counts()\n",
        "\n",
        "# Definir el umbral\n",
        "threshold = 5000  # Cambiar a 1000 si no se quiere perder representacion\n",
        "\n",
        "# Agrupar los departamentos con menos de 'threshold' estudiantes en \"Otros\"\n",
        "data['ESTU_PRGM_DEPARTAMENTO_AGRUPADO'] = data['ESTU_PRGM_DEPARTAMENTO'].apply(\n",
        "    lambda x: x if department_counts[x] >= threshold else 'Otros'\n",
        ")\n",
        "\n",
        "# Eliminar la columna original de departamentos no agrupados\n",
        "data.drop('ESTU_PRGM_DEPARTAMENTO', axis=1, inplace=True)\n",
        "\n",
        "# Verificar los resultados\n",
        "print(data['ESTU_PRGM_DEPARTAMENTO_AGRUPADO'].value_counts())\n"
      ],
      "metadata": {
        "colab": {
          "base_uri": "https://localhost:8080/"
        },
        "id": "2y3QlgHWGzN5",
        "outputId": "b4dad682-c516-44f3-dc7e-1ef3c0df2f38"
      },
      "execution_count": null,
      "outputs": [
        {
          "output_type": "stream",
          "name": "stdout",
          "text": [
            "ESTU_PRGM_DEPARTAMENTO_AGRUPADO\n",
            "BOGOTÁ             282159\n",
            "ANTIOQUIA           83607\n",
            "VALLE               44588\n",
            "ATLANTICO           41020\n",
            "SANTANDER           28828\n",
            "NORTE SANTANDER     22588\n",
            "BOLIVAR             20629\n",
            "Otros               15063\n",
            "BOYACA              14048\n",
            "CUNDINAMARCA        14018\n",
            "NARIÑO              13454\n",
            "RISARALDA           12679\n",
            "CORDOBA             12188\n",
            "TOLIMA              11921\n",
            "CALDAS              11640\n",
            "CAUCA               11471\n",
            "HUILA                9995\n",
            "MAGDALENA            9512\n",
            "SUCRE                8674\n",
            "CESAR                8279\n",
            "QUINDIO              8229\n",
            "META                 7910\n",
            "Name: count, dtype: int64\n"
          ]
        }
      ]
    },
    {
      "cell_type": "markdown",
      "source": [
        "**Aplicar OneHotEncoding a variables sin orden representativo**"
      ],
      "metadata": {
        "id": "efG5iYh6LHUz"
      }
    },
    {
      "cell_type": "code",
      "source": [
        "# Definir las columnas que necesitan OneHotEncoding\n",
        "columns_to_encode = ['ESTU_PRGM_DEPARTAMENTO_AGRUPADO', 'FAMI_TIENEINTERNET', 'FAMI_EDUCACIONPADRE', 'FAMI_EDUCACIONMADRE']\n",
        "\n",
        "# Crear el OneHotEncoder\n",
        "onehot_enc = OneHotEncoder(drop='first', sparse_output=False)  # Eliminar la primera categoría para evitar multicolinealidad\n",
        "\n",
        "# Aplicar el encoder a las columnas seleccionadas\n",
        "encoded_columns = onehot_enc.fit_transform(data[columns_to_encode])\n",
        "\n",
        "# Crear un DataFrame con las nuevas columnas codificadas\n",
        "encoded_df = pd.DataFrame(encoded_columns, columns=onehot_enc.get_feature_names_out(columns_to_encode))\n",
        "\n",
        "# Concatenar las nuevas columnas con el DataFrame original (eliminando las originales)\n",
        "data = pd.concat([data.drop(columns_to_encode, axis=1), encoded_df], axis=1)\n",
        "\n",
        "# Verificar los resultados\n",
        "print(data.head())\n"
      ],
      "metadata": {
        "colab": {
          "base_uri": "https://localhost:8080/"
        },
        "id": "kI82s6WS0RsJ",
        "outputId": "77e1cda4-368d-414e-8b0a-6dd7158fc09d"
      },
      "execution_count": null,
      "outputs": [
        {
          "output_type": "stream",
          "name": "stdout",
          "text": [
            "       ID  PERIODO         ESTU_PRGM_ACADEMICO  \\\n",
            "0  904256    20212                  ENFERMERIA   \n",
            "1  645256    20212                     DERECHO   \n",
            "2  308367    20203       MERCADEO Y PUBLICIDAD   \n",
            "3  470353    20195  ADMINISTRACION DE EMPRESAS   \n",
            "4  989032    20212                  PSICOLOGIA   \n",
            "\n",
            "   ESTU_VALORMATRICULAUNIVERSIDAD  ESTU_HORASSEMANATRABAJA  \\\n",
            "0                             7.0                      2.0   \n",
            "1                             5.0                      1.0   \n",
            "2                             5.0                      5.0   \n",
            "3                             6.0                      1.0   \n",
            "4                             5.0                      4.0   \n",
            "\n",
            "   FAMI_ESTRATOVIVIENDA  ESTU_PAGOMATRICULAPROPIO  RENDIMIENTO_GLOBAL  \\\n",
            "0                   3.0                         0                 2.0   \n",
            "1                   3.0                         0                 0.0   \n",
            "2                   3.0                         0                 0.0   \n",
            "3                   4.0                         0                 3.0   \n",
            "4                   3.0                         0                 1.0   \n",
            "\n",
            "   ESTU_PRGM_DEPARTAMENTO_AGRUPADO_ATLANTICO  \\\n",
            "0                                        0.0   \n",
            "1                                        1.0   \n",
            "2                                        0.0   \n",
            "3                                        0.0   \n",
            "4                                        0.0   \n",
            "\n",
            "   ESTU_PRGM_DEPARTAMENTO_AGRUPADO_BOGOTÁ  ...  FAMI_EDUCACIONMADRE_Ninguno  \\\n",
            "0                                     1.0  ...                          0.0   \n",
            "1                                     0.0  ...                          0.0   \n",
            "2                                     1.0  ...                          0.0   \n",
            "3                                     0.0  ...                          0.0   \n",
            "4                                     0.0  ...                          0.0   \n",
            "\n",
            "   FAMI_EDUCACIONMADRE_No Aplica  FAMI_EDUCACIONMADRE_No sabe  \\\n",
            "0                            0.0                          0.0   \n",
            "1                            0.0                          0.0   \n",
            "2                            0.0                          0.0   \n",
            "3                            0.0                          0.0   \n",
            "4                            0.0                          0.0   \n",
            "\n",
            "   FAMI_EDUCACIONMADRE_Postgrado  FAMI_EDUCACIONMADRE_Primaria completa  \\\n",
            "0                            1.0                                    0.0   \n",
            "1                            0.0                                    0.0   \n",
            "2                            0.0                                    0.0   \n",
            "3                            0.0                                    0.0   \n",
            "4                            0.0                                    1.0   \n",
            "\n",
            "   FAMI_EDUCACIONMADRE_Primaria incompleta  \\\n",
            "0                                      0.0   \n",
            "1                                      0.0   \n",
            "2                                      0.0   \n",
            "3                                      0.0   \n",
            "4                                      0.0   \n",
            "\n",
            "   FAMI_EDUCACIONMADRE_Secundaria (Bachillerato) completa  \\\n",
            "0                                                0.0        \n",
            "1                                                0.0        \n",
            "2                                                1.0        \n",
            "3                                                1.0        \n",
            "4                                                0.0        \n",
            "\n",
            "   FAMI_EDUCACIONMADRE_Secundaria (Bachillerato) incompleta  \\\n",
            "0                                                0.0          \n",
            "1                                                0.0          \n",
            "2                                                0.0          \n",
            "3                                                0.0          \n",
            "4                                                0.0          \n",
            "\n",
            "   FAMI_EDUCACIONMADRE_Técnica o tecnológica completa  \\\n",
            "0                                                0.0    \n",
            "1                                                0.0    \n",
            "2                                                0.0    \n",
            "3                                                0.0    \n",
            "4                                                0.0    \n",
            "\n",
            "   FAMI_EDUCACIONMADRE_Técnica o tecnológica incompleta  \n",
            "0                                                0.0     \n",
            "1                                                1.0     \n",
            "2                                                0.0     \n",
            "3                                                0.0     \n",
            "4                                                0.0     \n",
            "\n",
            "[5 rows x 53 columns]\n"
          ]
        }
      ]
    }
  ]
}