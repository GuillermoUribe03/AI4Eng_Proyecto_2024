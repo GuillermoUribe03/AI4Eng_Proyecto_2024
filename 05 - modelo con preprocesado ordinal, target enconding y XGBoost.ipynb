{
  "nbformat": 4,
  "nbformat_minor": 0,
  "metadata": {
    "colab": {
      "provenance": [],
      "machine_shape": "hm",
      "gpuType": "L4"
    },
    "kernelspec": {
      "name": "python3",
      "display_name": "Python 3"
    },
    "language_info": {
      "name": "python"
    },
    "accelerator": "GPU"
  },
  "cells": [
    {
      "cell_type": "markdown",
      "source": [
        "### Instrucciones para Descargar los Datos desde Kaggle\n",
        "\n",
        "Para descargar los archivos de datos de la competencia de Kaggle directamente a este entorno de Google Colab, sigue los siguientes pasos:\n",
        "\n",
        "1. **Generar el archivo `kaggle.json`**:\n",
        "   - Ve a [Kaggle](https://www.kaggle.com).\n",
        "   - Inicia sesión con tu cuenta.\n",
        "   - Dirígete a tu perfil (haciendo clic en tu imagen de perfil en la esquina superior derecha) y selecciona **Settings**.\n",
        "   - Desplázate hasta la sección **API** y haz clic en **Create New API Token**.\n",
        "   - Esto descargará un archivo `kaggle.json` en tu computadora. Este archivo contiene las credenciales necesarias para acceder a la API de Kaggle.\n",
        "\n",
        "2. **Subir el archivo `kaggle.json` a Google Colab**:\n",
        "   - Ejecuta la celda que te pide subir archivos.\n",
        "   - Selecciona el archivo `kaggle.json` que descargaste de Kaggle.\n",
        "\n",
        "3. **Ejecutar el código para descargar los datos**:\n",
        "   - Una vez que hayas subido el archivo `kaggle.json`, las siguientes celdas descargarán y descomprimirán automáticamente los archivos de la competencia desde Kaggle."
      ],
      "metadata": {
        "id": "EKQ9hcIZZxMW"
      }
    },
    {
      "cell_type": "markdown",
      "source": [
        "**Subir el archivo `kaggle.json`**:"
      ],
      "metadata": {
        "id": "m7G4OaRtZ46W"
      }
    },
    {
      "cell_type": "code",
      "execution_count": null,
      "metadata": {
        "colab": {
          "base_uri": "https://localhost:8080/",
          "height": 318
        },
        "id": "wfzeEBiNZeX0",
        "outputId": "a963d804-674d-4ed8-beb5-508587da5b07"
      },
      "outputs": [
        {
          "output_type": "stream",
          "name": "stdout",
          "text": [
            "Requirement already satisfied: kaggle in /usr/local/lib/python3.11/dist-packages (1.6.17)\n",
            "Requirement already satisfied: six>=1.10 in /usr/local/lib/python3.11/dist-packages (from kaggle) (1.17.0)\n",
            "Requirement already satisfied: certifi>=2023.7.22 in /usr/local/lib/python3.11/dist-packages (from kaggle) (2025.1.31)\n",
            "Requirement already satisfied: python-dateutil in /usr/local/lib/python3.11/dist-packages (from kaggle) (2.8.2)\n",
            "Requirement already satisfied: requests in /usr/local/lib/python3.11/dist-packages (from kaggle) (2.32.3)\n",
            "Requirement already satisfied: tqdm in /usr/local/lib/python3.11/dist-packages (from kaggle) (4.67.1)\n",
            "Requirement already satisfied: python-slugify in /usr/local/lib/python3.11/dist-packages (from kaggle) (8.0.4)\n",
            "Requirement already satisfied: urllib3 in /usr/local/lib/python3.11/dist-packages (from kaggle) (2.3.0)\n",
            "Requirement already satisfied: bleach in /usr/local/lib/python3.11/dist-packages (from kaggle) (6.2.0)\n",
            "Requirement already satisfied: webencodings in /usr/local/lib/python3.11/dist-packages (from bleach->kaggle) (0.5.1)\n",
            "Requirement already satisfied: text-unidecode>=1.3 in /usr/local/lib/python3.11/dist-packages (from python-slugify->kaggle) (1.3)\n",
            "Requirement already satisfied: charset-normalizer<4,>=2 in /usr/local/lib/python3.11/dist-packages (from requests->kaggle) (3.4.1)\n",
            "Requirement already satisfied: idna<4,>=2.5 in /usr/local/lib/python3.11/dist-packages (from requests->kaggle) (3.10)\n"
          ]
        },
        {
          "output_type": "display_data",
          "data": {
            "text/plain": [
              "<IPython.core.display.HTML object>"
            ],
            "text/html": [
              "\n",
              "     <input type=\"file\" id=\"files-aa600d8d-66e5-40bc-864b-56b09a432466\" name=\"files[]\" multiple disabled\n",
              "        style=\"border:none\" />\n",
              "     <output id=\"result-aa600d8d-66e5-40bc-864b-56b09a432466\">\n",
              "      Upload widget is only available when the cell has been executed in the\n",
              "      current browser session. Please rerun this cell to enable.\n",
              "      </output>\n",
              "      <script>// Copyright 2017 Google LLC\n",
              "//\n",
              "// Licensed under the Apache License, Version 2.0 (the \"License\");\n",
              "// you may not use this file except in compliance with the License.\n",
              "// You may obtain a copy of the License at\n",
              "//\n",
              "//      http://www.apache.org/licenses/LICENSE-2.0\n",
              "//\n",
              "// Unless required by applicable law or agreed to in writing, software\n",
              "// distributed under the License is distributed on an \"AS IS\" BASIS,\n",
              "// WITHOUT WARRANTIES OR CONDITIONS OF ANY KIND, either express or implied.\n",
              "// See the License for the specific language governing permissions and\n",
              "// limitations under the License.\n",
              "\n",
              "/**\n",
              " * @fileoverview Helpers for google.colab Python module.\n",
              " */\n",
              "(function(scope) {\n",
              "function span(text, styleAttributes = {}) {\n",
              "  const element = document.createElement('span');\n",
              "  element.textContent = text;\n",
              "  for (const key of Object.keys(styleAttributes)) {\n",
              "    element.style[key] = styleAttributes[key];\n",
              "  }\n",
              "  return element;\n",
              "}\n",
              "\n",
              "// Max number of bytes which will be uploaded at a time.\n",
              "const MAX_PAYLOAD_SIZE = 100 * 1024;\n",
              "\n",
              "function _uploadFiles(inputId, outputId) {\n",
              "  const steps = uploadFilesStep(inputId, outputId);\n",
              "  const outputElement = document.getElementById(outputId);\n",
              "  // Cache steps on the outputElement to make it available for the next call\n",
              "  // to uploadFilesContinue from Python.\n",
              "  outputElement.steps = steps;\n",
              "\n",
              "  return _uploadFilesContinue(outputId);\n",
              "}\n",
              "\n",
              "// This is roughly an async generator (not supported in the browser yet),\n",
              "// where there are multiple asynchronous steps and the Python side is going\n",
              "// to poll for completion of each step.\n",
              "// This uses a Promise to block the python side on completion of each step,\n",
              "// then passes the result of the previous step as the input to the next step.\n",
              "function _uploadFilesContinue(outputId) {\n",
              "  const outputElement = document.getElementById(outputId);\n",
              "  const steps = outputElement.steps;\n",
              "\n",
              "  const next = steps.next(outputElement.lastPromiseValue);\n",
              "  return Promise.resolve(next.value.promise).then((value) => {\n",
              "    // Cache the last promise value to make it available to the next\n",
              "    // step of the generator.\n",
              "    outputElement.lastPromiseValue = value;\n",
              "    return next.value.response;\n",
              "  });\n",
              "}\n",
              "\n",
              "/**\n",
              " * Generator function which is called between each async step of the upload\n",
              " * process.\n",
              " * @param {string} inputId Element ID of the input file picker element.\n",
              " * @param {string} outputId Element ID of the output display.\n",
              " * @return {!Iterable<!Object>} Iterable of next steps.\n",
              " */\n",
              "function* uploadFilesStep(inputId, outputId) {\n",
              "  const inputElement = document.getElementById(inputId);\n",
              "  inputElement.disabled = false;\n",
              "\n",
              "  const outputElement = document.getElementById(outputId);\n",
              "  outputElement.innerHTML = '';\n",
              "\n",
              "  const pickedPromise = new Promise((resolve) => {\n",
              "    inputElement.addEventListener('change', (e) => {\n",
              "      resolve(e.target.files);\n",
              "    });\n",
              "  });\n",
              "\n",
              "  const cancel = document.createElement('button');\n",
              "  inputElement.parentElement.appendChild(cancel);\n",
              "  cancel.textContent = 'Cancel upload';\n",
              "  const cancelPromise = new Promise((resolve) => {\n",
              "    cancel.onclick = () => {\n",
              "      resolve(null);\n",
              "    };\n",
              "  });\n",
              "\n",
              "  // Wait for the user to pick the files.\n",
              "  const files = yield {\n",
              "    promise: Promise.race([pickedPromise, cancelPromise]),\n",
              "    response: {\n",
              "      action: 'starting',\n",
              "    }\n",
              "  };\n",
              "\n",
              "  cancel.remove();\n",
              "\n",
              "  // Disable the input element since further picks are not allowed.\n",
              "  inputElement.disabled = true;\n",
              "\n",
              "  if (!files) {\n",
              "    return {\n",
              "      response: {\n",
              "        action: 'complete',\n",
              "      }\n",
              "    };\n",
              "  }\n",
              "\n",
              "  for (const file of files) {\n",
              "    const li = document.createElement('li');\n",
              "    li.append(span(file.name, {fontWeight: 'bold'}));\n",
              "    li.append(span(\n",
              "        `(${file.type || 'n/a'}) - ${file.size} bytes, ` +\n",
              "        `last modified: ${\n",
              "            file.lastModifiedDate ? file.lastModifiedDate.toLocaleDateString() :\n",
              "                                    'n/a'} - `));\n",
              "    const percent = span('0% done');\n",
              "    li.appendChild(percent);\n",
              "\n",
              "    outputElement.appendChild(li);\n",
              "\n",
              "    const fileDataPromise = new Promise((resolve) => {\n",
              "      const reader = new FileReader();\n",
              "      reader.onload = (e) => {\n",
              "        resolve(e.target.result);\n",
              "      };\n",
              "      reader.readAsArrayBuffer(file);\n",
              "    });\n",
              "    // Wait for the data to be ready.\n",
              "    let fileData = yield {\n",
              "      promise: fileDataPromise,\n",
              "      response: {\n",
              "        action: 'continue',\n",
              "      }\n",
              "    };\n",
              "\n",
              "    // Use a chunked sending to avoid message size limits. See b/62115660.\n",
              "    let position = 0;\n",
              "    do {\n",
              "      const length = Math.min(fileData.byteLength - position, MAX_PAYLOAD_SIZE);\n",
              "      const chunk = new Uint8Array(fileData, position, length);\n",
              "      position += length;\n",
              "\n",
              "      const base64 = btoa(String.fromCharCode.apply(null, chunk));\n",
              "      yield {\n",
              "        response: {\n",
              "          action: 'append',\n",
              "          file: file.name,\n",
              "          data: base64,\n",
              "        },\n",
              "      };\n",
              "\n",
              "      let percentDone = fileData.byteLength === 0 ?\n",
              "          100 :\n",
              "          Math.round((position / fileData.byteLength) * 100);\n",
              "      percent.textContent = `${percentDone}% done`;\n",
              "\n",
              "    } while (position < fileData.byteLength);\n",
              "  }\n",
              "\n",
              "  // All done.\n",
              "  yield {\n",
              "    response: {\n",
              "      action: 'complete',\n",
              "    }\n",
              "  };\n",
              "}\n",
              "\n",
              "scope.google = scope.google || {};\n",
              "scope.google.colab = scope.google.colab || {};\n",
              "scope.google.colab._files = {\n",
              "  _uploadFiles,\n",
              "  _uploadFilesContinue,\n",
              "};\n",
              "})(self);\n",
              "</script> "
            ]
          },
          "metadata": {}
        },
        {
          "output_type": "stream",
          "name": "stdout",
          "text": [
            "Saving kaggle.json to kaggle.json\n"
          ]
        }
      ],
      "source": [
        "!pip install kaggle\n",
        "\n",
        "# Solicitar el archivo kaggle.json\n",
        "from google.colab import files\n",
        "files.upload()  # Subir el archivo kaggle.json\n",
        "\n",
        "# Crear el directorio .kaggle y mover el archivo kaggle.json\n",
        "!mkdir -p ~/.kaggle\n",
        "!mv kaggle.json ~/.kaggle/\n",
        "!chmod 600 ~/.kaggle/kaggle.json"
      ]
    },
    {
      "cell_type": "markdown",
      "source": [
        "**Código para descargar los datos**:\n"
      ],
      "metadata": {
        "id": "jrUeSS9aZ5ws"
      }
    },
    {
      "cell_type": "code",
      "source": [
        "# Descargar los datos\n",
        "!kaggle competitions download -c udea-ai4eng-20242\n",
        "\n",
        "# Descomprimir los archivos descargados\n",
        "!unzip udea-ai4eng-20242.zip"
      ],
      "metadata": {
        "colab": {
          "base_uri": "https://localhost:8080/"
        },
        "id": "asM0KxI8aIR2",
        "outputId": "0d9acf25-21a1-4ded-e6e0-efb7f9f168b5"
      },
      "execution_count": null,
      "outputs": [
        {
          "output_type": "stream",
          "name": "stdout",
          "text": [
            "Downloading udea-ai4eng-20242.zip to /content\n",
            " 99% 20.0M/20.1M [00:02<00:00, 12.8MB/s]\n",
            "100% 20.1M/20.1M [00:02<00:00, 9.05MB/s]\n",
            "Archive:  udea-ai4eng-20242.zip\n",
            "  inflating: submission_example.csv  \n",
            "  inflating: test.csv                \n",
            "  inflating: train.csv               \n"
          ]
        }
      ]
    },
    {
      "cell_type": "markdown",
      "source": [
        "**Importando librerías**"
      ],
      "metadata": {
        "id": "5aagDUJtZ568"
      }
    },
    {
      "cell_type": "code",
      "source": [
        "# Importar librerías\n",
        "!pip install optuna\n",
        "!pip install category_encoders\n",
        "import pandas as pd\n",
        "import numpy as np\n",
        "import matplotlib.pyplot as plt\n",
        "import seaborn as sns\n",
        "from sklearn.preprocessing import OneHotEncoder, OrdinalEncoder, LabelEncoder\n",
        "from sklearn.feature_selection import SelectKBest, chi2\n",
        "from sklearn.impute import SimpleImputer\n",
        "from category_encoders import TargetEncoder\n",
        "from sklearn.ensemble import RandomForestClassifier\n",
        "from sklearn.metrics import accuracy_score, classification_report, confusion_matrix\n",
        "from sklearn.model_selection import train_test_split, StratifiedKFold\n",
        "from scipy.stats import f_oneway\n",
        "from sklearn.feature_selection import mutual_info_classif\n",
        "from sklearn.model_selection import GridSearchCV\n",
        "import xgboost as xgb\n",
        "import optuna\n",
        "from optuna.samplers import TPESampler\n",
        "optuna.logging.set_verbosity(optuna.logging.WARNING)"
      ],
      "metadata": {
        "id": "8vHRXhsAaI0e",
        "colab": {
          "base_uri": "https://localhost:8080/"
        },
        "outputId": "021ef24b-0f3d-40d0-e679-5670dfed18eb"
      },
      "execution_count": null,
      "outputs": [
        {
          "output_type": "stream",
          "name": "stdout",
          "text": [
            "Collecting optuna\n",
            "  Downloading optuna-4.2.1-py3-none-any.whl.metadata (17 kB)\n",
            "Collecting alembic>=1.5.0 (from optuna)\n",
            "  Downloading alembic-1.14.1-py3-none-any.whl.metadata (7.4 kB)\n",
            "Collecting colorlog (from optuna)\n",
            "  Downloading colorlog-6.9.0-py3-none-any.whl.metadata (10 kB)\n",
            "Requirement already satisfied: numpy in /usr/local/lib/python3.11/dist-packages (from optuna) (1.26.4)\n",
            "Requirement already satisfied: packaging>=20.0 in /usr/local/lib/python3.11/dist-packages (from optuna) (24.2)\n",
            "Requirement already satisfied: sqlalchemy>=1.4.2 in /usr/local/lib/python3.11/dist-packages (from optuna) (2.0.37)\n",
            "Requirement already satisfied: tqdm in /usr/local/lib/python3.11/dist-packages (from optuna) (4.67.1)\n",
            "Requirement already satisfied: PyYAML in /usr/local/lib/python3.11/dist-packages (from optuna) (6.0.2)\n",
            "Collecting Mako (from alembic>=1.5.0->optuna)\n",
            "  Downloading Mako-1.3.9-py3-none-any.whl.metadata (2.9 kB)\n",
            "Requirement already satisfied: typing-extensions>=4 in /usr/local/lib/python3.11/dist-packages (from alembic>=1.5.0->optuna) (4.12.2)\n",
            "Requirement already satisfied: greenlet!=0.4.17 in /usr/local/lib/python3.11/dist-packages (from sqlalchemy>=1.4.2->optuna) (3.1.1)\n",
            "Requirement already satisfied: MarkupSafe>=0.9.2 in /usr/local/lib/python3.11/dist-packages (from Mako->alembic>=1.5.0->optuna) (3.0.2)\n",
            "Downloading optuna-4.2.1-py3-none-any.whl (383 kB)\n",
            "\u001b[2K   \u001b[90m━━━━━━━━━━━━━━━━━━━━━━━━━━━━━━━━━━━━━━━━\u001b[0m \u001b[32m383.6/383.6 kB\u001b[0m \u001b[31m35.2 MB/s\u001b[0m eta \u001b[36m0:00:00\u001b[0m\n",
            "\u001b[?25hDownloading alembic-1.14.1-py3-none-any.whl (233 kB)\n",
            "\u001b[2K   \u001b[90m━━━━━━━━━━━━━━━━━━━━━━━━━━━━━━━━━━━━━━━━\u001b[0m \u001b[32m233.6/233.6 kB\u001b[0m \u001b[31m26.7 MB/s\u001b[0m eta \u001b[36m0:00:00\u001b[0m\n",
            "\u001b[?25hDownloading colorlog-6.9.0-py3-none-any.whl (11 kB)\n",
            "Downloading Mako-1.3.9-py3-none-any.whl (78 kB)\n",
            "\u001b[2K   \u001b[90m━━━━━━━━━━━━━━━━━━━━━━━━━━━━━━━━━━━━━━━━\u001b[0m \u001b[32m78.5/78.5 kB\u001b[0m \u001b[31m9.4 MB/s\u001b[0m eta \u001b[36m0:00:00\u001b[0m\n",
            "\u001b[?25hInstalling collected packages: Mako, colorlog, alembic, optuna\n",
            "Successfully installed Mako-1.3.9 alembic-1.14.1 colorlog-6.9.0 optuna-4.2.1\n",
            "Collecting category_encoders\n",
            "  Downloading category_encoders-2.8.0-py3-none-any.whl.metadata (7.9 kB)\n",
            "Requirement already satisfied: numpy>=1.14.0 in /usr/local/lib/python3.11/dist-packages (from category_encoders) (1.26.4)\n",
            "Requirement already satisfied: pandas>=1.0.5 in /usr/local/lib/python3.11/dist-packages (from category_encoders) (2.2.2)\n",
            "Requirement already satisfied: patsy>=0.5.1 in /usr/local/lib/python3.11/dist-packages (from category_encoders) (1.0.1)\n",
            "Requirement already satisfied: scikit-learn>=1.6.0 in /usr/local/lib/python3.11/dist-packages (from category_encoders) (1.6.1)\n",
            "Requirement already satisfied: scipy>=1.0.0 in /usr/local/lib/python3.11/dist-packages (from category_encoders) (1.13.1)\n",
            "Requirement already satisfied: statsmodels>=0.9.0 in /usr/local/lib/python3.11/dist-packages (from category_encoders) (0.14.4)\n",
            "Requirement already satisfied: python-dateutil>=2.8.2 in /usr/local/lib/python3.11/dist-packages (from pandas>=1.0.5->category_encoders) (2.8.2)\n",
            "Requirement already satisfied: pytz>=2020.1 in /usr/local/lib/python3.11/dist-packages (from pandas>=1.0.5->category_encoders) (2025.1)\n",
            "Requirement already satisfied: tzdata>=2022.7 in /usr/local/lib/python3.11/dist-packages (from pandas>=1.0.5->category_encoders) (2025.1)\n",
            "Requirement already satisfied: joblib>=1.2.0 in /usr/local/lib/python3.11/dist-packages (from scikit-learn>=1.6.0->category_encoders) (1.4.2)\n",
            "Requirement already satisfied: threadpoolctl>=3.1.0 in /usr/local/lib/python3.11/dist-packages (from scikit-learn>=1.6.0->category_encoders) (3.5.0)\n",
            "Requirement already satisfied: packaging>=21.3 in /usr/local/lib/python3.11/dist-packages (from statsmodels>=0.9.0->category_encoders) (24.2)\n",
            "Requirement already satisfied: six>=1.5 in /usr/local/lib/python3.11/dist-packages (from python-dateutil>=2.8.2->pandas>=1.0.5->category_encoders) (1.17.0)\n",
            "Downloading category_encoders-2.8.0-py3-none-any.whl (85 kB)\n",
            "\u001b[2K   \u001b[90m━━━━━━━━━━━━━━━━━━━━━━━━━━━━━━━━━━━━━━━━\u001b[0m \u001b[32m85.7/85.7 kB\u001b[0m \u001b[31m10.2 MB/s\u001b[0m eta \u001b[36m0:00:00\u001b[0m\n",
            "\u001b[?25hInstalling collected packages: category_encoders\n",
            "Successfully installed category_encoders-2.8.0\n"
          ]
        }
      ]
    },
    {
      "cell_type": "markdown",
      "source": [
        "# **Carga y visualización del dataset**"
      ],
      "metadata": {
        "id": "EA539VtSa5jr"
      }
    },
    {
      "cell_type": "code",
      "source": [
        "# Cargar los datos\n",
        "data = pd.read_csv('train.csv')\n",
        "\n",
        "# Mostrar los primeros registros\n",
        "data.head()"
      ],
      "metadata": {
        "colab": {
          "base_uri": "https://localhost:8080/",
          "height": 313
        },
        "id": "RWKs7Xu0amSh",
        "outputId": "9c48d21f-e698-4c66-a465-83967daa463b"
      },
      "execution_count": null,
      "outputs": [
        {
          "output_type": "execute_result",
          "data": {
            "text/plain": [
              "       ID  PERIODO         ESTU_PRGM_ACADEMICO ESTU_PRGM_DEPARTAMENTO  \\\n",
              "0  904256    20212                  ENFERMERIA                 BOGOTÁ   \n",
              "1  645256    20212                     DERECHO              ATLANTICO   \n",
              "2  308367    20203       MERCADEO Y PUBLICIDAD                 BOGOTÁ   \n",
              "3  470353    20195  ADMINISTRACION DE EMPRESAS              SANTANDER   \n",
              "4  989032    20212                  PSICOLOGIA              ANTIOQUIA   \n",
              "\n",
              "             ESTU_VALORMATRICULAUNIVERSIDAD ESTU_HORASSEMANATRABAJA  \\\n",
              "0  Entre 5.5 millones y menos de 7 millones       Menos de 10 horas   \n",
              "1  Entre 2.5 millones y menos de 4 millones                       0   \n",
              "2  Entre 2.5 millones y menos de 4 millones         Más de 30 horas   \n",
              "3  Entre 4 millones y menos de 5.5 millones                       0   \n",
              "4  Entre 2.5 millones y menos de 4 millones     Entre 21 y 30 horas   \n",
              "\n",
              "  FAMI_ESTRATOVIVIENDA FAMI_TIENEINTERNET                 FAMI_EDUCACIONPADRE  \\\n",
              "0            Estrato 3                 Si    Técnica o tecnológica incompleta   \n",
              "1            Estrato 3                 No      Técnica o tecnológica completa   \n",
              "2            Estrato 3                 Si  Secundaria (Bachillerato) completa   \n",
              "3            Estrato 4                 Si                             No sabe   \n",
              "4            Estrato 3                 Si                   Primaria completa   \n",
              "\n",
              "                  FAMI_EDUCACIONMADRE ESTU_PAGOMATRICULAPROPIO  \\\n",
              "0                           Postgrado                       No   \n",
              "1    Técnica o tecnológica incompleta                       No   \n",
              "2  Secundaria (Bachillerato) completa                       No   \n",
              "3  Secundaria (Bachillerato) completa                       No   \n",
              "4                   Primaria completa                       No   \n",
              "\n",
              "  RENDIMIENTO_GLOBAL  \n",
              "0         medio-alto  \n",
              "1               bajo  \n",
              "2               bajo  \n",
              "3               alto  \n",
              "4         medio-bajo  "
            ],
            "text/html": [
              "\n",
              "  <div id=\"df-25510250-d9f5-4c4a-b86c-462ad05f9ade\" class=\"colab-df-container\">\n",
              "    <div>\n",
              "<style scoped>\n",
              "    .dataframe tbody tr th:only-of-type {\n",
              "        vertical-align: middle;\n",
              "    }\n",
              "\n",
              "    .dataframe tbody tr th {\n",
              "        vertical-align: top;\n",
              "    }\n",
              "\n",
              "    .dataframe thead th {\n",
              "        text-align: right;\n",
              "    }\n",
              "</style>\n",
              "<table border=\"1\" class=\"dataframe\">\n",
              "  <thead>\n",
              "    <tr style=\"text-align: right;\">\n",
              "      <th></th>\n",
              "      <th>ID</th>\n",
              "      <th>PERIODO</th>\n",
              "      <th>ESTU_PRGM_ACADEMICO</th>\n",
              "      <th>ESTU_PRGM_DEPARTAMENTO</th>\n",
              "      <th>ESTU_VALORMATRICULAUNIVERSIDAD</th>\n",
              "      <th>ESTU_HORASSEMANATRABAJA</th>\n",
              "      <th>FAMI_ESTRATOVIVIENDA</th>\n",
              "      <th>FAMI_TIENEINTERNET</th>\n",
              "      <th>FAMI_EDUCACIONPADRE</th>\n",
              "      <th>FAMI_EDUCACIONMADRE</th>\n",
              "      <th>ESTU_PAGOMATRICULAPROPIO</th>\n",
              "      <th>RENDIMIENTO_GLOBAL</th>\n",
              "    </tr>\n",
              "  </thead>\n",
              "  <tbody>\n",
              "    <tr>\n",
              "      <th>0</th>\n",
              "      <td>904256</td>\n",
              "      <td>20212</td>\n",
              "      <td>ENFERMERIA</td>\n",
              "      <td>BOGOTÁ</td>\n",
              "      <td>Entre 5.5 millones y menos de 7 millones</td>\n",
              "      <td>Menos de 10 horas</td>\n",
              "      <td>Estrato 3</td>\n",
              "      <td>Si</td>\n",
              "      <td>Técnica o tecnológica incompleta</td>\n",
              "      <td>Postgrado</td>\n",
              "      <td>No</td>\n",
              "      <td>medio-alto</td>\n",
              "    </tr>\n",
              "    <tr>\n",
              "      <th>1</th>\n",
              "      <td>645256</td>\n",
              "      <td>20212</td>\n",
              "      <td>DERECHO</td>\n",
              "      <td>ATLANTICO</td>\n",
              "      <td>Entre 2.5 millones y menos de 4 millones</td>\n",
              "      <td>0</td>\n",
              "      <td>Estrato 3</td>\n",
              "      <td>No</td>\n",
              "      <td>Técnica o tecnológica completa</td>\n",
              "      <td>Técnica o tecnológica incompleta</td>\n",
              "      <td>No</td>\n",
              "      <td>bajo</td>\n",
              "    </tr>\n",
              "    <tr>\n",
              "      <th>2</th>\n",
              "      <td>308367</td>\n",
              "      <td>20203</td>\n",
              "      <td>MERCADEO Y PUBLICIDAD</td>\n",
              "      <td>BOGOTÁ</td>\n",
              "      <td>Entre 2.5 millones y menos de 4 millones</td>\n",
              "      <td>Más de 30 horas</td>\n",
              "      <td>Estrato 3</td>\n",
              "      <td>Si</td>\n",
              "      <td>Secundaria (Bachillerato) completa</td>\n",
              "      <td>Secundaria (Bachillerato) completa</td>\n",
              "      <td>No</td>\n",
              "      <td>bajo</td>\n",
              "    </tr>\n",
              "    <tr>\n",
              "      <th>3</th>\n",
              "      <td>470353</td>\n",
              "      <td>20195</td>\n",
              "      <td>ADMINISTRACION DE EMPRESAS</td>\n",
              "      <td>SANTANDER</td>\n",
              "      <td>Entre 4 millones y menos de 5.5 millones</td>\n",
              "      <td>0</td>\n",
              "      <td>Estrato 4</td>\n",
              "      <td>Si</td>\n",
              "      <td>No sabe</td>\n",
              "      <td>Secundaria (Bachillerato) completa</td>\n",
              "      <td>No</td>\n",
              "      <td>alto</td>\n",
              "    </tr>\n",
              "    <tr>\n",
              "      <th>4</th>\n",
              "      <td>989032</td>\n",
              "      <td>20212</td>\n",
              "      <td>PSICOLOGIA</td>\n",
              "      <td>ANTIOQUIA</td>\n",
              "      <td>Entre 2.5 millones y menos de 4 millones</td>\n",
              "      <td>Entre 21 y 30 horas</td>\n",
              "      <td>Estrato 3</td>\n",
              "      <td>Si</td>\n",
              "      <td>Primaria completa</td>\n",
              "      <td>Primaria completa</td>\n",
              "      <td>No</td>\n",
              "      <td>medio-bajo</td>\n",
              "    </tr>\n",
              "  </tbody>\n",
              "</table>\n",
              "</div>\n",
              "    <div class=\"colab-df-buttons\">\n",
              "\n",
              "  <div class=\"colab-df-container\">\n",
              "    <button class=\"colab-df-convert\" onclick=\"convertToInteractive('df-25510250-d9f5-4c4a-b86c-462ad05f9ade')\"\n",
              "            title=\"Convert this dataframe to an interactive table.\"\n",
              "            style=\"display:none;\">\n",
              "\n",
              "  <svg xmlns=\"http://www.w3.org/2000/svg\" height=\"24px\" viewBox=\"0 -960 960 960\">\n",
              "    <path d=\"M120-120v-720h720v720H120Zm60-500h600v-160H180v160Zm220 220h160v-160H400v160Zm0 220h160v-160H400v160ZM180-400h160v-160H180v160Zm440 0h160v-160H620v160ZM180-180h160v-160H180v160Zm440 0h160v-160H620v160Z\"/>\n",
              "  </svg>\n",
              "    </button>\n",
              "\n",
              "  <style>\n",
              "    .colab-df-container {\n",
              "      display:flex;\n",
              "      gap: 12px;\n",
              "    }\n",
              "\n",
              "    .colab-df-convert {\n",
              "      background-color: #E8F0FE;\n",
              "      border: none;\n",
              "      border-radius: 50%;\n",
              "      cursor: pointer;\n",
              "      display: none;\n",
              "      fill: #1967D2;\n",
              "      height: 32px;\n",
              "      padding: 0 0 0 0;\n",
              "      width: 32px;\n",
              "    }\n",
              "\n",
              "    .colab-df-convert:hover {\n",
              "      background-color: #E2EBFA;\n",
              "      box-shadow: 0px 1px 2px rgba(60, 64, 67, 0.3), 0px 1px 3px 1px rgba(60, 64, 67, 0.15);\n",
              "      fill: #174EA6;\n",
              "    }\n",
              "\n",
              "    .colab-df-buttons div {\n",
              "      margin-bottom: 4px;\n",
              "    }\n",
              "\n",
              "    [theme=dark] .colab-df-convert {\n",
              "      background-color: #3B4455;\n",
              "      fill: #D2E3FC;\n",
              "    }\n",
              "\n",
              "    [theme=dark] .colab-df-convert:hover {\n",
              "      background-color: #434B5C;\n",
              "      box-shadow: 0px 1px 3px 1px rgba(0, 0, 0, 0.15);\n",
              "      filter: drop-shadow(0px 1px 2px rgba(0, 0, 0, 0.3));\n",
              "      fill: #FFFFFF;\n",
              "    }\n",
              "  </style>\n",
              "\n",
              "    <script>\n",
              "      const buttonEl =\n",
              "        document.querySelector('#df-25510250-d9f5-4c4a-b86c-462ad05f9ade button.colab-df-convert');\n",
              "      buttonEl.style.display =\n",
              "        google.colab.kernel.accessAllowed ? 'block' : 'none';\n",
              "\n",
              "      async function convertToInteractive(key) {\n",
              "        const element = document.querySelector('#df-25510250-d9f5-4c4a-b86c-462ad05f9ade');\n",
              "        const dataTable =\n",
              "          await google.colab.kernel.invokeFunction('convertToInteractive',\n",
              "                                                    [key], {});\n",
              "        if (!dataTable) return;\n",
              "\n",
              "        const docLinkHtml = 'Like what you see? Visit the ' +\n",
              "          '<a target=\"_blank\" href=https://colab.research.google.com/notebooks/data_table.ipynb>data table notebook</a>'\n",
              "          + ' to learn more about interactive tables.';\n",
              "        element.innerHTML = '';\n",
              "        dataTable['output_type'] = 'display_data';\n",
              "        await google.colab.output.renderOutput(dataTable, element);\n",
              "        const docLink = document.createElement('div');\n",
              "        docLink.innerHTML = docLinkHtml;\n",
              "        element.appendChild(docLink);\n",
              "      }\n",
              "    </script>\n",
              "  </div>\n",
              "\n",
              "\n",
              "<div id=\"df-7ecc2b77-75e2-477b-8f15-7983a66e859b\">\n",
              "  <button class=\"colab-df-quickchart\" onclick=\"quickchart('df-7ecc2b77-75e2-477b-8f15-7983a66e859b')\"\n",
              "            title=\"Suggest charts\"\n",
              "            style=\"display:none;\">\n",
              "\n",
              "<svg xmlns=\"http://www.w3.org/2000/svg\" height=\"24px\"viewBox=\"0 0 24 24\"\n",
              "     width=\"24px\">\n",
              "    <g>\n",
              "        <path d=\"M19 3H5c-1.1 0-2 .9-2 2v14c0 1.1.9 2 2 2h14c1.1 0 2-.9 2-2V5c0-1.1-.9-2-2-2zM9 17H7v-7h2v7zm4 0h-2V7h2v10zm4 0h-2v-4h2v4z\"/>\n",
              "    </g>\n",
              "</svg>\n",
              "  </button>\n",
              "\n",
              "<style>\n",
              "  .colab-df-quickchart {\n",
              "      --bg-color: #E8F0FE;\n",
              "      --fill-color: #1967D2;\n",
              "      --hover-bg-color: #E2EBFA;\n",
              "      --hover-fill-color: #174EA6;\n",
              "      --disabled-fill-color: #AAA;\n",
              "      --disabled-bg-color: #DDD;\n",
              "  }\n",
              "\n",
              "  [theme=dark] .colab-df-quickchart {\n",
              "      --bg-color: #3B4455;\n",
              "      --fill-color: #D2E3FC;\n",
              "      --hover-bg-color: #434B5C;\n",
              "      --hover-fill-color: #FFFFFF;\n",
              "      --disabled-bg-color: #3B4455;\n",
              "      --disabled-fill-color: #666;\n",
              "  }\n",
              "\n",
              "  .colab-df-quickchart {\n",
              "    background-color: var(--bg-color);\n",
              "    border: none;\n",
              "    border-radius: 50%;\n",
              "    cursor: pointer;\n",
              "    display: none;\n",
              "    fill: var(--fill-color);\n",
              "    height: 32px;\n",
              "    padding: 0;\n",
              "    width: 32px;\n",
              "  }\n",
              "\n",
              "  .colab-df-quickchart:hover {\n",
              "    background-color: var(--hover-bg-color);\n",
              "    box-shadow: 0 1px 2px rgba(60, 64, 67, 0.3), 0 1px 3px 1px rgba(60, 64, 67, 0.15);\n",
              "    fill: var(--button-hover-fill-color);\n",
              "  }\n",
              "\n",
              "  .colab-df-quickchart-complete:disabled,\n",
              "  .colab-df-quickchart-complete:disabled:hover {\n",
              "    background-color: var(--disabled-bg-color);\n",
              "    fill: var(--disabled-fill-color);\n",
              "    box-shadow: none;\n",
              "  }\n",
              "\n",
              "  .colab-df-spinner {\n",
              "    border: 2px solid var(--fill-color);\n",
              "    border-color: transparent;\n",
              "    border-bottom-color: var(--fill-color);\n",
              "    animation:\n",
              "      spin 1s steps(1) infinite;\n",
              "  }\n",
              "\n",
              "  @keyframes spin {\n",
              "    0% {\n",
              "      border-color: transparent;\n",
              "      border-bottom-color: var(--fill-color);\n",
              "      border-left-color: var(--fill-color);\n",
              "    }\n",
              "    20% {\n",
              "      border-color: transparent;\n",
              "      border-left-color: var(--fill-color);\n",
              "      border-top-color: var(--fill-color);\n",
              "    }\n",
              "    30% {\n",
              "      border-color: transparent;\n",
              "      border-left-color: var(--fill-color);\n",
              "      border-top-color: var(--fill-color);\n",
              "      border-right-color: var(--fill-color);\n",
              "    }\n",
              "    40% {\n",
              "      border-color: transparent;\n",
              "      border-right-color: var(--fill-color);\n",
              "      border-top-color: var(--fill-color);\n",
              "    }\n",
              "    60% {\n",
              "      border-color: transparent;\n",
              "      border-right-color: var(--fill-color);\n",
              "    }\n",
              "    80% {\n",
              "      border-color: transparent;\n",
              "      border-right-color: var(--fill-color);\n",
              "      border-bottom-color: var(--fill-color);\n",
              "    }\n",
              "    90% {\n",
              "      border-color: transparent;\n",
              "      border-bottom-color: var(--fill-color);\n",
              "    }\n",
              "  }\n",
              "</style>\n",
              "\n",
              "  <script>\n",
              "    async function quickchart(key) {\n",
              "      const quickchartButtonEl =\n",
              "        document.querySelector('#' + key + ' button');\n",
              "      quickchartButtonEl.disabled = true;  // To prevent multiple clicks.\n",
              "      quickchartButtonEl.classList.add('colab-df-spinner');\n",
              "      try {\n",
              "        const charts = await google.colab.kernel.invokeFunction(\n",
              "            'suggestCharts', [key], {});\n",
              "      } catch (error) {\n",
              "        console.error('Error during call to suggestCharts:', error);\n",
              "      }\n",
              "      quickchartButtonEl.classList.remove('colab-df-spinner');\n",
              "      quickchartButtonEl.classList.add('colab-df-quickchart-complete');\n",
              "    }\n",
              "    (() => {\n",
              "      let quickchartButtonEl =\n",
              "        document.querySelector('#df-7ecc2b77-75e2-477b-8f15-7983a66e859b button');\n",
              "      quickchartButtonEl.style.display =\n",
              "        google.colab.kernel.accessAllowed ? 'block' : 'none';\n",
              "    })();\n",
              "  </script>\n",
              "</div>\n",
              "\n",
              "    </div>\n",
              "  </div>\n"
            ],
            "application/vnd.google.colaboratory.intrinsic+json": {
              "type": "dataframe",
              "variable_name": "data"
            }
          },
          "metadata": {},
          "execution_count": 4
        }
      ]
    },
    {
      "cell_type": "markdown",
      "source": [
        "**Información del dataset**"
      ],
      "metadata": {
        "id": "xBueV3Qtgvnv"
      }
    },
    {
      "cell_type": "code",
      "source": [
        "# Mostrar tipos de datos y valores nulos\n",
        "data.info()"
      ],
      "metadata": {
        "colab": {
          "base_uri": "https://localhost:8080/"
        },
        "id": "ExwG2znRgddZ",
        "outputId": "c03c114e-725f-48a6-899f-c0938915d3e1"
      },
      "execution_count": null,
      "outputs": [
        {
          "output_type": "stream",
          "name": "stdout",
          "text": [
            "<class 'pandas.core.frame.DataFrame'>\n",
            "RangeIndex: 692500 entries, 0 to 692499\n",
            "Data columns (total 12 columns):\n",
            " #   Column                          Non-Null Count   Dtype \n",
            "---  ------                          --------------   ----- \n",
            " 0   ID                              692500 non-null  int64 \n",
            " 1   PERIODO                         692500 non-null  int64 \n",
            " 2   ESTU_PRGM_ACADEMICO             692500 non-null  object\n",
            " 3   ESTU_PRGM_DEPARTAMENTO          692500 non-null  object\n",
            " 4   ESTU_VALORMATRICULAUNIVERSIDAD  686213 non-null  object\n",
            " 5   ESTU_HORASSEMANATRABAJA         661643 non-null  object\n",
            " 6   FAMI_ESTRATOVIVIENDA            660363 non-null  object\n",
            " 7   FAMI_TIENEINTERNET              665871 non-null  object\n",
            " 8   FAMI_EDUCACIONPADRE             669322 non-null  object\n",
            " 9   FAMI_EDUCACIONMADRE             668836 non-null  object\n",
            " 10  ESTU_PAGOMATRICULAPROPIO        686002 non-null  object\n",
            " 11  RENDIMIENTO_GLOBAL              692500 non-null  object\n",
            "dtypes: int64(2), object(10)\n",
            "memory usage: 63.4+ MB\n"
          ]
        }
      ]
    },
    {
      "cell_type": "markdown",
      "source": [
        "**Identificar valores faltantes**"
      ],
      "metadata": {
        "id": "ZV8FS-1Hb3aI"
      }
    },
    {
      "cell_type": "code",
      "source": [
        "# Explorar la cantidad de valores faltantes por columna\n",
        "missing_values = data.isnull().sum()\n",
        "print(\"Valores faltantes:\\n\", missing_values)"
      ],
      "metadata": {
        "colab": {
          "base_uri": "https://localhost:8080/"
        },
        "id": "SJNV5Ivkawdo",
        "outputId": "759a4921-32f4-4173-b3d0-3006656990ef"
      },
      "execution_count": null,
      "outputs": [
        {
          "output_type": "stream",
          "name": "stdout",
          "text": [
            "Valores faltantes:\n",
            " ID                                    0\n",
            "PERIODO                               0\n",
            "ESTU_PRGM_ACADEMICO                   0\n",
            "ESTU_PRGM_DEPARTAMENTO                0\n",
            "ESTU_VALORMATRICULAUNIVERSIDAD     6287\n",
            "ESTU_HORASSEMANATRABAJA           30857\n",
            "FAMI_ESTRATOVIVIENDA              32137\n",
            "FAMI_TIENEINTERNET                26629\n",
            "FAMI_EDUCACIONPADRE               23178\n",
            "FAMI_EDUCACIONMADRE               23664\n",
            "ESTU_PAGOMATRICULAPROPIO           6498\n",
            "RENDIMIENTO_GLOBAL                    0\n",
            "dtype: int64\n"
          ]
        }
      ]
    },
    {
      "cell_type": "markdown",
      "source": [
        "#**Limpieza y preprocesamiento de datos**"
      ],
      "metadata": {
        "id": "G0II00D4dUlq"
      }
    },
    {
      "cell_type": "code",
      "source": [
        "# Crear una copia del dataset original\n",
        "data_cleaned = data.copy()\n",
        "\n",
        "# Eliminar la columna ID del dataset\n",
        "if 'ID' in data_cleaned.columns:\n",
        "    data_cleaned = data_cleaned.drop(columns=['ID'])\n",
        "    print(\"Columna 'ID' eliminada correctamente.\")\n",
        "else:\n",
        "    print(\"La columna 'ID' ya fue eliminada.\")"
      ],
      "metadata": {
        "colab": {
          "base_uri": "https://localhost:8080/"
        },
        "id": "SNvPPInLZHUL",
        "outputId": "f62c1ae5-0a0f-450f-cf6e-e5287483c8a4"
      },
      "execution_count": null,
      "outputs": [
        {
          "output_type": "stream",
          "name": "stdout",
          "text": [
            "Columna 'ID' eliminada correctamente.\n"
          ]
        }
      ]
    },
    {
      "cell_type": "markdown",
      "source": [
        "**Porcentaje de valores faltantes**"
      ],
      "metadata": {
        "id": "Bbr2qhJgjD4X"
      }
    },
    {
      "cell_type": "code",
      "source": [
        "# Calcular el porcentaje de valores faltantes por columna\n",
        "missing_percentage = data_cleaned.isnull().sum() / len(data_cleaned) * 100\n",
        "print(missing_percentage)"
      ],
      "metadata": {
        "colab": {
          "base_uri": "https://localhost:8080/"
        },
        "id": "DsXRu0F3jcX9",
        "outputId": "579dbec8-79b7-4ef0-c47b-2d0109b2b4f7"
      },
      "execution_count": null,
      "outputs": [
        {
          "output_type": "stream",
          "name": "stdout",
          "text": [
            "PERIODO                           0.000000\n",
            "ESTU_PRGM_ACADEMICO               0.000000\n",
            "ESTU_PRGM_DEPARTAMENTO            0.000000\n",
            "ESTU_VALORMATRICULAUNIVERSIDAD    0.907870\n",
            "ESTU_HORASSEMANATRABAJA           4.455884\n",
            "FAMI_ESTRATOVIVIENDA              4.640722\n",
            "FAMI_TIENEINTERNET                3.845343\n",
            "FAMI_EDUCACIONPADRE               3.347004\n",
            "FAMI_EDUCACIONMADRE               3.417184\n",
            "ESTU_PAGOMATRICULAPROPIO          0.938339\n",
            "RENDIMIENTO_GLOBAL                0.000000\n",
            "dtype: float64\n"
          ]
        }
      ]
    },
    {
      "cell_type": "markdown",
      "source": [
        "**Inputar valores nulos para las columnas con valores faltantes**\n",
        "\n",
        "Se procede a realizar la imputacion utilizando la moda para variables categoricas como:\n",
        "\n",
        "*   ESTU_VALORMATRICULAUNIVERSIDAD\n",
        "*   FAMI_ESTRATOVIVIENDA\n",
        "*   FAMI_TIENEINTERNET\n",
        "*   FAMI_EDUCACIONPADRE\n",
        "*   FAMI_EDUCACIONMADRE\n",
        "\n",
        "Ademas, se procede a imputar con valores representativos de acuerdo al contexto de sus valores unicos, variables categoricas como:\n",
        "        \n",
        "\n",
        "*   ESTU_PAGOMATRICULAPROPIO\n",
        "*   ESTU_HORASSEMANATRABAJA\n"
      ],
      "metadata": {
        "id": "Da9FfKyEtHtm"
      }
    },
    {
      "cell_type": "code",
      "source": [
        "# Imputar valores categóricos con la moda (opción más frecuente)\n",
        "for col in [\"ESTU_VALORMATRICULAUNIVERSIDAD\", \"FAMI_ESTRATOVIVIENDA\", \"FAMI_TIENEINTERNET\",\n",
        "            \"FAMI_EDUCACIONPADRE\", \"FAMI_EDUCACIONMADRE\"]:\n",
        "    data_cleaned.loc[:, col] = data_cleaned[col].fillna(data_cleaned[col].mode()[0])\n",
        "\n",
        "# Imputar con valores representativos de acuerdo a su contexto\n",
        "data_cleaned.loc[:, \"ESTU_PAGOMATRICULAPROPIO\"] = data_cleaned[\"ESTU_PAGOMATRICULAPROPIO\"].fillna(\"No\")\n",
        "data_cleaned.loc[:, \"ESTU_HORASSEMANATRABAJA\"] = data_cleaned[\"ESTU_HORASSEMANATRABAJA\"].fillna(\"0\")\n",
        "\n",
        "print(\"Valores faltantes imputados correctamente.\")"
      ],
      "metadata": {
        "colab": {
          "base_uri": "https://localhost:8080/"
        },
        "id": "dlhUY_hEtjwP",
        "outputId": "249f499a-7501-41dd-c22e-561b5f76125f"
      },
      "execution_count": null,
      "outputs": [
        {
          "output_type": "stream",
          "name": "stdout",
          "text": [
            "Valores faltantes imputados correctamente.\n"
          ]
        }
      ]
    },
    {
      "cell_type": "markdown",
      "source": [
        "**Verificar que no hayan valores nulos**"
      ],
      "metadata": {
        "id": "CWFmyJ66wxih"
      }
    },
    {
      "cell_type": "code",
      "source": [
        "# Explorar la cantidad de valores faltantes por columna\n",
        "missing_values = data_cleaned.isnull().sum()\n",
        "print(\"Valores faltantes:\\n\", missing_values)"
      ],
      "metadata": {
        "colab": {
          "base_uri": "https://localhost:8080/"
        },
        "id": "E-kyGONJuZm9",
        "outputId": "ac61eccc-6a15-4832-fa13-0de041f713d7"
      },
      "execution_count": null,
      "outputs": [
        {
          "output_type": "stream",
          "name": "stdout",
          "text": [
            "Valores faltantes:\n",
            " PERIODO                           0\n",
            "ESTU_PRGM_ACADEMICO               0\n",
            "ESTU_PRGM_DEPARTAMENTO            0\n",
            "ESTU_VALORMATRICULAUNIVERSIDAD    0\n",
            "ESTU_HORASSEMANATRABAJA           0\n",
            "FAMI_ESTRATOVIVIENDA              0\n",
            "FAMI_TIENEINTERNET                0\n",
            "FAMI_EDUCACIONPADRE               0\n",
            "FAMI_EDUCACIONMADRE               0\n",
            "ESTU_PAGOMATRICULAPROPIO          0\n",
            "RENDIMIENTO_GLOBAL                0\n",
            "dtype: int64\n"
          ]
        }
      ]
    },
    {
      "cell_type": "markdown",
      "source": [
        "## **Codificacion de variables con orden representativo aplicando OrdinalEnconder**"
      ],
      "metadata": {
        "id": "NmAZPhVT0S01"
      }
    },
    {
      "cell_type": "markdown",
      "source": [
        "**Aplicar OrdinalEncoder a la variable objetivo (RENDIMIENTO_GLOBAL) con un orden representativo**"
      ],
      "metadata": {
        "id": "jNCAvFBCjod_"
      }
    },
    {
      "cell_type": "code",
      "source": [
        "# Definir el orden correcto de la variable objetivo\n",
        "rendimiento_order = [['bajo', 'medio-bajo', 'medio-alto', 'alto']]\n",
        "\n",
        "# Aplicar OrdinalEncoder con el orden correcto definido\n",
        "ordinal_encoder = OrdinalEncoder(categories=rendimiento_order)\n",
        "data_cleaned['RENDIMIENTO_GLOBAL'] = ordinal_encoder.fit_transform(data_cleaned[['RENDIMIENTO_GLOBAL']])\n",
        "\n",
        "# Convertir a entero\n",
        "data_cleaned['RENDIMIENTO_GLOBAL'] = data_cleaned['RENDIMIENTO_GLOBAL'].astype(int)\n",
        "\n",
        "# Verificar resultados\n",
        "print(f\"valores unicos: {data_cleaned['RENDIMIENTO_GLOBAL'].unique()}\")"
      ],
      "metadata": {
        "colab": {
          "base_uri": "https://localhost:8080/"
        },
        "id": "dijCips6iURg",
        "outputId": "7b0e706e-61cc-42b8-f2f3-d6f1758c0936"
      },
      "execution_count": null,
      "outputs": [
        {
          "output_type": "stream",
          "name": "stdout",
          "text": [
            "valores unicos: [2 0 3 1]\n"
          ]
        }
      ]
    },
    {
      "cell_type": "markdown",
      "source": [
        "**Aplicar OrdinalEncoder a variables con orden representativo**"
      ],
      "metadata": {
        "id": "2ktNoW_MMVcr"
      }
    },
    {
      "cell_type": "code",
      "source": [
        "# Crear un diccionario con el orden correcto de las variables categoricas ya inputadas y que tienen un orden logico\n",
        "ordinal_categories = {\n",
        "    'ESTU_VALORMATRICULAUNIVERSIDAD': ['No pagó matrícula', 'Menos de 500 mil',\n",
        "                                       'Entre 500 mil y menos de 1 millón', 'Entre 1 millón y menos de 2.5 millones',\n",
        "                                       'Entre 2.5 millones y menos de 4 millones', 'Entre 4 millones y menos de 5.5 millones',\n",
        "                                       'Entre 5.5 millones y menos de 7 millones', 'Más de 7 millones'],\n",
        "    'ESTU_HORASSEMANATRABAJA': ['0', 'Menos de 10 horas', 'Entre 11 y 20 horas',\n",
        "                                'Entre 21 y 30 horas', 'Más de 30 horas'],\n",
        "    'FAMI_ESTRATOVIVIENDA': ['Sin Estrato', 'Estrato 1', 'Estrato 2', 'Estrato 3',\n",
        "                             'Estrato 4', 'Estrato 5', 'Estrato 6']\n",
        "}\n",
        "\n",
        "# Aplicar OrdinalEncoder a las variables categoricas\n",
        "ordinal_enc = OrdinalEncoder(categories=[ordinal_categories[col] for col in ordinal_categories.keys()],\n",
        "                             handle_unknown='use_encoded_value', unknown_value=-1)\n",
        "\n",
        "# Transformar las columnas que necesitan codificación ordinal\n",
        "data_cleaned[list(ordinal_categories.keys())] = ordinal_enc.fit_transform(data_cleaned[list(ordinal_categories.keys())])\n",
        "\n",
        "#Convertir los resultados de los valores unicos codificados a enteros\n",
        "data_cleaned[list(ordinal_categories.keys())] = data_cleaned[list(ordinal_categories.keys())].astype(int)\n",
        "\n",
        "# Verificar los resultados\n",
        "print(f\"valores unicos Valor Matricula: {data_cleaned['ESTU_VALORMATRICULAUNIVERSIDAD'].unique()}\")\n",
        "print(f\"valores unicos Horas Semana Trabaja: {data_cleaned['ESTU_HORASSEMANATRABAJA'].unique()}\")\n",
        "print(f\"valores unicos Estrato Vivienda: {data_cleaned['FAMI_ESTRATOVIVIENDA'].unique()}\")"
      ],
      "metadata": {
        "colab": {
          "base_uri": "https://localhost:8080/"
        },
        "id": "Jvwy4cwAqKGH",
        "outputId": "fc8fa51e-2392-4fba-97b0-54b8bbb66c09"
      },
      "execution_count": null,
      "outputs": [
        {
          "output_type": "stream",
          "name": "stdout",
          "text": [
            "valores unicos Valor Matricula: [6 4 5 7 3 2 1 0]\n",
            "valores unicos Horas Semana Trabaja: [1 0 4 3 2]\n",
            "valores unicos Estrato Vivienda: [3 4 5 2 1 6 0]\n"
          ]
        }
      ]
    },
    {
      "cell_type": "markdown",
      "source": [
        "**Aplicar OrdinalEnconder a la variable (PERIODO) trandola como con orden representativo**"
      ],
      "metadata": {
        "id": "EYvE5hH1K3QV"
      }
    },
    {
      "cell_type": "code",
      "source": [
        "# Definir el orden correcto de los periodos academicos\n",
        "periodo_orden = [[20183, 20184, 20194, 20195, 20196, 20202, 20203, 20212, 20213]]\n",
        "\n",
        "# Aplicar OrdinalEncoder con el orden correcto definido\n",
        "ordinal_encoder = OrdinalEncoder(categories=periodo_orden)\n",
        "data_cleaned[\"PERIODO\"] = ordinal_encoder.fit_transform(data_cleaned[[\"PERIODO\"]])\n",
        "\n",
        "# Convertir a entero\n",
        "data_cleaned['PERIODO'] = data_cleaned['PERIODO'].astype(int)\n",
        "\n",
        "# Verificar transformación\n",
        "print(\"Valores únicos de PERIODO transformados:\", data_cleaned[\"PERIODO\"].unique())"
      ],
      "metadata": {
        "colab": {
          "base_uri": "https://localhost:8080/"
        },
        "id": "mMwhZFS1L1sQ",
        "outputId": "f1a9c0ee-8bff-49fc-c003-fdb3cac7b25a"
      },
      "execution_count": null,
      "outputs": [
        {
          "output_type": "stream",
          "name": "stdout",
          "text": [
            "Valores únicos de PERIODO transformados: [7 6 3 0 2 8 1 5 4]\n"
          ]
        }
      ]
    },
    {
      "cell_type": "markdown",
      "source": [
        "## **Codificacion de variables booleanas aplicando LabelEnconder**"
      ],
      "metadata": {
        "id": "vXVzWEyOz7wE"
      }
    },
    {
      "cell_type": "code",
      "source": [
        "# Crear la instancia LabelEnconder\n",
        "label_encoder = LabelEncoder()\n",
        "\n",
        "# Aplicar la transformacion a las variables booleanas\n",
        "data_cleaned['FAMI_TIENEINTERNET'] = label_encoder.fit_transform(data_cleaned['FAMI_TIENEINTERNET'])\n",
        "data_cleaned['ESTU_PAGOMATRICULAPROPIO'] = label_encoder.fit_transform(data_cleaned['ESTU_PAGOMATRICULAPROPIO'])\n",
        "\n",
        "#Verificar resultados\n",
        "print(f\"valores unicos Tiene Internet: {data_cleaned['FAMI_TIENEINTERNET'].unique()}\")\n",
        "print(f\"valores unicos Pago Matricula Propio: {data_cleaned['ESTU_PAGOMATRICULAPROPIO'].unique()}\")"
      ],
      "metadata": {
        "colab": {
          "base_uri": "https://localhost:8080/"
        },
        "id": "p1aFedaj0Id_",
        "outputId": "c19e1bc8-39f5-4e39-cc7d-fed6858fe7e5"
      },
      "execution_count": null,
      "outputs": [
        {
          "output_type": "stream",
          "name": "stdout",
          "text": [
            "valores unicos Tiene Internet: [1 0]\n",
            "valores unicos Pago Matricula Propio: [0 1]\n"
          ]
        }
      ]
    },
    {
      "cell_type": "markdown",
      "source": [
        "#**Pruebas para evaluar la efectividad del modelo empleando XGBoost**"
      ],
      "metadata": {
        "id": "ICYolTQM-0qK"
      }
    },
    {
      "cell_type": "markdown",
      "source": [
        "**Carga del preprocesado, division en Train-Test y Codificacion con Target Encoding**"
      ],
      "metadata": {
        "id": "dQT8UGkVqsJX"
      }
    },
    {
      "cell_type": "markdown",
      "source": [
        "**Nota:** Para las variables de FAMI_EDUCACIONPADRE, FAMI_EDUCACIONMADRE, ESTU_PRGM_DEPARTAMENTO y ESTU_PRGM_ACADEMICO, se decide codificar aplicando Target Encoding y no OneHotEncoder, debido a que tienen muchas categorias, de esta manera se busca reducir de dimensionalidad del modelo sin perder informacion relevante.\n",
        "\n",
        "Con este metodo se remplaza cada departamento con el promedio del rendimiento global en la respectiva region. De igual manera ocurre con los programas academicos, se remplaza cada programa por el promedio del rendimiento global."
      ],
      "metadata": {
        "id": "skjRoKqurwQr"
      }
    },
    {
      "cell_type": "code",
      "source": [
        "# Cargar los datos preprocesados\n",
        "X = data_cleaned.drop(columns=['RENDIMIENTO_GLOBAL'])\n",
        "y = data_cleaned['RENDIMIENTO_GLOBAL']\n",
        "\n",
        "# Dividir en train y test\n",
        "X_train, X_test, y_train, y_test = train_test_split(X, y, test_size=0.2, random_state=42, stratify=y)\n",
        "\n",
        "# Aplicar Target Encoding solo en Train y transformar Test\n",
        "target_enc = TargetEncoder()\n",
        "for col in [\"FAMI_EDUCACIONPADRE\", \"FAMI_EDUCACIONMADRE\", \"ESTU_PRGM_DEPARTAMENTO\", \"ESTU_PRGM_ACADEMICO\"]:\n",
        "    X_train[col] = target_enc.fit_transform(X_train[col], y_train)\n",
        "    X_test[col] = target_enc.transform(X_test[col])  # Se transforma con los valores aprendidos en Train\n"
      ],
      "metadata": {
        "id": "iKSLJohfVmVv"
      },
      "execution_count": null,
      "outputs": []
    },
    {
      "cell_type": "markdown",
      "source": [
        "**Prueba del modelo XGBoost Base**"
      ],
      "metadata": {
        "id": "L_cEhZbkVrr2"
      }
    },
    {
      "cell_type": "code",
      "source": [
        "# Crear el modelo XGBoost\n",
        "xgb_model = xgb.XGBClassifier(\n",
        "    objective='multi:softmax',  # Clasificación multiclase\n",
        "    num_class=len(np.unique(y)),  # Número de clases\n",
        "    eval_metric='mlogloss',  # Métrica de evaluación\n",
        "    random_state=42,\n",
        "    tree_method=\"hist\",\n",
        "    device=\"cuda\",\n",
        "    n_jobs=-1\n",
        ")\n",
        "\n",
        "# Entrenar el modelo\n",
        "xgb_model.fit(X_train, y_train)\n",
        "\n",
        "# Realizar predicciones\n",
        "y_pred = xgb_model.predict(X_test)\n",
        "\n",
        "# Evaluar el modelo\n",
        "accuracy = accuracy_score(y_test, y_pred)\n",
        "print(\"\\nAccuracy del modelo XGBoost:\", accuracy)\n",
        "\n",
        "# Mostrar métricas detalladas\n",
        "print(\"\\nReporte de Clasificación:\\n\", classification_report(y_test, y_pred))\n",
        "print(\"\\nMatriz de Confusión:\\n\", confusion_matrix(y_test, y_pred))"
      ],
      "metadata": {
        "colab": {
          "base_uri": "https://localhost:8080/"
        },
        "id": "ykeZpkngA0Lb",
        "outputId": "1f526b72-6c35-455c-cfed-67fb606b0319"
      },
      "execution_count": null,
      "outputs": [
        {
          "output_type": "stream",
          "name": "stdout",
          "text": [
            "\n",
            "Accuracy del modelo XGBoost: 0.43767509025270757\n",
            "\n",
            "Reporte de Clasificación:\n",
            "               precision    recall  f1-score   support\n",
            "\n",
            "           0       0.46      0.57      0.51     34597\n",
            "           1       0.34      0.27      0.30     34455\n",
            "           2       0.33      0.27      0.30     34324\n",
            "           3       0.56      0.63      0.59     35124\n",
            "\n",
            "    accuracy                           0.44    138500\n",
            "   macro avg       0.42      0.44      0.43    138500\n",
            "weighted avg       0.42      0.44      0.43    138500\n",
            "\n",
            "\n",
            "Matriz de Confusión:\n",
            " [[19697  7502  4796  2602]\n",
            " [12477  9374  7649  4955]\n",
            " [ 7355  7616  9381  9972]\n",
            " [ 2855  3485  6618 22166]]\n"
          ]
        },
        {
          "output_type": "stream",
          "name": "stderr",
          "text": [
            "/usr/local/lib/python3.11/dist-packages/xgboost/core.py:158: UserWarning: [17:28:07] WARNING: /workspace/src/common/error_msg.cc:58: Falling back to prediction using DMatrix due to mismatched devices. This might lead to higher memory usage and slower performance. XGBoost is running on: cuda:0, while the input data is on: cpu.\n",
            "Potential solutions:\n",
            "- Use a data structure that matches the device ordinal in the booster.\n",
            "- Set the device for booster before call to inplace_predict.\n",
            "\n",
            "This warning will only be shown once.\n",
            "\n",
            "  warnings.warn(smsg, UserWarning)\n"
          ]
        }
      ]
    }
  ]
}