{
  "nbformat": 4,
  "nbformat_minor": 0,
  "metadata": {
    "colab": {
      "provenance": [],
      "machine_shape": "hm",
      "gpuType": "L4"
    },
    "kernelspec": {
      "name": "python3",
      "display_name": "Python 3"
    },
    "language_info": {
      "name": "python"
    },
    "accelerator": "GPU"
  },
  "cells": [
    {
      "cell_type": "markdown",
      "source": [
        "### Instrucciones para Descargar los Datos desde Kaggle\n",
        "\n",
        "Para descargar los archivos de datos de la competencia de Kaggle directamente a este entorno de Google Colab, sigue los siguientes pasos:\n",
        "\n",
        "1. **Generar el archivo `kaggle.json`**:\n",
        "   - Ve a [Kaggle](https://www.kaggle.com).\n",
        "   - Inicia sesión con tu cuenta.\n",
        "   - Dirígete a tu perfil (haciendo clic en tu imagen de perfil en la esquina superior derecha) y selecciona **Settings**.\n",
        "   - Desplázate hasta la sección **API** y haz clic en **Create New API Token**.\n",
        "   - Esto descargará un archivo `kaggle.json` en tu computadora. Este archivo contiene las credenciales necesarias para acceder a la API de Kaggle.\n",
        "\n",
        "2. **Subir el archivo `kaggle.json` a Google Colab**:\n",
        "   - Ejecuta la celda que te pide subir archivos.\n",
        "   - Selecciona el archivo `kaggle.json` que descargaste de Kaggle.\n",
        "\n",
        "3. **Ejecutar el código para descargar los datos**:\n",
        "   - Una vez que hayas subido el archivo `kaggle.json`, las siguientes celdas descargarán y descomprimirán automáticamente los archivos de la competencia desde Kaggle."
      ],
      "metadata": {
        "id": "EKQ9hcIZZxMW"
      }
    },
    {
      "cell_type": "markdown",
      "source": [
        "**Subir el archivo `kaggle.json`**:"
      ],
      "metadata": {
        "id": "m7G4OaRtZ46W"
      }
    },
    {
      "cell_type": "code",
      "execution_count": 1,
      "metadata": {
        "colab": {
          "base_uri": "https://localhost:8080/",
          "height": 298
        },
        "id": "wfzeEBiNZeX0",
        "outputId": "39553d85-5165-48b7-af16-16220cf7ccf2"
      },
      "outputs": [
        {
          "output_type": "stream",
          "name": "stdout",
          "text": [
            "Requirement already satisfied: kaggle in /usr/local/lib/python3.11/dist-packages (1.6.17)\n",
            "Requirement already satisfied: six>=1.10 in /usr/local/lib/python3.11/dist-packages (from kaggle) (1.17.0)\n",
            "Requirement already satisfied: certifi>=2023.7.22 in /usr/local/lib/python3.11/dist-packages (from kaggle) (2025.1.31)\n",
            "Requirement already satisfied: python-dateutil in /usr/local/lib/python3.11/dist-packages (from kaggle) (2.8.2)\n",
            "Requirement already satisfied: requests in /usr/local/lib/python3.11/dist-packages (from kaggle) (2.32.3)\n",
            "Requirement already satisfied: tqdm in /usr/local/lib/python3.11/dist-packages (from kaggle) (4.67.1)\n",
            "Requirement already satisfied: python-slugify in /usr/local/lib/python3.11/dist-packages (from kaggle) (8.0.4)\n",
            "Requirement already satisfied: urllib3 in /usr/local/lib/python3.11/dist-packages (from kaggle) (2.3.0)\n",
            "Requirement already satisfied: bleach in /usr/local/lib/python3.11/dist-packages (from kaggle) (6.2.0)\n",
            "Requirement already satisfied: webencodings in /usr/local/lib/python3.11/dist-packages (from bleach->kaggle) (0.5.1)\n",
            "Requirement already satisfied: text-unidecode>=1.3 in /usr/local/lib/python3.11/dist-packages (from python-slugify->kaggle) (1.3)\n",
            "Requirement already satisfied: charset-normalizer<4,>=2 in /usr/local/lib/python3.11/dist-packages (from requests->kaggle) (3.4.1)\n",
            "Requirement already satisfied: idna<4,>=2.5 in /usr/local/lib/python3.11/dist-packages (from requests->kaggle) (3.10)\n"
          ]
        },
        {
          "output_type": "display_data",
          "data": {
            "text/plain": [
              "<IPython.core.display.HTML object>"
            ],
            "text/html": [
              "\n",
              "     <input type=\"file\" id=\"files-7de35c55-0f19-455e-8369-5ed176858395\" name=\"files[]\" multiple disabled\n",
              "        style=\"border:none\" />\n",
              "     <output id=\"result-7de35c55-0f19-455e-8369-5ed176858395\">\n",
              "      Upload widget is only available when the cell has been executed in the\n",
              "      current browser session. Please rerun this cell to enable.\n",
              "      </output>\n",
              "      <script>// Copyright 2017 Google LLC\n",
              "//\n",
              "// Licensed under the Apache License, Version 2.0 (the \"License\");\n",
              "// you may not use this file except in compliance with the License.\n",
              "// You may obtain a copy of the License at\n",
              "//\n",
              "//      http://www.apache.org/licenses/LICENSE-2.0\n",
              "//\n",
              "// Unless required by applicable law or agreed to in writing, software\n",
              "// distributed under the License is distributed on an \"AS IS\" BASIS,\n",
              "// WITHOUT WARRANTIES OR CONDITIONS OF ANY KIND, either express or implied.\n",
              "// See the License for the specific language governing permissions and\n",
              "// limitations under the License.\n",
              "\n",
              "/**\n",
              " * @fileoverview Helpers for google.colab Python module.\n",
              " */\n",
              "(function(scope) {\n",
              "function span(text, styleAttributes = {}) {\n",
              "  const element = document.createElement('span');\n",
              "  element.textContent = text;\n",
              "  for (const key of Object.keys(styleAttributes)) {\n",
              "    element.style[key] = styleAttributes[key];\n",
              "  }\n",
              "  return element;\n",
              "}\n",
              "\n",
              "// Max number of bytes which will be uploaded at a time.\n",
              "const MAX_PAYLOAD_SIZE = 100 * 1024;\n",
              "\n",
              "function _uploadFiles(inputId, outputId) {\n",
              "  const steps = uploadFilesStep(inputId, outputId);\n",
              "  const outputElement = document.getElementById(outputId);\n",
              "  // Cache steps on the outputElement to make it available for the next call\n",
              "  // to uploadFilesContinue from Python.\n",
              "  outputElement.steps = steps;\n",
              "\n",
              "  return _uploadFilesContinue(outputId);\n",
              "}\n",
              "\n",
              "// This is roughly an async generator (not supported in the browser yet),\n",
              "// where there are multiple asynchronous steps and the Python side is going\n",
              "// to poll for completion of each step.\n",
              "// This uses a Promise to block the python side on completion of each step,\n",
              "// then passes the result of the previous step as the input to the next step.\n",
              "function _uploadFilesContinue(outputId) {\n",
              "  const outputElement = document.getElementById(outputId);\n",
              "  const steps = outputElement.steps;\n",
              "\n",
              "  const next = steps.next(outputElement.lastPromiseValue);\n",
              "  return Promise.resolve(next.value.promise).then((value) => {\n",
              "    // Cache the last promise value to make it available to the next\n",
              "    // step of the generator.\n",
              "    outputElement.lastPromiseValue = value;\n",
              "    return next.value.response;\n",
              "  });\n",
              "}\n",
              "\n",
              "/**\n",
              " * Generator function which is called between each async step of the upload\n",
              " * process.\n",
              " * @param {string} inputId Element ID of the input file picker element.\n",
              " * @param {string} outputId Element ID of the output display.\n",
              " * @return {!Iterable<!Object>} Iterable of next steps.\n",
              " */\n",
              "function* uploadFilesStep(inputId, outputId) {\n",
              "  const inputElement = document.getElementById(inputId);\n",
              "  inputElement.disabled = false;\n",
              "\n",
              "  const outputElement = document.getElementById(outputId);\n",
              "  outputElement.innerHTML = '';\n",
              "\n",
              "  const pickedPromise = new Promise((resolve) => {\n",
              "    inputElement.addEventListener('change', (e) => {\n",
              "      resolve(e.target.files);\n",
              "    });\n",
              "  });\n",
              "\n",
              "  const cancel = document.createElement('button');\n",
              "  inputElement.parentElement.appendChild(cancel);\n",
              "  cancel.textContent = 'Cancel upload';\n",
              "  const cancelPromise = new Promise((resolve) => {\n",
              "    cancel.onclick = () => {\n",
              "      resolve(null);\n",
              "    };\n",
              "  });\n",
              "\n",
              "  // Wait for the user to pick the files.\n",
              "  const files = yield {\n",
              "    promise: Promise.race([pickedPromise, cancelPromise]),\n",
              "    response: {\n",
              "      action: 'starting',\n",
              "    }\n",
              "  };\n",
              "\n",
              "  cancel.remove();\n",
              "\n",
              "  // Disable the input element since further picks are not allowed.\n",
              "  inputElement.disabled = true;\n",
              "\n",
              "  if (!files) {\n",
              "    return {\n",
              "      response: {\n",
              "        action: 'complete',\n",
              "      }\n",
              "    };\n",
              "  }\n",
              "\n",
              "  for (const file of files) {\n",
              "    const li = document.createElement('li');\n",
              "    li.append(span(file.name, {fontWeight: 'bold'}));\n",
              "    li.append(span(\n",
              "        `(${file.type || 'n/a'}) - ${file.size} bytes, ` +\n",
              "        `last modified: ${\n",
              "            file.lastModifiedDate ? file.lastModifiedDate.toLocaleDateString() :\n",
              "                                    'n/a'} - `));\n",
              "    const percent = span('0% done');\n",
              "    li.appendChild(percent);\n",
              "\n",
              "    outputElement.appendChild(li);\n",
              "\n",
              "    const fileDataPromise = new Promise((resolve) => {\n",
              "      const reader = new FileReader();\n",
              "      reader.onload = (e) => {\n",
              "        resolve(e.target.result);\n",
              "      };\n",
              "      reader.readAsArrayBuffer(file);\n",
              "    });\n",
              "    // Wait for the data to be ready.\n",
              "    let fileData = yield {\n",
              "      promise: fileDataPromise,\n",
              "      response: {\n",
              "        action: 'continue',\n",
              "      }\n",
              "    };\n",
              "\n",
              "    // Use a chunked sending to avoid message size limits. See b/62115660.\n",
              "    let position = 0;\n",
              "    do {\n",
              "      const length = Math.min(fileData.byteLength - position, MAX_PAYLOAD_SIZE);\n",
              "      const chunk = new Uint8Array(fileData, position, length);\n",
              "      position += length;\n",
              "\n",
              "      const base64 = btoa(String.fromCharCode.apply(null, chunk));\n",
              "      yield {\n",
              "        response: {\n",
              "          action: 'append',\n",
              "          file: file.name,\n",
              "          data: base64,\n",
              "        },\n",
              "      };\n",
              "\n",
              "      let percentDone = fileData.byteLength === 0 ?\n",
              "          100 :\n",
              "          Math.round((position / fileData.byteLength) * 100);\n",
              "      percent.textContent = `${percentDone}% done`;\n",
              "\n",
              "    } while (position < fileData.byteLength);\n",
              "  }\n",
              "\n",
              "  // All done.\n",
              "  yield {\n",
              "    response: {\n",
              "      action: 'complete',\n",
              "    }\n",
              "  };\n",
              "}\n",
              "\n",
              "scope.google = scope.google || {};\n",
              "scope.google.colab = scope.google.colab || {};\n",
              "scope.google.colab._files = {\n",
              "  _uploadFiles,\n",
              "  _uploadFilesContinue,\n",
              "};\n",
              "})(self);\n",
              "</script> "
            ]
          },
          "metadata": {}
        },
        {
          "output_type": "stream",
          "name": "stdout",
          "text": [
            "Saving kaggle.json to kaggle.json\n"
          ]
        }
      ],
      "source": [
        "!pip install kaggle\n",
        "\n",
        "# Solicitar el archivo kaggle.json\n",
        "from google.colab import files\n",
        "files.upload()  # Subir el archivo kaggle.json\n",
        "\n",
        "# Crear el directorio .kaggle y mover el archivo kaggle.json\n",
        "!mkdir -p ~/.kaggle\n",
        "!mv kaggle.json ~/.kaggle/\n",
        "!chmod 600 ~/.kaggle/kaggle.json"
      ]
    },
    {
      "cell_type": "markdown",
      "source": [
        "**Código para descargar los datos**:\n"
      ],
      "metadata": {
        "id": "jrUeSS9aZ5ws"
      }
    },
    {
      "cell_type": "code",
      "source": [
        "# Descargar los datos\n",
        "!kaggle competitions download -c udea-ai4eng-20242\n",
        "\n",
        "# Descomprimir los archivos descargados\n",
        "!unzip udea-ai4eng-20242.zip"
      ],
      "metadata": {
        "colab": {
          "base_uri": "https://localhost:8080/"
        },
        "id": "asM0KxI8aIR2",
        "outputId": "86eca612-f6d8-4651-8a94-04dc1637a850"
      },
      "execution_count": 2,
      "outputs": [
        {
          "output_type": "stream",
          "name": "stdout",
          "text": [
            "Downloading udea-ai4eng-20242.zip to /content\n",
            " 35% 7.00M/20.1M [00:00<00:01, 9.23MB/s]\n",
            "100% 20.1M/20.1M [00:00<00:00, 25.3MB/s]\n",
            "Archive:  udea-ai4eng-20242.zip\n",
            "  inflating: submission_example.csv  \n",
            "  inflating: test.csv                \n",
            "  inflating: train.csv               \n"
          ]
        }
      ]
    },
    {
      "cell_type": "markdown",
      "source": [
        "**Importando librerías**"
      ],
      "metadata": {
        "id": "5aagDUJtZ568"
      }
    },
    {
      "cell_type": "code",
      "source": [
        "# Importar librerías\n",
        "!pip install catboost scikit-optimize\n",
        "!pip install category_encoders\n",
        "import pandas as pd\n",
        "import numpy as np\n",
        "import matplotlib.pyplot as plt\n",
        "import seaborn as sns\n",
        "from sklearn.preprocessing import OneHotEncoder, OrdinalEncoder, LabelEncoder\n",
        "from sklearn.feature_selection import SelectKBest, chi2\n",
        "from sklearn.impute import SimpleImputer\n",
        "from category_encoders import TargetEncoder\n",
        "from sklearn.ensemble import RandomForestClassifier\n",
        "from sklearn.metrics import accuracy_score, classification_report, confusion_matrix\n",
        "from sklearn.model_selection import train_test_split\n",
        "from scipy.stats import f_oneway\n",
        "from sklearn.feature_selection import mutual_info_classif\n",
        "from sklearn.model_selection import RandomizedSearchCV\n",
        "from sklearn.model_selection import GridSearchCV\n",
        "from catboost import CatBoostClassifier\n",
        "from skopt import BayesSearchCV\n",
        "from skopt.space import Real, Integer"
      ],
      "metadata": {
        "id": "8vHRXhsAaI0e",
        "colab": {
          "base_uri": "https://localhost:8080/"
        },
        "outputId": "8ea6df16-7bcd-40f3-a374-2ff79109300d"
      },
      "execution_count": 3,
      "outputs": [
        {
          "output_type": "stream",
          "name": "stdout",
          "text": [
            "Collecting catboost\n",
            "  Downloading catboost-1.2.7-cp311-cp311-manylinux2014_x86_64.whl.metadata (1.2 kB)\n",
            "Collecting scikit-optimize\n",
            "  Downloading scikit_optimize-0.10.2-py2.py3-none-any.whl.metadata (9.7 kB)\n",
            "Requirement already satisfied: graphviz in /usr/local/lib/python3.11/dist-packages (from catboost) (0.20.3)\n",
            "Requirement already satisfied: matplotlib in /usr/local/lib/python3.11/dist-packages (from catboost) (3.10.0)\n",
            "Requirement already satisfied: numpy<2.0,>=1.16.0 in /usr/local/lib/python3.11/dist-packages (from catboost) (1.26.4)\n",
            "Requirement already satisfied: pandas>=0.24 in /usr/local/lib/python3.11/dist-packages (from catboost) (2.2.2)\n",
            "Requirement already satisfied: scipy in /usr/local/lib/python3.11/dist-packages (from catboost) (1.13.1)\n",
            "Requirement already satisfied: plotly in /usr/local/lib/python3.11/dist-packages (from catboost) (5.24.1)\n",
            "Requirement already satisfied: six in /usr/local/lib/python3.11/dist-packages (from catboost) (1.17.0)\n",
            "Requirement already satisfied: joblib>=0.11 in /usr/local/lib/python3.11/dist-packages (from scikit-optimize) (1.4.2)\n",
            "Collecting pyaml>=16.9 (from scikit-optimize)\n",
            "  Downloading pyaml-25.1.0-py3-none-any.whl.metadata (12 kB)\n",
            "Requirement already satisfied: scikit-learn>=1.0.0 in /usr/local/lib/python3.11/dist-packages (from scikit-optimize) (1.6.1)\n",
            "Requirement already satisfied: packaging>=21.3 in /usr/local/lib/python3.11/dist-packages (from scikit-optimize) (24.2)\n",
            "Requirement already satisfied: python-dateutil>=2.8.2 in /usr/local/lib/python3.11/dist-packages (from pandas>=0.24->catboost) (2.8.2)\n",
            "Requirement already satisfied: pytz>=2020.1 in /usr/local/lib/python3.11/dist-packages (from pandas>=0.24->catboost) (2025.1)\n",
            "Requirement already satisfied: tzdata>=2022.7 in /usr/local/lib/python3.11/dist-packages (from pandas>=0.24->catboost) (2025.1)\n",
            "Requirement already satisfied: PyYAML in /usr/local/lib/python3.11/dist-packages (from pyaml>=16.9->scikit-optimize) (6.0.2)\n",
            "Requirement already satisfied: threadpoolctl>=3.1.0 in /usr/local/lib/python3.11/dist-packages (from scikit-learn>=1.0.0->scikit-optimize) (3.5.0)\n",
            "Requirement already satisfied: contourpy>=1.0.1 in /usr/local/lib/python3.11/dist-packages (from matplotlib->catboost) (1.3.1)\n",
            "Requirement already satisfied: cycler>=0.10 in /usr/local/lib/python3.11/dist-packages (from matplotlib->catboost) (0.12.1)\n",
            "Requirement already satisfied: fonttools>=4.22.0 in /usr/local/lib/python3.11/dist-packages (from matplotlib->catboost) (4.55.8)\n",
            "Requirement already satisfied: kiwisolver>=1.3.1 in /usr/local/lib/python3.11/dist-packages (from matplotlib->catboost) (1.4.8)\n",
            "Requirement already satisfied: pillow>=8 in /usr/local/lib/python3.11/dist-packages (from matplotlib->catboost) (11.1.0)\n",
            "Requirement already satisfied: pyparsing>=2.3.1 in /usr/local/lib/python3.11/dist-packages (from matplotlib->catboost) (3.2.1)\n",
            "Requirement already satisfied: tenacity>=6.2.0 in /usr/local/lib/python3.11/dist-packages (from plotly->catboost) (9.0.0)\n",
            "Downloading catboost-1.2.7-cp311-cp311-manylinux2014_x86_64.whl (98.7 MB)\n",
            "\u001b[2K   \u001b[90m━━━━━━━━━━━━━━━━━━━━━━━━━━━━━━━━━━━━━━━━\u001b[0m \u001b[32m98.7/98.7 MB\u001b[0m \u001b[31m23.8 MB/s\u001b[0m eta \u001b[36m0:00:00\u001b[0m\n",
            "\u001b[?25hDownloading scikit_optimize-0.10.2-py2.py3-none-any.whl (107 kB)\n",
            "\u001b[2K   \u001b[90m━━━━━━━━━━━━━━━━━━━━━━━━━━━━━━━━━━━━━━━━\u001b[0m \u001b[32m107.8/107.8 kB\u001b[0m \u001b[31m11.0 MB/s\u001b[0m eta \u001b[36m0:00:00\u001b[0m\n",
            "\u001b[?25hDownloading pyaml-25.1.0-py3-none-any.whl (26 kB)\n",
            "Installing collected packages: pyaml, scikit-optimize, catboost\n",
            "Successfully installed catboost-1.2.7 pyaml-25.1.0 scikit-optimize-0.10.2\n",
            "Collecting category_encoders\n",
            "  Downloading category_encoders-2.8.0-py3-none-any.whl.metadata (7.9 kB)\n",
            "Requirement already satisfied: numpy>=1.14.0 in /usr/local/lib/python3.11/dist-packages (from category_encoders) (1.26.4)\n",
            "Requirement already satisfied: pandas>=1.0.5 in /usr/local/lib/python3.11/dist-packages (from category_encoders) (2.2.2)\n",
            "Requirement already satisfied: patsy>=0.5.1 in /usr/local/lib/python3.11/dist-packages (from category_encoders) (1.0.1)\n",
            "Requirement already satisfied: scikit-learn>=1.6.0 in /usr/local/lib/python3.11/dist-packages (from category_encoders) (1.6.1)\n",
            "Requirement already satisfied: scipy>=1.0.0 in /usr/local/lib/python3.11/dist-packages (from category_encoders) (1.13.1)\n",
            "Requirement already satisfied: statsmodels>=0.9.0 in /usr/local/lib/python3.11/dist-packages (from category_encoders) (0.14.4)\n",
            "Requirement already satisfied: python-dateutil>=2.8.2 in /usr/local/lib/python3.11/dist-packages (from pandas>=1.0.5->category_encoders) (2.8.2)\n",
            "Requirement already satisfied: pytz>=2020.1 in /usr/local/lib/python3.11/dist-packages (from pandas>=1.0.5->category_encoders) (2025.1)\n",
            "Requirement already satisfied: tzdata>=2022.7 in /usr/local/lib/python3.11/dist-packages (from pandas>=1.0.5->category_encoders) (2025.1)\n",
            "Requirement already satisfied: joblib>=1.2.0 in /usr/local/lib/python3.11/dist-packages (from scikit-learn>=1.6.0->category_encoders) (1.4.2)\n",
            "Requirement already satisfied: threadpoolctl>=3.1.0 in /usr/local/lib/python3.11/dist-packages (from scikit-learn>=1.6.0->category_encoders) (3.5.0)\n",
            "Requirement already satisfied: packaging>=21.3 in /usr/local/lib/python3.11/dist-packages (from statsmodels>=0.9.0->category_encoders) (24.2)\n",
            "Requirement already satisfied: six>=1.5 in /usr/local/lib/python3.11/dist-packages (from python-dateutil>=2.8.2->pandas>=1.0.5->category_encoders) (1.17.0)\n",
            "Downloading category_encoders-2.8.0-py3-none-any.whl (85 kB)\n",
            "\u001b[2K   \u001b[90m━━━━━━━━━━━━━━━━━━━━━━━━━━━━━━━━━━━━━━━━\u001b[0m \u001b[32m85.7/85.7 kB\u001b[0m \u001b[31m3.8 MB/s\u001b[0m eta \u001b[36m0:00:00\u001b[0m\n",
            "\u001b[?25hInstalling collected packages: category_encoders\n",
            "Successfully installed category_encoders-2.8.0\n"
          ]
        }
      ]
    },
    {
      "cell_type": "markdown",
      "source": [
        "# **Carga y visualización del dataset**"
      ],
      "metadata": {
        "id": "EA539VtSa5jr"
      }
    },
    {
      "cell_type": "code",
      "source": [
        "# Cargar los datos\n",
        "data = pd.read_csv('train.csv')\n",
        "\n",
        "# Mostrar los primeros registros\n",
        "data.head()"
      ],
      "metadata": {
        "colab": {
          "base_uri": "https://localhost:8080/",
          "height": 313
        },
        "id": "RWKs7Xu0amSh",
        "outputId": "b2e424cd-459d-4e3e-8d21-c9b658bc8d73"
      },
      "execution_count": 4,
      "outputs": [
        {
          "output_type": "execute_result",
          "data": {
            "text/plain": [
              "       ID  PERIODO         ESTU_PRGM_ACADEMICO ESTU_PRGM_DEPARTAMENTO  \\\n",
              "0  904256    20212                  ENFERMERIA                 BOGOTÁ   \n",
              "1  645256    20212                     DERECHO              ATLANTICO   \n",
              "2  308367    20203       MERCADEO Y PUBLICIDAD                 BOGOTÁ   \n",
              "3  470353    20195  ADMINISTRACION DE EMPRESAS              SANTANDER   \n",
              "4  989032    20212                  PSICOLOGIA              ANTIOQUIA   \n",
              "\n",
              "             ESTU_VALORMATRICULAUNIVERSIDAD ESTU_HORASSEMANATRABAJA  \\\n",
              "0  Entre 5.5 millones y menos de 7 millones       Menos de 10 horas   \n",
              "1  Entre 2.5 millones y menos de 4 millones                       0   \n",
              "2  Entre 2.5 millones y menos de 4 millones         Más de 30 horas   \n",
              "3  Entre 4 millones y menos de 5.5 millones                       0   \n",
              "4  Entre 2.5 millones y menos de 4 millones     Entre 21 y 30 horas   \n",
              "\n",
              "  FAMI_ESTRATOVIVIENDA FAMI_TIENEINTERNET                 FAMI_EDUCACIONPADRE  \\\n",
              "0            Estrato 3                 Si    Técnica o tecnológica incompleta   \n",
              "1            Estrato 3                 No      Técnica o tecnológica completa   \n",
              "2            Estrato 3                 Si  Secundaria (Bachillerato) completa   \n",
              "3            Estrato 4                 Si                             No sabe   \n",
              "4            Estrato 3                 Si                   Primaria completa   \n",
              "\n",
              "                  FAMI_EDUCACIONMADRE ESTU_PAGOMATRICULAPROPIO  \\\n",
              "0                           Postgrado                       No   \n",
              "1    Técnica o tecnológica incompleta                       No   \n",
              "2  Secundaria (Bachillerato) completa                       No   \n",
              "3  Secundaria (Bachillerato) completa                       No   \n",
              "4                   Primaria completa                       No   \n",
              "\n",
              "  RENDIMIENTO_GLOBAL  \n",
              "0         medio-alto  \n",
              "1               bajo  \n",
              "2               bajo  \n",
              "3               alto  \n",
              "4         medio-bajo  "
            ],
            "text/html": [
              "\n",
              "  <div id=\"df-18f370d2-19a1-4077-94dd-c8ffbc13698e\" class=\"colab-df-container\">\n",
              "    <div>\n",
              "<style scoped>\n",
              "    .dataframe tbody tr th:only-of-type {\n",
              "        vertical-align: middle;\n",
              "    }\n",
              "\n",
              "    .dataframe tbody tr th {\n",
              "        vertical-align: top;\n",
              "    }\n",
              "\n",
              "    .dataframe thead th {\n",
              "        text-align: right;\n",
              "    }\n",
              "</style>\n",
              "<table border=\"1\" class=\"dataframe\">\n",
              "  <thead>\n",
              "    <tr style=\"text-align: right;\">\n",
              "      <th></th>\n",
              "      <th>ID</th>\n",
              "      <th>PERIODO</th>\n",
              "      <th>ESTU_PRGM_ACADEMICO</th>\n",
              "      <th>ESTU_PRGM_DEPARTAMENTO</th>\n",
              "      <th>ESTU_VALORMATRICULAUNIVERSIDAD</th>\n",
              "      <th>ESTU_HORASSEMANATRABAJA</th>\n",
              "      <th>FAMI_ESTRATOVIVIENDA</th>\n",
              "      <th>FAMI_TIENEINTERNET</th>\n",
              "      <th>FAMI_EDUCACIONPADRE</th>\n",
              "      <th>FAMI_EDUCACIONMADRE</th>\n",
              "      <th>ESTU_PAGOMATRICULAPROPIO</th>\n",
              "      <th>RENDIMIENTO_GLOBAL</th>\n",
              "    </tr>\n",
              "  </thead>\n",
              "  <tbody>\n",
              "    <tr>\n",
              "      <th>0</th>\n",
              "      <td>904256</td>\n",
              "      <td>20212</td>\n",
              "      <td>ENFERMERIA</td>\n",
              "      <td>BOGOTÁ</td>\n",
              "      <td>Entre 5.5 millones y menos de 7 millones</td>\n",
              "      <td>Menos de 10 horas</td>\n",
              "      <td>Estrato 3</td>\n",
              "      <td>Si</td>\n",
              "      <td>Técnica o tecnológica incompleta</td>\n",
              "      <td>Postgrado</td>\n",
              "      <td>No</td>\n",
              "      <td>medio-alto</td>\n",
              "    </tr>\n",
              "    <tr>\n",
              "      <th>1</th>\n",
              "      <td>645256</td>\n",
              "      <td>20212</td>\n",
              "      <td>DERECHO</td>\n",
              "      <td>ATLANTICO</td>\n",
              "      <td>Entre 2.5 millones y menos de 4 millones</td>\n",
              "      <td>0</td>\n",
              "      <td>Estrato 3</td>\n",
              "      <td>No</td>\n",
              "      <td>Técnica o tecnológica completa</td>\n",
              "      <td>Técnica o tecnológica incompleta</td>\n",
              "      <td>No</td>\n",
              "      <td>bajo</td>\n",
              "    </tr>\n",
              "    <tr>\n",
              "      <th>2</th>\n",
              "      <td>308367</td>\n",
              "      <td>20203</td>\n",
              "      <td>MERCADEO Y PUBLICIDAD</td>\n",
              "      <td>BOGOTÁ</td>\n",
              "      <td>Entre 2.5 millones y menos de 4 millones</td>\n",
              "      <td>Más de 30 horas</td>\n",
              "      <td>Estrato 3</td>\n",
              "      <td>Si</td>\n",
              "      <td>Secundaria (Bachillerato) completa</td>\n",
              "      <td>Secundaria (Bachillerato) completa</td>\n",
              "      <td>No</td>\n",
              "      <td>bajo</td>\n",
              "    </tr>\n",
              "    <tr>\n",
              "      <th>3</th>\n",
              "      <td>470353</td>\n",
              "      <td>20195</td>\n",
              "      <td>ADMINISTRACION DE EMPRESAS</td>\n",
              "      <td>SANTANDER</td>\n",
              "      <td>Entre 4 millones y menos de 5.5 millones</td>\n",
              "      <td>0</td>\n",
              "      <td>Estrato 4</td>\n",
              "      <td>Si</td>\n",
              "      <td>No sabe</td>\n",
              "      <td>Secundaria (Bachillerato) completa</td>\n",
              "      <td>No</td>\n",
              "      <td>alto</td>\n",
              "    </tr>\n",
              "    <tr>\n",
              "      <th>4</th>\n",
              "      <td>989032</td>\n",
              "      <td>20212</td>\n",
              "      <td>PSICOLOGIA</td>\n",
              "      <td>ANTIOQUIA</td>\n",
              "      <td>Entre 2.5 millones y menos de 4 millones</td>\n",
              "      <td>Entre 21 y 30 horas</td>\n",
              "      <td>Estrato 3</td>\n",
              "      <td>Si</td>\n",
              "      <td>Primaria completa</td>\n",
              "      <td>Primaria completa</td>\n",
              "      <td>No</td>\n",
              "      <td>medio-bajo</td>\n",
              "    </tr>\n",
              "  </tbody>\n",
              "</table>\n",
              "</div>\n",
              "    <div class=\"colab-df-buttons\">\n",
              "\n",
              "  <div class=\"colab-df-container\">\n",
              "    <button class=\"colab-df-convert\" onclick=\"convertToInteractive('df-18f370d2-19a1-4077-94dd-c8ffbc13698e')\"\n",
              "            title=\"Convert this dataframe to an interactive table.\"\n",
              "            style=\"display:none;\">\n",
              "\n",
              "  <svg xmlns=\"http://www.w3.org/2000/svg\" height=\"24px\" viewBox=\"0 -960 960 960\">\n",
              "    <path d=\"M120-120v-720h720v720H120Zm60-500h600v-160H180v160Zm220 220h160v-160H400v160Zm0 220h160v-160H400v160ZM180-400h160v-160H180v160Zm440 0h160v-160H620v160ZM180-180h160v-160H180v160Zm440 0h160v-160H620v160Z\"/>\n",
              "  </svg>\n",
              "    </button>\n",
              "\n",
              "  <style>\n",
              "    .colab-df-container {\n",
              "      display:flex;\n",
              "      gap: 12px;\n",
              "    }\n",
              "\n",
              "    .colab-df-convert {\n",
              "      background-color: #E8F0FE;\n",
              "      border: none;\n",
              "      border-radius: 50%;\n",
              "      cursor: pointer;\n",
              "      display: none;\n",
              "      fill: #1967D2;\n",
              "      height: 32px;\n",
              "      padding: 0 0 0 0;\n",
              "      width: 32px;\n",
              "    }\n",
              "\n",
              "    .colab-df-convert:hover {\n",
              "      background-color: #E2EBFA;\n",
              "      box-shadow: 0px 1px 2px rgba(60, 64, 67, 0.3), 0px 1px 3px 1px rgba(60, 64, 67, 0.15);\n",
              "      fill: #174EA6;\n",
              "    }\n",
              "\n",
              "    .colab-df-buttons div {\n",
              "      margin-bottom: 4px;\n",
              "    }\n",
              "\n",
              "    [theme=dark] .colab-df-convert {\n",
              "      background-color: #3B4455;\n",
              "      fill: #D2E3FC;\n",
              "    }\n",
              "\n",
              "    [theme=dark] .colab-df-convert:hover {\n",
              "      background-color: #434B5C;\n",
              "      box-shadow: 0px 1px 3px 1px rgba(0, 0, 0, 0.15);\n",
              "      filter: drop-shadow(0px 1px 2px rgba(0, 0, 0, 0.3));\n",
              "      fill: #FFFFFF;\n",
              "    }\n",
              "  </style>\n",
              "\n",
              "    <script>\n",
              "      const buttonEl =\n",
              "        document.querySelector('#df-18f370d2-19a1-4077-94dd-c8ffbc13698e button.colab-df-convert');\n",
              "      buttonEl.style.display =\n",
              "        google.colab.kernel.accessAllowed ? 'block' : 'none';\n",
              "\n",
              "      async function convertToInteractive(key) {\n",
              "        const element = document.querySelector('#df-18f370d2-19a1-4077-94dd-c8ffbc13698e');\n",
              "        const dataTable =\n",
              "          await google.colab.kernel.invokeFunction('convertToInteractive',\n",
              "                                                    [key], {});\n",
              "        if (!dataTable) return;\n",
              "\n",
              "        const docLinkHtml = 'Like what you see? Visit the ' +\n",
              "          '<a target=\"_blank\" href=https://colab.research.google.com/notebooks/data_table.ipynb>data table notebook</a>'\n",
              "          + ' to learn more about interactive tables.';\n",
              "        element.innerHTML = '';\n",
              "        dataTable['output_type'] = 'display_data';\n",
              "        await google.colab.output.renderOutput(dataTable, element);\n",
              "        const docLink = document.createElement('div');\n",
              "        docLink.innerHTML = docLinkHtml;\n",
              "        element.appendChild(docLink);\n",
              "      }\n",
              "    </script>\n",
              "  </div>\n",
              "\n",
              "\n",
              "<div id=\"df-c4333867-b788-4ce3-8adc-5a12fc2aa8b4\">\n",
              "  <button class=\"colab-df-quickchart\" onclick=\"quickchart('df-c4333867-b788-4ce3-8adc-5a12fc2aa8b4')\"\n",
              "            title=\"Suggest charts\"\n",
              "            style=\"display:none;\">\n",
              "\n",
              "<svg xmlns=\"http://www.w3.org/2000/svg\" height=\"24px\"viewBox=\"0 0 24 24\"\n",
              "     width=\"24px\">\n",
              "    <g>\n",
              "        <path d=\"M19 3H5c-1.1 0-2 .9-2 2v14c0 1.1.9 2 2 2h14c1.1 0 2-.9 2-2V5c0-1.1-.9-2-2-2zM9 17H7v-7h2v7zm4 0h-2V7h2v10zm4 0h-2v-4h2v4z\"/>\n",
              "    </g>\n",
              "</svg>\n",
              "  </button>\n",
              "\n",
              "<style>\n",
              "  .colab-df-quickchart {\n",
              "      --bg-color: #E8F0FE;\n",
              "      --fill-color: #1967D2;\n",
              "      --hover-bg-color: #E2EBFA;\n",
              "      --hover-fill-color: #174EA6;\n",
              "      --disabled-fill-color: #AAA;\n",
              "      --disabled-bg-color: #DDD;\n",
              "  }\n",
              "\n",
              "  [theme=dark] .colab-df-quickchart {\n",
              "      --bg-color: #3B4455;\n",
              "      --fill-color: #D2E3FC;\n",
              "      --hover-bg-color: #434B5C;\n",
              "      --hover-fill-color: #FFFFFF;\n",
              "      --disabled-bg-color: #3B4455;\n",
              "      --disabled-fill-color: #666;\n",
              "  }\n",
              "\n",
              "  .colab-df-quickchart {\n",
              "    background-color: var(--bg-color);\n",
              "    border: none;\n",
              "    border-radius: 50%;\n",
              "    cursor: pointer;\n",
              "    display: none;\n",
              "    fill: var(--fill-color);\n",
              "    height: 32px;\n",
              "    padding: 0;\n",
              "    width: 32px;\n",
              "  }\n",
              "\n",
              "  .colab-df-quickchart:hover {\n",
              "    background-color: var(--hover-bg-color);\n",
              "    box-shadow: 0 1px 2px rgba(60, 64, 67, 0.3), 0 1px 3px 1px rgba(60, 64, 67, 0.15);\n",
              "    fill: var(--button-hover-fill-color);\n",
              "  }\n",
              "\n",
              "  .colab-df-quickchart-complete:disabled,\n",
              "  .colab-df-quickchart-complete:disabled:hover {\n",
              "    background-color: var(--disabled-bg-color);\n",
              "    fill: var(--disabled-fill-color);\n",
              "    box-shadow: none;\n",
              "  }\n",
              "\n",
              "  .colab-df-spinner {\n",
              "    border: 2px solid var(--fill-color);\n",
              "    border-color: transparent;\n",
              "    border-bottom-color: var(--fill-color);\n",
              "    animation:\n",
              "      spin 1s steps(1) infinite;\n",
              "  }\n",
              "\n",
              "  @keyframes spin {\n",
              "    0% {\n",
              "      border-color: transparent;\n",
              "      border-bottom-color: var(--fill-color);\n",
              "      border-left-color: var(--fill-color);\n",
              "    }\n",
              "    20% {\n",
              "      border-color: transparent;\n",
              "      border-left-color: var(--fill-color);\n",
              "      border-top-color: var(--fill-color);\n",
              "    }\n",
              "    30% {\n",
              "      border-color: transparent;\n",
              "      border-left-color: var(--fill-color);\n",
              "      border-top-color: var(--fill-color);\n",
              "      border-right-color: var(--fill-color);\n",
              "    }\n",
              "    40% {\n",
              "      border-color: transparent;\n",
              "      border-right-color: var(--fill-color);\n",
              "      border-top-color: var(--fill-color);\n",
              "    }\n",
              "    60% {\n",
              "      border-color: transparent;\n",
              "      border-right-color: var(--fill-color);\n",
              "    }\n",
              "    80% {\n",
              "      border-color: transparent;\n",
              "      border-right-color: var(--fill-color);\n",
              "      border-bottom-color: var(--fill-color);\n",
              "    }\n",
              "    90% {\n",
              "      border-color: transparent;\n",
              "      border-bottom-color: var(--fill-color);\n",
              "    }\n",
              "  }\n",
              "</style>\n",
              "\n",
              "  <script>\n",
              "    async function quickchart(key) {\n",
              "      const quickchartButtonEl =\n",
              "        document.querySelector('#' + key + ' button');\n",
              "      quickchartButtonEl.disabled = true;  // To prevent multiple clicks.\n",
              "      quickchartButtonEl.classList.add('colab-df-spinner');\n",
              "      try {\n",
              "        const charts = await google.colab.kernel.invokeFunction(\n",
              "            'suggestCharts', [key], {});\n",
              "      } catch (error) {\n",
              "        console.error('Error during call to suggestCharts:', error);\n",
              "      }\n",
              "      quickchartButtonEl.classList.remove('colab-df-spinner');\n",
              "      quickchartButtonEl.classList.add('colab-df-quickchart-complete');\n",
              "    }\n",
              "    (() => {\n",
              "      let quickchartButtonEl =\n",
              "        document.querySelector('#df-c4333867-b788-4ce3-8adc-5a12fc2aa8b4 button');\n",
              "      quickchartButtonEl.style.display =\n",
              "        google.colab.kernel.accessAllowed ? 'block' : 'none';\n",
              "    })();\n",
              "  </script>\n",
              "</div>\n",
              "\n",
              "    </div>\n",
              "  </div>\n"
            ],
            "application/vnd.google.colaboratory.intrinsic+json": {
              "type": "dataframe",
              "variable_name": "data"
            }
          },
          "metadata": {},
          "execution_count": 4
        }
      ]
    },
    {
      "cell_type": "markdown",
      "source": [
        "**Información del dataset**"
      ],
      "metadata": {
        "id": "xBueV3Qtgvnv"
      }
    },
    {
      "cell_type": "code",
      "source": [
        "# Mostrar tipos de datos y valores nulos\n",
        "data.info()"
      ],
      "metadata": {
        "colab": {
          "base_uri": "https://localhost:8080/"
        },
        "id": "ExwG2znRgddZ",
        "outputId": "c81616df-68ea-47e9-bf9b-0d5fd73ba354"
      },
      "execution_count": 5,
      "outputs": [
        {
          "output_type": "stream",
          "name": "stdout",
          "text": [
            "<class 'pandas.core.frame.DataFrame'>\n",
            "RangeIndex: 692500 entries, 0 to 692499\n",
            "Data columns (total 12 columns):\n",
            " #   Column                          Non-Null Count   Dtype \n",
            "---  ------                          --------------   ----- \n",
            " 0   ID                              692500 non-null  int64 \n",
            " 1   PERIODO                         692500 non-null  int64 \n",
            " 2   ESTU_PRGM_ACADEMICO             692500 non-null  object\n",
            " 3   ESTU_PRGM_DEPARTAMENTO          692500 non-null  object\n",
            " 4   ESTU_VALORMATRICULAUNIVERSIDAD  686213 non-null  object\n",
            " 5   ESTU_HORASSEMANATRABAJA         661643 non-null  object\n",
            " 6   FAMI_ESTRATOVIVIENDA            660363 non-null  object\n",
            " 7   FAMI_TIENEINTERNET              665871 non-null  object\n",
            " 8   FAMI_EDUCACIONPADRE             669322 non-null  object\n",
            " 9   FAMI_EDUCACIONMADRE             668836 non-null  object\n",
            " 10  ESTU_PAGOMATRICULAPROPIO        686002 non-null  object\n",
            " 11  RENDIMIENTO_GLOBAL              692500 non-null  object\n",
            "dtypes: int64(2), object(10)\n",
            "memory usage: 63.4+ MB\n"
          ]
        }
      ]
    },
    {
      "cell_type": "markdown",
      "source": [
        "**Identificar valores faltantes**"
      ],
      "metadata": {
        "id": "ZV8FS-1Hb3aI"
      }
    },
    {
      "cell_type": "code",
      "source": [
        "# Explorar la cantidad de valores faltantes por columna\n",
        "missing_values = data.isnull().sum()\n",
        "print(\"Valores faltantes:\\n\", missing_values)"
      ],
      "metadata": {
        "colab": {
          "base_uri": "https://localhost:8080/"
        },
        "id": "SJNV5Ivkawdo",
        "outputId": "bf138bc2-e654-4648-8462-ba92b9759520"
      },
      "execution_count": 6,
      "outputs": [
        {
          "output_type": "stream",
          "name": "stdout",
          "text": [
            "Valores faltantes:\n",
            " ID                                    0\n",
            "PERIODO                               0\n",
            "ESTU_PRGM_ACADEMICO                   0\n",
            "ESTU_PRGM_DEPARTAMENTO                0\n",
            "ESTU_VALORMATRICULAUNIVERSIDAD     6287\n",
            "ESTU_HORASSEMANATRABAJA           30857\n",
            "FAMI_ESTRATOVIVIENDA              32137\n",
            "FAMI_TIENEINTERNET                26629\n",
            "FAMI_EDUCACIONPADRE               23178\n",
            "FAMI_EDUCACIONMADRE               23664\n",
            "ESTU_PAGOMATRICULAPROPIO           6498\n",
            "RENDIMIENTO_GLOBAL                    0\n",
            "dtype: int64\n"
          ]
        }
      ]
    },
    {
      "cell_type": "markdown",
      "source": [
        "#**Limpieza y preprocesamiento de datos**"
      ],
      "metadata": {
        "id": "G0II00D4dUlq"
      }
    },
    {
      "cell_type": "code",
      "source": [
        "# Crear una copia del dataset original\n",
        "data_cleaned = data.copy()\n",
        "\n",
        "# Eliminar la columna ID del dataset\n",
        "if 'ID' in data_cleaned.columns:\n",
        "    data_cleaned = data_cleaned.drop(columns=['ID'])\n",
        "    print(\"Columna 'ID' eliminada correctamente.\")\n",
        "else:\n",
        "    print(\"La columna 'ID' ya fue eliminada.\")"
      ],
      "metadata": {
        "colab": {
          "base_uri": "https://localhost:8080/"
        },
        "id": "SNvPPInLZHUL",
        "outputId": "d11153dd-2e45-499c-edd0-240664e4ee8e"
      },
      "execution_count": 7,
      "outputs": [
        {
          "output_type": "stream",
          "name": "stdout",
          "text": [
            "Columna 'ID' eliminada correctamente.\n"
          ]
        }
      ]
    },
    {
      "cell_type": "markdown",
      "source": [
        "**Porcentaje de valores faltantes**"
      ],
      "metadata": {
        "id": "Bbr2qhJgjD4X"
      }
    },
    {
      "cell_type": "code",
      "source": [
        "# Calcular el porcentaje de valores faltantes por columna\n",
        "missing_percentage = data_cleaned.isnull().sum() / len(data_cleaned) * 100\n",
        "print(missing_percentage)"
      ],
      "metadata": {
        "colab": {
          "base_uri": "https://localhost:8080/"
        },
        "id": "DsXRu0F3jcX9",
        "outputId": "3c648b67-01bc-47d5-c250-c59953372bb2"
      },
      "execution_count": 8,
      "outputs": [
        {
          "output_type": "stream",
          "name": "stdout",
          "text": [
            "PERIODO                           0.000000\n",
            "ESTU_PRGM_ACADEMICO               0.000000\n",
            "ESTU_PRGM_DEPARTAMENTO            0.000000\n",
            "ESTU_VALORMATRICULAUNIVERSIDAD    0.907870\n",
            "ESTU_HORASSEMANATRABAJA           4.455884\n",
            "FAMI_ESTRATOVIVIENDA              4.640722\n",
            "FAMI_TIENEINTERNET                3.845343\n",
            "FAMI_EDUCACIONPADRE               3.347004\n",
            "FAMI_EDUCACIONMADRE               3.417184\n",
            "ESTU_PAGOMATRICULAPROPIO          0.938339\n",
            "RENDIMIENTO_GLOBAL                0.000000\n",
            "dtype: float64\n"
          ]
        }
      ]
    },
    {
      "cell_type": "markdown",
      "source": [
        "**Inputar valores nulos para las columnas con valores faltantes**\n",
        "\n",
        "Se procede a realizar la imputacion utilizando la moda para variables categoricas como:\n",
        "\n",
        "*   ESTU_VALORMATRICULAUNIVERSIDAD\n",
        "*   FAMI_ESTRATOVIVIENDA\n",
        "*   FAMI_TIENEINTERNET\n",
        "*   FAMI_EDUCACIONPADRE\n",
        "*   FAMI_EDUCACIONMADRE\n",
        "\n",
        "Ademas, se procede a imputar con valores representativos de acuerdo al contexto de sus valores unicos, variables categoricas como:\n",
        "        \n",
        "\n",
        "*   ESTU_PAGOMATRICULAPROPIO\n",
        "*   ESTU_HORASSEMANATRABAJA\n"
      ],
      "metadata": {
        "id": "Da9FfKyEtHtm"
      }
    },
    {
      "cell_type": "code",
      "source": [
        "# Imputar valores categóricos con la moda (opción más frecuente)\n",
        "for col in [\"ESTU_VALORMATRICULAUNIVERSIDAD\", \"FAMI_ESTRATOVIVIENDA\", \"FAMI_TIENEINTERNET\",\n",
        "            \"FAMI_EDUCACIONPADRE\", \"FAMI_EDUCACIONMADRE\"]:\n",
        "    data_cleaned.loc[:, col] = data_cleaned[col].fillna(data_cleaned[col].mode()[0])\n",
        "\n",
        "# Imputar con valores representativos de acuerdo a su contexto\n",
        "data_cleaned.loc[:, \"ESTU_PAGOMATRICULAPROPIO\"] = data_cleaned[\"ESTU_PAGOMATRICULAPROPIO\"].fillna(\"No\")\n",
        "data_cleaned.loc[:, \"ESTU_HORASSEMANATRABAJA\"] = data_cleaned[\"ESTU_HORASSEMANATRABAJA\"].fillna(\"0\")\n",
        "\n",
        "print(\"Valores faltantes imputados correctamente.\")"
      ],
      "metadata": {
        "colab": {
          "base_uri": "https://localhost:8080/"
        },
        "id": "dlhUY_hEtjwP",
        "outputId": "ebdc0375-d3d8-45c6-91b2-a9e63ddf0b6a"
      },
      "execution_count": 9,
      "outputs": [
        {
          "output_type": "stream",
          "name": "stdout",
          "text": [
            "Valores faltantes imputados correctamente.\n"
          ]
        }
      ]
    },
    {
      "cell_type": "markdown",
      "source": [
        "**Verificar que no hayan valores nulos**"
      ],
      "metadata": {
        "id": "CWFmyJ66wxih"
      }
    },
    {
      "cell_type": "code",
      "source": [
        "# Explorar la cantidad de valores faltantes por columna\n",
        "missing_values = data_cleaned.isnull().sum()\n",
        "print(\"Valores faltantes:\\n\", missing_values)"
      ],
      "metadata": {
        "colab": {
          "base_uri": "https://localhost:8080/"
        },
        "id": "E-kyGONJuZm9",
        "outputId": "d55d757e-fa52-44b0-8045-d868366e8a78"
      },
      "execution_count": 10,
      "outputs": [
        {
          "output_type": "stream",
          "name": "stdout",
          "text": [
            "Valores faltantes:\n",
            " PERIODO                           0\n",
            "ESTU_PRGM_ACADEMICO               0\n",
            "ESTU_PRGM_DEPARTAMENTO            0\n",
            "ESTU_VALORMATRICULAUNIVERSIDAD    0\n",
            "ESTU_HORASSEMANATRABAJA           0\n",
            "FAMI_ESTRATOVIVIENDA              0\n",
            "FAMI_TIENEINTERNET                0\n",
            "FAMI_EDUCACIONPADRE               0\n",
            "FAMI_EDUCACIONMADRE               0\n",
            "ESTU_PAGOMATRICULAPROPIO          0\n",
            "RENDIMIENTO_GLOBAL                0\n",
            "dtype: int64\n"
          ]
        }
      ]
    },
    {
      "cell_type": "markdown",
      "source": [
        "## **Codificacion de variables con orden representativo aplicando OrdinalEnconder**"
      ],
      "metadata": {
        "id": "NmAZPhVT0S01"
      }
    },
    {
      "cell_type": "markdown",
      "source": [
        "**Aplicar OrdinalEncoder a la variable objetivo (RENDIMIENTO_GLOBAL) con un orden representativo**"
      ],
      "metadata": {
        "id": "jNCAvFBCjod_"
      }
    },
    {
      "cell_type": "code",
      "source": [
        "# Definir el orden correcto de la variable objetivo\n",
        "rendimiento_order = [['bajo', 'medio-bajo', 'medio-alto', 'alto']]\n",
        "\n",
        "# Aplicar OrdinalEncoder con el orden correcto definido\n",
        "ordinal_encoder = OrdinalEncoder(categories=rendimiento_order)\n",
        "data_cleaned['RENDIMIENTO_GLOBAL'] = ordinal_encoder.fit_transform(data_cleaned[['RENDIMIENTO_GLOBAL']])\n",
        "\n",
        "# Convertir a entero\n",
        "data_cleaned['RENDIMIENTO_GLOBAL'] = data_cleaned['RENDIMIENTO_GLOBAL'].astype(int)\n",
        "\n",
        "# Verificar resultados\n",
        "print(f\"valores unicos: {data_cleaned['RENDIMIENTO_GLOBAL'].unique()}\")"
      ],
      "metadata": {
        "colab": {
          "base_uri": "https://localhost:8080/"
        },
        "id": "dijCips6iURg",
        "outputId": "3a6d3123-7ba0-43d8-97a7-14783498d0cf"
      },
      "execution_count": 11,
      "outputs": [
        {
          "output_type": "stream",
          "name": "stdout",
          "text": [
            "valores unicos: [2 0 3 1]\n"
          ]
        }
      ]
    },
    {
      "cell_type": "markdown",
      "source": [
        "**Aplicar OrdinalEncoder a variables con orden representativo**"
      ],
      "metadata": {
        "id": "2ktNoW_MMVcr"
      }
    },
    {
      "cell_type": "code",
      "source": [
        "# Crear un diccionario con el orden correcto de las variables categoricas ya inputadas y que tienen un orden logico\n",
        "ordinal_categories = {\n",
        "    'ESTU_VALORMATRICULAUNIVERSIDAD': ['No pagó matrícula', 'Menos de 500 mil',\n",
        "                                       'Entre 500 mil y menos de 1 millón', 'Entre 1 millón y menos de 2.5 millones',\n",
        "                                       'Entre 2.5 millones y menos de 4 millones', 'Entre 4 millones y menos de 5.5 millones',\n",
        "                                       'Entre 5.5 millones y menos de 7 millones', 'Más de 7 millones'],\n",
        "    'ESTU_HORASSEMANATRABAJA': ['0', 'Menos de 10 horas', 'Entre 11 y 20 horas',\n",
        "                                'Entre 21 y 30 horas', 'Más de 30 horas'],\n",
        "    'FAMI_ESTRATOVIVIENDA': ['Sin Estrato', 'Estrato 1', 'Estrato 2', 'Estrato 3',\n",
        "                             'Estrato 4', 'Estrato 5', 'Estrato 6']\n",
        "}\n",
        "\n",
        "# Aplicar OrdinalEncoder a las variables categoricas\n",
        "ordinal_enc = OrdinalEncoder(categories=[ordinal_categories[col] for col in ordinal_categories.keys()],\n",
        "                             handle_unknown='use_encoded_value', unknown_value=-1)\n",
        "\n",
        "# Transformar las columnas que necesitan codificación ordinal\n",
        "data_cleaned[list(ordinal_categories.keys())] = ordinal_enc.fit_transform(data_cleaned[list(ordinal_categories.keys())])\n",
        "\n",
        "#Convertir los resultados de los valores unicos codificados a enteros\n",
        "data_cleaned[list(ordinal_categories.keys())] = data_cleaned[list(ordinal_categories.keys())].astype(int)\n",
        "\n",
        "# Verificar los resultados\n",
        "print(f\"valores unicos Valor Matricula: {data_cleaned['ESTU_VALORMATRICULAUNIVERSIDAD'].unique()}\")\n",
        "print(f\"valores unicos Horas Semana Trabaja: {data_cleaned['ESTU_HORASSEMANATRABAJA'].unique()}\")\n",
        "print(f\"valores unicos Estrato Vivienda: {data_cleaned['FAMI_ESTRATOVIVIENDA'].unique()}\")"
      ],
      "metadata": {
        "colab": {
          "base_uri": "https://localhost:8080/"
        },
        "id": "Jvwy4cwAqKGH",
        "outputId": "3546d331-2043-4dab-ce17-8e87e1757688"
      },
      "execution_count": 12,
      "outputs": [
        {
          "output_type": "stream",
          "name": "stdout",
          "text": [
            "valores unicos Valor Matricula: [6 4 5 7 3 2 1 0]\n",
            "valores unicos Horas Semana Trabaja: [1 0 4 3 2]\n",
            "valores unicos Estrato Vivienda: [3 4 5 2 1 6 0]\n"
          ]
        }
      ]
    },
    {
      "cell_type": "markdown",
      "source": [
        "**Aplicar OrdinalEnconder a la variable (PERIODO) trandola como con orden representativo**"
      ],
      "metadata": {
        "id": "EYvE5hH1K3QV"
      }
    },
    {
      "cell_type": "code",
      "source": [
        "# Definir el orden correcto de los periodos academicos\n",
        "periodo_orden = [[20183, 20184, 20194, 20195, 20196, 20202, 20203, 20212, 20213]]\n",
        "\n",
        "# Aplicar OrdinalEncoder con el orden correcto definido\n",
        "ordinal_encoder = OrdinalEncoder(categories=periodo_orden)\n",
        "data_cleaned[\"PERIODO\"] = ordinal_encoder.fit_transform(data_cleaned[[\"PERIODO\"]])\n",
        "\n",
        "# Convertir a entero\n",
        "data_cleaned['PERIODO'] = data_cleaned['PERIODO'].astype(int)\n",
        "\n",
        "# Verificar transformación\n",
        "print(\"Valores únicos de PERIODO transformados:\", data_cleaned[\"PERIODO\"].unique())"
      ],
      "metadata": {
        "colab": {
          "base_uri": "https://localhost:8080/"
        },
        "id": "mMwhZFS1L1sQ",
        "outputId": "45db236f-5aca-4e5e-cc51-a86f36ba6971"
      },
      "execution_count": 13,
      "outputs": [
        {
          "output_type": "stream",
          "name": "stdout",
          "text": [
            "Valores únicos de PERIODO transformados: [7 6 3 0 2 8 1 5 4]\n"
          ]
        }
      ]
    },
    {
      "cell_type": "markdown",
      "source": [
        "## **Codificacion de variables booleanas aplicando LabelEnconder**"
      ],
      "metadata": {
        "id": "vXVzWEyOz7wE"
      }
    },
    {
      "cell_type": "code",
      "source": [
        "# Crear la instancia LabelEnconder\n",
        "label_encoder = LabelEncoder()\n",
        "\n",
        "# Aplicar la transformacion a las variables booleanas\n",
        "data_cleaned['FAMI_TIENEINTERNET'] = label_encoder.fit_transform(data_cleaned['FAMI_TIENEINTERNET'])\n",
        "data_cleaned['ESTU_PAGOMATRICULAPROPIO'] = label_encoder.fit_transform(data_cleaned['ESTU_PAGOMATRICULAPROPIO'])\n",
        "\n",
        "#Verificar resultados\n",
        "print(f\"valores unicos Tiene Internet: {data_cleaned['FAMI_TIENEINTERNET'].unique()}\")\n",
        "print(f\"valores unicos Pago Matricula Propio: {data_cleaned['ESTU_PAGOMATRICULAPROPIO'].unique()}\")"
      ],
      "metadata": {
        "colab": {
          "base_uri": "https://localhost:8080/"
        },
        "id": "p1aFedaj0Id_",
        "outputId": "07782c8c-f317-426f-8ef0-b3e5e8fec7e1"
      },
      "execution_count": 14,
      "outputs": [
        {
          "output_type": "stream",
          "name": "stdout",
          "text": [
            "valores unicos Tiene Internet: [1 0]\n",
            "valores unicos Pago Matricula Propio: [0 1]\n"
          ]
        }
      ]
    },
    {
      "cell_type": "markdown",
      "source": [
        "#**Pruebas para evaluar la efectividad del modelo empleando CatBoostClassifier**"
      ],
      "metadata": {
        "id": "ICYolTQM-0qK"
      }
    },
    {
      "cell_type": "markdown",
      "source": [
        "**Carga del preprocesado, division en Train-Test y Codificacion con Target Encoding**"
      ],
      "metadata": {
        "id": "dQT8UGkVqsJX"
      }
    },
    {
      "cell_type": "markdown",
      "source": [
        "**Nota:** Para las variables de FAMI_EDUCACIONPADRE, FAMI_EDUCACIONMADRE, ESTU_PRGM_DEPARTAMENTO y ESTU_PRGM_ACADEMICO, se decide codificar aplicando Target Encoding y no OneHotEncoder, debido a que tienen muchas categorias, de esta manera se busca reducir de dimensionalidad del modelo sin perder informacion relevante.\n",
        "\n",
        "Con este metodo se remplaza cada departamento con el promedio del rendimiento global en la respectiva region. De igual manera ocurre con los programas academicos, se remplaza cada programa por el promedio del rendimiento global."
      ],
      "metadata": {
        "id": "qlC67mECulPn"
      }
    },
    {
      "cell_type": "code",
      "source": [
        "# Cargar los datos preprocesados\n",
        "X = data_cleaned.drop(columns=['RENDIMIENTO_GLOBAL'])\n",
        "y = data_cleaned['RENDIMIENTO_GLOBAL']\n",
        "\n",
        "# Dividir en train y test\n",
        "X_train, X_test, y_train, y_test = train_test_split(X, y, test_size=0.2, random_state=42, stratify=y)\n",
        "\n",
        "# Aplicar Target Encoding solo en Train y transformar Test\n",
        "target_enc = TargetEncoder()\n",
        "for col in [\"FAMI_EDUCACIONPADRE\", \"FAMI_EDUCACIONMADRE\", \"ESTU_PRGM_DEPARTAMENTO\", \"ESTU_PRGM_ACADEMICO\"]:\n",
        "    X_train[col] = target_enc.fit_transform(X_train[col], y_train)\n",
        "    X_test[col] = target_enc.transform(X_test[col])  # Se transforma con los valores aprendidos en Train"
      ],
      "metadata": {
        "id": "j9iEgrT0f1W7"
      },
      "execution_count": 15,
      "outputs": []
    },
    {
      "cell_type": "markdown",
      "source": [
        "**Prueba del modelo CatBoostClassifier Base**"
      ],
      "metadata": {
        "id": "HXDPMpEBf4yw"
      }
    },
    {
      "cell_type": "code",
      "source": [
        "# Definir el modelo CatBoost\n",
        "cat_model = CatBoostClassifier(\n",
        "    iterations=1000,  # Aumentar iteraciones para mejor rendimiento\n",
        "    learning_rate=0.05,\n",
        "    depth=10,\n",
        "    loss_function='MultiClass',\n",
        "    task_type=\"GPU\",\n",
        "    devices='0',\n",
        "    eval_metric=\"TotalF1\",\n",
        "    random_seed=42,\n",
        "    early_stopping_rounds=50,  # Detener si no hay mejora\n",
        "    train_dir=\"/tmp/catboost_info\",  # Evitar sobrecarga de logs\n",
        "    verbose=100\n",
        ")\n",
        "\n",
        "# Entrenar el modelo con los datos de entrenamiento\n",
        "cat_model.fit(X_train, y_train, eval_set=(X_test, y_test))\n",
        "\n",
        "# Realizar predicciones\n",
        "y_pred_cat = cat_model.predict(X_test)\n",
        "\n",
        "# Evaluar el modelo\n",
        "accuracy_cat = accuracy_score(y_test, y_pred_cat)\n",
        "print(\"\\nAccuracy del modelo CatBoost:\", accuracy_cat)\n",
        "\n",
        "# Mostrar métricas detalladas\n",
        "print(\"\\nReporte de Clasificación:\\n\", classification_report(y_test, y_pred_cat))\n",
        "print(\"\\nMatriz de Confusión:\\n\", confusion_matrix(y_test, y_pred_cat))"
      ],
      "metadata": {
        "colab": {
          "base_uri": "https://localhost:8080/"
        },
        "id": "JUF8IX2Tz8cy",
        "outputId": "f873c4e2-c521-421e-efab-d1b4081076d4"
      },
      "execution_count": 16,
      "outputs": [
        {
          "output_type": "stream",
          "name": "stdout",
          "text": [
            "0:\tlearn: 0.3982159\ttest: 0.3963084\tbest: 0.3963084 (0)\ttotal: 33.2ms\tremaining: 33.1s\n",
            "100:\tlearn: 0.4253300\ttest: 0.4170591\tbest: 0.4171246 (98)\ttotal: 2.18s\tremaining: 19.4s\n",
            "200:\tlearn: 0.4341705\ttest: 0.4211705\tbest: 0.4213650 (197)\ttotal: 4.32s\tremaining: 17.2s\n",
            "300:\tlearn: 0.4419878\ttest: 0.4228457\tbest: 0.4231054 (289)\ttotal: 6.47s\tremaining: 15s\n",
            "400:\tlearn: 0.4492517\ttest: 0.4241266\tbest: 0.4244843 (395)\ttotal: 8.68s\tremaining: 13s\n",
            "500:\tlearn: 0.4561306\ttest: 0.4243504\tbest: 0.4246945 (458)\ttotal: 11s\tremaining: 10.9s\n",
            "bestTest = 0.424694495\n",
            "bestIteration = 458\n",
            "Shrink model to first 459 iterations.\n",
            "\n",
            "Accuracy del modelo CatBoost: 0.4354079422382671\n",
            "\n",
            "Reporte de Clasificación:\n",
            "               precision    recall  f1-score   support\n",
            "\n",
            "           0       0.46      0.57      0.51     34597\n",
            "           1       0.33      0.27      0.30     34455\n",
            "           2       0.33      0.28      0.30     34324\n",
            "           3       0.55      0.63      0.59     35124\n",
            "\n",
            "    accuracy                           0.44    138500\n",
            "   macro avg       0.42      0.43      0.42    138500\n",
            "weighted avg       0.42      0.44      0.42    138500\n",
            "\n",
            "\n",
            "Matriz de Confusión:\n",
            " [[19604  7407  4871  2715]\n",
            " [12536  9240  7639  5040]\n",
            " [ 7459  7452  9474  9939]\n",
            " [ 2871  3493  6774 21986]]\n"
          ]
        }
      ]
    },
    {
      "cell_type": "markdown",
      "source": [
        "**Prueba del modelo CatBoostClassifier Optimizado con BayesSearchCV**"
      ],
      "metadata": {
        "id": "Zpk6lMqYRd5r"
      }
    },
    {
      "cell_type": "code",
      "source": [
        "# Definir el modelo base de CatBoost\n",
        "cat_model = CatBoostClassifier(\n",
        "    loss_function=\"MultiClass\",\n",
        "    task_type=\"GPU\",\n",
        "    devices='0',\n",
        "    eval_metric=\"TotalF1\",\n",
        "    random_seed=42,\n",
        "    verbose=0,\n",
        "    early_stopping_rounds=50,  # Detener si no hay mejora\n",
        "    train_dir=\"/tmp/catboost_info\"  # Evitar sobrecarga de logs\n",
        ")\n",
        "\n",
        "# Definir la búsqueda de hiperparámetros con BayesSearchCV\n",
        "search_space_cat = {\n",
        "    'iterations': Integer(200, 1000),  # Número de iteraciones\n",
        "    'depth': Integer(4, 12),  # Profundidad máxima\n",
        "    'learning_rate': Real(0.01, 0.2, prior='log-uniform'),  # Tasa de aprendizaje\n",
        "    'l2_leaf_reg': Real(1, 10, prior='log-uniform'),  # Regularización L2\n",
        "    'border_count': Integer(32, 255),  # Número de divisiones en histogramas\n",
        "    'bagging_temperature': Real(0, 1),  # Control de bagging\n",
        "    'random_strength': Real(1, 10, prior='log-uniform')  # Regularización aleatoria\n",
        "}\n",
        "\n",
        "# Configurar BayesSearchCV\n",
        "bayes_search_cat = BayesSearchCV(\n",
        "    cat_model,\n",
        "    search_spaces=search_space_cat,\n",
        "    n_iter=30,  # Número de iteraciones\n",
        "    cv=3,  # Validación cruzada\n",
        "    random_state=42,\n",
        "    n_jobs=1,\n",
        "    verbose=3\n",
        ")\n",
        "\n",
        "# Entrenar el modelo con búsqueda de hiperparámetros\n",
        "bayes_search_cat.fit(X_train, y_train)\n",
        "\n",
        "# Mostrar los mejores hiperparámetros encontrados\n",
        "print(\"\\nMejores Hiperparámetros para CatBoost:\")\n",
        "print(bayes_search_cat.best_params_)\n",
        "\n",
        "# Evaluar el mejor modelo encontrado\n",
        "best_cat_model = bayes_search_cat.best_estimator_\n",
        "y_pred_best_cat = best_cat_model.predict(X_test)\n",
        "\n",
        "# Calcular el nuevo accuracy\n",
        "accuracy_best_cat = accuracy_score(y_test, y_pred_best_cat)\n",
        "print(\"\\nNuevo Accuracy con BayesSearchCV (CatBoost):\", accuracy_best_cat)\n",
        "\n",
        "# Mostrar métricas detalladas\n",
        "print(\"\\nReporte de Clasificación (CatBoost):\\n\", classification_report(y_test, y_pred_best_cat))\n",
        "print(\"\\nMatriz de Confusión (CatBoost):\\n\", confusion_matrix(y_test, y_pred_best_cat))"
      ],
      "metadata": {
        "colab": {
          "base_uri": "https://localhost:8080/"
        },
        "id": "ww9CMGDb-ST8",
        "outputId": "368ff4b9-2260-4655-b1eb-5ebbe45c02ca"
      },
      "execution_count": 17,
      "outputs": [
        {
          "output_type": "stream",
          "name": "stdout",
          "text": [
            "Fitting 3 folds for each of 1 candidates, totalling 3 fits\n",
            "[CV 1/3] END bagging_temperature=0.41010395885331385, border_count=194, depth=11, iterations=453, l2_leaf_reg=4.67894508711274, learning_rate=0.03457647873038711, random_strength=2.243527177854895;, score=0.433 total time=  13.6s\n",
            "[CV 2/3] END bagging_temperature=0.41010395885331385, border_count=194, depth=11, iterations=453, l2_leaf_reg=4.67894508711274, learning_rate=0.03457647873038711, random_strength=2.243527177854895;, score=0.434 total time=  14.3s\n",
            "[CV 3/3] END bagging_temperature=0.41010395885331385, border_count=194, depth=11, iterations=453, l2_leaf_reg=4.67894508711274, learning_rate=0.03457647873038711, random_strength=2.243527177854895;, score=0.434 total time=  14.1s\n",
            "Fitting 3 folds for each of 1 candidates, totalling 3 fits\n",
            "[CV 1/3] END bagging_temperature=0.8373883555532844, border_count=229, depth=6, iterations=961, l2_leaf_reg=7.3135446215885676, learning_rate=0.012052329743285429, random_strength=1.3750184902381468;, score=0.430 total time=   5.6s\n",
            "[CV 2/3] END bagging_temperature=0.8373883555532844, border_count=229, depth=6, iterations=961, l2_leaf_reg=7.3135446215885676, learning_rate=0.012052329743285429, random_strength=1.3750184902381468;, score=0.431 total time=   6.0s\n",
            "[CV 3/3] END bagging_temperature=0.8373883555532844, border_count=229, depth=6, iterations=961, l2_leaf_reg=7.3135446215885676, learning_rate=0.012052329743285429, random_strength=1.3750184902381468;, score=0.431 total time=   5.7s\n",
            "Fitting 3 folds for each of 1 candidates, totalling 3 fits\n",
            "[CV 1/3] END bagging_temperature=0.44483251230115184, border_count=237, depth=5, iterations=547, l2_leaf_reg=1.5415413774001387, learning_rate=0.0389253225769953, random_strength=1.4303688842101405;, score=0.433 total time=   2.8s\n",
            "[CV 2/3] END bagging_temperature=0.44483251230115184, border_count=237, depth=5, iterations=547, l2_leaf_reg=1.5415413774001387, learning_rate=0.0389253225769953, random_strength=1.4303688842101405;, score=0.433 total time=   2.9s\n",
            "[CV 3/3] END bagging_temperature=0.44483251230115184, border_count=237, depth=5, iterations=547, l2_leaf_reg=1.5415413774001387, learning_rate=0.0389253225769953, random_strength=1.4303688842101405;, score=0.433 total time=   2.9s\n",
            "Fitting 3 folds for each of 1 candidates, totalling 3 fits\n",
            "[CV 1/3] END bagging_temperature=0.8123959883573634, border_count=70, depth=9, iterations=842, l2_leaf_reg=3.334665896647511, learning_rate=0.013310362066695542, random_strength=5.699024615926203;, score=0.431 total time=   9.2s\n",
            "[CV 2/3] END bagging_temperature=0.8123959883573634, border_count=70, depth=9, iterations=842, l2_leaf_reg=3.334665896647511, learning_rate=0.013310362066695542, random_strength=5.699024615926203;, score=0.432 total time=   9.0s\n",
            "[CV 3/3] END bagging_temperature=0.8123959883573634, border_count=70, depth=9, iterations=842, l2_leaf_reg=3.334665896647511, learning_rate=0.013310362066695542, random_strength=5.699024615926203;, score=0.432 total time=   9.2s\n",
            "Fitting 3 folds for each of 1 candidates, totalling 3 fits\n",
            "[CV 1/3] END bagging_temperature=0.7995534416071731, border_count=130, depth=8, iterations=773, l2_leaf_reg=8.014050457999549, learning_rate=0.08567991667860926, random_strength=2.6556942450923633;, score=0.434 total time=   8.0s\n",
            "[CV 2/3] END bagging_temperature=0.7995534416071731, border_count=130, depth=8, iterations=773, l2_leaf_reg=8.014050457999549, learning_rate=0.08567991667860926, random_strength=2.6556942450923633;, score=0.436 total time=   8.1s\n",
            "[CV 3/3] END bagging_temperature=0.7995534416071731, border_count=130, depth=8, iterations=773, l2_leaf_reg=8.014050457999549, learning_rate=0.08567991667860926, random_strength=2.6556942450923633;, score=0.436 total time=   8.1s\n",
            "Fitting 3 folds for each of 1 candidates, totalling 3 fits\n",
            "[CV 1/3] END bagging_temperature=0.7340280179855684, border_count=241, depth=5, iterations=351, l2_leaf_reg=6.316888794800833, learning_rate=0.030530749570321522, random_strength=2.8775608367152383;, score=0.428 total time=   1.9s\n",
            "[CV 2/3] END bagging_temperature=0.7340280179855684, border_count=241, depth=5, iterations=351, l2_leaf_reg=6.316888794800833, learning_rate=0.030530749570321522, random_strength=2.8775608367152383;, score=0.429 total time=   2.1s\n",
            "[CV 3/3] END bagging_temperature=0.7340280179855684, border_count=241, depth=5, iterations=351, l2_leaf_reg=6.316888794800833, learning_rate=0.030530749570321522, random_strength=2.8775608367152383;, score=0.429 total time=   2.1s\n",
            "Fitting 3 folds for each of 1 candidates, totalling 3 fits\n",
            "[CV 1/3] END bagging_temperature=0.6170793585023163, border_count=205, depth=7, iterations=899, l2_leaf_reg=3.913989671749204, learning_rate=0.05937703423723118, random_strength=4.454279959081833;, score=0.436 total time=   6.8s\n",
            "[CV 2/3] END bagging_temperature=0.6170793585023163, border_count=205, depth=7, iterations=899, l2_leaf_reg=3.913989671749204, learning_rate=0.05937703423723118, random_strength=4.454279959081833;, score=0.438 total time=   6.8s\n",
            "[CV 3/3] END bagging_temperature=0.6170793585023163, border_count=205, depth=7, iterations=899, l2_leaf_reg=3.913989671749204, learning_rate=0.05937703423723118, random_strength=4.454279959081833;, score=0.438 total time=   6.7s\n",
            "Fitting 3 folds for each of 1 candidates, totalling 3 fits\n",
            "[CV 1/3] END bagging_temperature=0.5434030676903125, border_count=237, depth=8, iterations=870, l2_leaf_reg=2.1089194017759274, learning_rate=0.01165541088387643, random_strength=3.722012288725367;, score=0.431 total time=   7.9s\n",
            "[CV 2/3] END bagging_temperature=0.5434030676903125, border_count=237, depth=8, iterations=870, l2_leaf_reg=2.1089194017759274, learning_rate=0.01165541088387643, random_strength=3.722012288725367;, score=0.433 total time=   7.9s\n",
            "[CV 3/3] END bagging_temperature=0.5434030676903125, border_count=237, depth=8, iterations=870, l2_leaf_reg=2.1089194017759274, learning_rate=0.01165541088387643, random_strength=3.722012288725367;, score=0.431 total time=   7.8s\n",
            "Fitting 3 folds for each of 1 candidates, totalling 3 fits\n",
            "[CV 1/3] END bagging_temperature=0.9554779863099283, border_count=188, depth=11, iterations=533, l2_leaf_reg=2.4047213808495416, learning_rate=0.018838934200923585, random_strength=1.0001405844340876;, score=0.431 total time=  18.3s\n",
            "[CV 2/3] END bagging_temperature=0.9554779863099283, border_count=188, depth=11, iterations=533, l2_leaf_reg=2.4047213808495416, learning_rate=0.018838934200923585, random_strength=1.0001405844340876;, score=0.432 total time=  18.7s\n",
            "[CV 3/3] END bagging_temperature=0.9554779863099283, border_count=188, depth=11, iterations=533, l2_leaf_reg=2.4047213808495416, learning_rate=0.018838934200923585, random_strength=1.0001405844340876;, score=0.432 total time=  18.2s\n",
            "Fitting 3 folds for each of 1 candidates, totalling 3 fits\n",
            "[CV 1/3] END bagging_temperature=0.0036303072547432267, border_count=214, depth=10, iterations=404, l2_leaf_reg=3.7902192781288866, learning_rate=0.022772581162199632, random_strength=2.0551300344244026;, score=0.431 total time=   8.0s\n",
            "[CV 2/3] END bagging_temperature=0.0036303072547432267, border_count=214, depth=10, iterations=404, l2_leaf_reg=3.7902192781288866, learning_rate=0.022772581162199632, random_strength=2.0551300344244026;, score=0.433 total time=   8.3s\n",
            "[CV 3/3] END bagging_temperature=0.0036303072547432267, border_count=214, depth=10, iterations=404, l2_leaf_reg=3.7902192781288866, learning_rate=0.022772581162199632, random_strength=2.0551300344244026;, score=0.433 total time=   8.3s\n",
            "Fitting 3 folds for each of 1 candidates, totalling 3 fits\n",
            "[CV 1/3] END bagging_temperature=0.0, border_count=225, depth=12, iterations=1000, l2_leaf_reg=1.0, learning_rate=0.11168425466526426, random_strength=7.71459987012102;, score=0.420 total time=  55.0s\n",
            "[CV 2/3] END bagging_temperature=0.0, border_count=225, depth=12, iterations=1000, l2_leaf_reg=1.0, learning_rate=0.11168425466526426, random_strength=7.71459987012102;, score=0.419 total time=  55.1s\n",
            "[CV 3/3] END bagging_temperature=0.0, border_count=225, depth=12, iterations=1000, l2_leaf_reg=1.0, learning_rate=0.11168425466526426, random_strength=7.71459987012102;, score=0.422 total time=  54.7s\n",
            "Fitting 3 folds for each of 1 candidates, totalling 3 fits\n",
            "[CV 1/3] END bagging_temperature=0.727087285999828, border_count=59, depth=4, iterations=1000, l2_leaf_reg=1.0009957833214236, learning_rate=0.2, random_strength=1.7104294858094755;, score=0.436 total time=   3.6s\n",
            "[CV 2/3] END bagging_temperature=0.727087285999828, border_count=59, depth=4, iterations=1000, l2_leaf_reg=1.0009957833214236, learning_rate=0.2, random_strength=1.7104294858094755;, score=0.437 total time=   3.9s\n",
            "[CV 3/3] END bagging_temperature=0.727087285999828, border_count=59, depth=4, iterations=1000, l2_leaf_reg=1.0009957833214236, learning_rate=0.2, random_strength=1.7104294858094755;, score=0.437 total time=   3.8s\n",
            "Fitting 3 folds for each of 1 candidates, totalling 3 fits\n",
            "[CV 1/3] END bagging_temperature=0.5705728045122483, border_count=144, depth=9, iterations=820, l2_leaf_reg=4.581053803413852, learning_rate=0.2, random_strength=6.551373202893509;, score=0.428 total time=  12.0s\n",
            "[CV 2/3] END bagging_temperature=0.5705728045122483, border_count=144, depth=9, iterations=820, l2_leaf_reg=4.581053803413852, learning_rate=0.2, random_strength=6.551373202893509;, score=0.428 total time=  12.1s\n",
            "[CV 3/3] END bagging_temperature=0.5705728045122483, border_count=144, depth=9, iterations=820, l2_leaf_reg=4.581053803413852, learning_rate=0.2, random_strength=6.551373202893509;, score=0.429 total time=  12.1s\n",
            "Fitting 3 folds for each of 1 candidates, totalling 3 fits\n",
            "[CV 1/3] END bagging_temperature=0.023378520757177782, border_count=213, depth=4, iterations=505, l2_leaf_reg=1.578470493602149, learning_rate=0.2, random_strength=2.242077750628088;, score=0.437 total time=   2.1s\n",
            "[CV 2/3] END bagging_temperature=0.023378520757177782, border_count=213, depth=4, iterations=505, l2_leaf_reg=1.578470493602149, learning_rate=0.2, random_strength=2.242077750628088;, score=0.437 total time=   2.3s\n",
            "[CV 3/3] END bagging_temperature=0.023378520757177782, border_count=213, depth=4, iterations=505, l2_leaf_reg=1.578470493602149, learning_rate=0.2, random_strength=2.242077750628088;, score=0.437 total time=   2.3s\n",
            "Fitting 3 folds for each of 1 candidates, totalling 3 fits\n",
            "[CV 1/3] END bagging_temperature=0.4992144928669517, border_count=48, depth=4, iterations=425, l2_leaf_reg=10.0, learning_rate=0.01, random_strength=2.479042605638668;, score=0.419 total time=   1.7s\n",
            "[CV 2/3] END bagging_temperature=0.4992144928669517, border_count=48, depth=4, iterations=425, l2_leaf_reg=10.0, learning_rate=0.01, random_strength=2.479042605638668;, score=0.421 total time=   2.0s\n",
            "[CV 3/3] END bagging_temperature=0.4992144928669517, border_count=48, depth=4, iterations=425, l2_leaf_reg=10.0, learning_rate=0.01, random_strength=2.479042605638668;, score=0.420 total time=   2.0s\n",
            "Fitting 3 folds for each of 1 candidates, totalling 3 fits\n",
            "[CV 1/3] END bagging_temperature=0.12405845466575816, border_count=255, depth=4, iterations=1000, l2_leaf_reg=2.102876270368981, learning_rate=0.07885534873863771, random_strength=9.947570620849687;, score=0.435 total time=   3.7s\n",
            "[CV 2/3] END bagging_temperature=0.12405845466575816, border_count=255, depth=4, iterations=1000, l2_leaf_reg=2.102876270368981, learning_rate=0.07885534873863771, random_strength=9.947570620849687;, score=0.436 total time=   3.8s\n",
            "[CV 3/3] END bagging_temperature=0.12405845466575816, border_count=255, depth=4, iterations=1000, l2_leaf_reg=2.102876270368981, learning_rate=0.07885534873863771, random_strength=9.947570620849687;, score=0.435 total time=   4.0s\n",
            "Fitting 3 folds for each of 1 candidates, totalling 3 fits\n",
            "[CV 1/3] END bagging_temperature=0.6008630930863615, border_count=210, depth=7, iterations=200, l2_leaf_reg=1.0, learning_rate=0.2, random_strength=1.0;, score=0.435 total time=   1.7s\n",
            "[CV 2/3] END bagging_temperature=0.6008630930863615, border_count=210, depth=7, iterations=200, l2_leaf_reg=1.0, learning_rate=0.2, random_strength=1.0;, score=0.436 total time=   2.0s\n",
            "[CV 3/3] END bagging_temperature=0.6008630930863615, border_count=210, depth=7, iterations=200, l2_leaf_reg=1.0, learning_rate=0.2, random_strength=1.0;, score=0.436 total time=   2.0s\n",
            "Fitting 3 folds for each of 1 candidates, totalling 3 fits\n",
            "[CV 1/3] END bagging_temperature=0.9972457666749599, border_count=246, depth=12, iterations=200, l2_leaf_reg=2.65526714425547, learning_rate=0.2, random_strength=1.3458586929301033;, score=0.423 total time=  13.1s\n",
            "[CV 2/3] END bagging_temperature=0.9972457666749599, border_count=246, depth=12, iterations=200, l2_leaf_reg=2.65526714425547, learning_rate=0.2, random_strength=1.3458586929301033;, score=0.423 total time=  13.3s\n",
            "[CV 3/3] END bagging_temperature=0.9972457666749599, border_count=246, depth=12, iterations=200, l2_leaf_reg=2.65526714425547, learning_rate=0.2, random_strength=1.3458586929301033;, score=0.424 total time=  13.4s\n",
            "Fitting 3 folds for each of 1 candidates, totalling 3 fits\n",
            "[CV 1/3] END bagging_temperature=0.16827491409598536, border_count=32, depth=6, iterations=643, l2_leaf_reg=1.0, learning_rate=0.11067646166368508, random_strength=1.0;, score=0.436 total time=   3.5s\n",
            "[CV 2/3] END bagging_temperature=0.16827491409598536, border_count=32, depth=6, iterations=643, l2_leaf_reg=1.0, learning_rate=0.11067646166368508, random_strength=1.0;, score=0.437 total time=   3.8s\n",
            "[CV 3/3] END bagging_temperature=0.16827491409598536, border_count=32, depth=6, iterations=643, l2_leaf_reg=1.0, learning_rate=0.11067646166368508, random_strength=1.0;, score=0.437 total time=   3.8s\n",
            "Fitting 3 folds for each of 1 candidates, totalling 3 fits\n",
            "[CV 1/3] END bagging_temperature=0.0, border_count=222, depth=12, iterations=562, l2_leaf_reg=10.0, learning_rate=0.01, random_strength=1.0;, score=0.430 total time=  31.1s\n",
            "[CV 2/3] END bagging_temperature=0.0, border_count=222, depth=12, iterations=562, l2_leaf_reg=10.0, learning_rate=0.01, random_strength=1.0;, score=0.432 total time=  31.2s\n",
            "[CV 3/3] END bagging_temperature=0.0, border_count=222, depth=12, iterations=562, l2_leaf_reg=10.0, learning_rate=0.01, random_strength=1.0;, score=0.431 total time=  30.9s\n",
            "Fitting 3 folds for each of 1 candidates, totalling 3 fits\n",
            "[CV 1/3] END bagging_temperature=0.18141288505403533, border_count=197, depth=6, iterations=893, l2_leaf_reg=9.169465019539969, learning_rate=0.1963680592403728, random_strength=2.2223712264023456;, score=0.437 total time=   5.1s\n",
            "[CV 2/3] END bagging_temperature=0.18141288505403533, border_count=197, depth=6, iterations=893, l2_leaf_reg=9.169465019539969, learning_rate=0.1963680592403728, random_strength=2.2223712264023456;, score=0.438 total time=   5.3s\n",
            "[CV 3/3] END bagging_temperature=0.18141288505403533, border_count=197, depth=6, iterations=893, l2_leaf_reg=9.169465019539969, learning_rate=0.1963680592403728, random_strength=2.2223712264023456;, score=0.439 total time=   5.3s\n",
            "Fitting 3 folds for each of 1 candidates, totalling 3 fits\n",
            "[CV 1/3] END bagging_temperature=0.26577401541778595, border_count=219, depth=8, iterations=520, l2_leaf_reg=1.0986358164630408, learning_rate=0.03619163018500724, random_strength=4.737689594378797;, score=0.434 total time=   4.4s\n",
            "[CV 2/3] END bagging_temperature=0.26577401541778595, border_count=219, depth=8, iterations=520, l2_leaf_reg=1.0986358164630408, learning_rate=0.03619163018500724, random_strength=4.737689594378797;, score=0.435 total time=   4.7s\n",
            "[CV 3/3] END bagging_temperature=0.26577401541778595, border_count=219, depth=8, iterations=520, l2_leaf_reg=1.0986358164630408, learning_rate=0.03619163018500724, random_strength=4.737689594378797;, score=0.434 total time=   4.6s\n",
            "Fitting 3 folds for each of 1 candidates, totalling 3 fits\n",
            "[CV 1/3] END bagging_temperature=0.03457895412938173, border_count=179, depth=12, iterations=996, l2_leaf_reg=3.252217674108312, learning_rate=0.012482991887027025, random_strength=4.918960964028385;, score=0.431 total time=  36.4s\n",
            "[CV 2/3] END bagging_temperature=0.03457895412938173, border_count=179, depth=12, iterations=996, l2_leaf_reg=3.252217674108312, learning_rate=0.012482991887027025, random_strength=4.918960964028385;, score=0.433 total time=  35.1s\n",
            "[CV 3/3] END bagging_temperature=0.03457895412938173, border_count=179, depth=12, iterations=996, l2_leaf_reg=3.252217674108312, learning_rate=0.012482991887027025, random_strength=4.918960964028385;, score=0.432 total time=  34.8s\n",
            "Fitting 3 folds for each of 1 candidates, totalling 3 fits\n",
            "[CV 1/3] END bagging_temperature=1.0, border_count=32, depth=5, iterations=200, l2_leaf_reg=10.0, learning_rate=0.2, random_strength=1.5766063031294184;, score=0.434 total time=   1.1s\n",
            "[CV 2/3] END bagging_temperature=1.0, border_count=32, depth=5, iterations=200, l2_leaf_reg=10.0, learning_rate=0.2, random_strength=1.5766063031294184;, score=0.435 total time=   1.4s\n",
            "[CV 3/3] END bagging_temperature=1.0, border_count=32, depth=5, iterations=200, l2_leaf_reg=10.0, learning_rate=0.2, random_strength=1.5766063031294184;, score=0.433 total time=   1.4s\n",
            "Fitting 3 folds for each of 1 candidates, totalling 3 fits\n",
            "[CV 1/3] END bagging_temperature=0.8009930225395695, border_count=131, depth=12, iterations=264, l2_leaf_reg=2.154155904286914, learning_rate=0.016519516963574073, random_strength=9.306399438516515;, score=0.428 total time=  13.5s\n",
            "[CV 2/3] END bagging_temperature=0.8009930225395695, border_count=131, depth=12, iterations=264, l2_leaf_reg=2.154155904286914, learning_rate=0.016519516963574073, random_strength=9.306399438516515;, score=0.430 total time=  13.4s\n",
            "[CV 3/3] END bagging_temperature=0.8009930225395695, border_count=131, depth=12, iterations=264, l2_leaf_reg=2.154155904286914, learning_rate=0.016519516963574073, random_strength=9.306399438516515;, score=0.429 total time=  13.4s\n",
            "Fitting 3 folds for each of 1 candidates, totalling 3 fits\n",
            "[CV 1/3] END bagging_temperature=1.0, border_count=255, depth=5, iterations=1000, l2_leaf_reg=10.0, learning_rate=0.11810925291367973, random_strength=1.0;, score=0.437 total time=   4.5s\n",
            "[CV 2/3] END bagging_temperature=1.0, border_count=255, depth=5, iterations=1000, l2_leaf_reg=10.0, learning_rate=0.11810925291367973, random_strength=1.0;, score=0.438 total time=   4.8s\n",
            "[CV 3/3] END bagging_temperature=1.0, border_count=255, depth=5, iterations=1000, l2_leaf_reg=10.0, learning_rate=0.11810925291367973, random_strength=1.0;, score=0.437 total time=   4.8s\n",
            "Fitting 3 folds for each of 1 candidates, totalling 3 fits\n",
            "[CV 1/3] END bagging_temperature=0.0, border_count=255, depth=5, iterations=674, l2_leaf_reg=10.0, learning_rate=0.2, random_strength=10.0;, score=0.438 total time=   3.1s\n",
            "[CV 2/3] END bagging_temperature=0.0, border_count=255, depth=5, iterations=674, l2_leaf_reg=10.0, learning_rate=0.2, random_strength=10.0;, score=0.439 total time=   3.5s\n",
            "[CV 3/3] END bagging_temperature=0.0, border_count=255, depth=5, iterations=674, l2_leaf_reg=10.0, learning_rate=0.2, random_strength=10.0;, score=0.439 total time=   3.3s\n",
            "Fitting 3 folds for each of 1 candidates, totalling 3 fits\n",
            "[CV 1/3] END bagging_temperature=0.0, border_count=255, depth=5, iterations=1000, l2_leaf_reg=10.0, learning_rate=0.2, random_strength=1.0;, score=0.439 total time=   4.5s\n",
            "[CV 2/3] END bagging_temperature=0.0, border_count=255, depth=5, iterations=1000, l2_leaf_reg=10.0, learning_rate=0.2, random_strength=1.0;, score=0.439 total time=   4.7s\n",
            "[CV 3/3] END bagging_temperature=0.0, border_count=255, depth=5, iterations=1000, l2_leaf_reg=10.0, learning_rate=0.2, random_strength=1.0;, score=0.440 total time=   4.8s\n",
            "Fitting 3 folds for each of 1 candidates, totalling 3 fits\n",
            "[CV 1/3] END bagging_temperature=0.9451411846249653, border_count=224, depth=9, iterations=995, l2_leaf_reg=4.329266467682747, learning_rate=0.02651756980067266, random_strength=1.0509356439834732;, score=0.434 total time=  14.3s\n",
            "[CV 2/3] END bagging_temperature=0.9451411846249653, border_count=224, depth=9, iterations=995, l2_leaf_reg=4.329266467682747, learning_rate=0.02651756980067266, random_strength=1.0509356439834732;, score=0.434 total time=  14.3s\n",
            "[CV 3/3] END bagging_temperature=0.9451411846249653, border_count=224, depth=9, iterations=995, l2_leaf_reg=4.329266467682747, learning_rate=0.02651756980067266, random_strength=1.0509356439834732;, score=0.435 total time=  14.3s\n",
            "Fitting 3 folds for each of 1 candidates, totalling 3 fits\n",
            "[CV 1/3] END bagging_temperature=0.0, border_count=255, depth=5, iterations=780, l2_leaf_reg=10.0, learning_rate=0.2, random_strength=1.0;, score=0.439 total time=   3.6s\n",
            "[CV 2/3] END bagging_temperature=0.0, border_count=255, depth=5, iterations=780, l2_leaf_reg=10.0, learning_rate=0.2, random_strength=1.0;, score=0.439 total time=   3.8s\n",
            "[CV 3/3] END bagging_temperature=0.0, border_count=255, depth=5, iterations=780, l2_leaf_reg=10.0, learning_rate=0.2, random_strength=1.0;, score=0.439 total time=   4.0s\n",
            "\n",
            "Mejores Hiperparámetros para CatBoost:\n",
            "OrderedDict([('bagging_temperature', 0.0), ('border_count', 255), ('depth', 5), ('iterations', 1000), ('l2_leaf_reg', 10.0), ('learning_rate', 0.2), ('random_strength', 1.0)])\n",
            "\n",
            "Nuevo Accuracy con BayesSearchCV (CatBoost): 0.43904693140794226\n",
            "\n",
            "Reporte de Clasificación (CatBoost):\n",
            "               precision    recall  f1-score   support\n",
            "\n",
            "           0       0.47      0.57      0.51     34597\n",
            "           1       0.34      0.27      0.30     34455\n",
            "           2       0.33      0.28      0.31     34324\n",
            "           3       0.56      0.63      0.59     35124\n",
            "\n",
            "    accuracy                           0.44    138500\n",
            "   macro avg       0.42      0.44      0.43    138500\n",
            "weighted avg       0.42      0.44      0.43    138500\n",
            "\n",
            "\n",
            "Matriz de Confusión (CatBoost):\n",
            " [[19768  7469  4802  2558]\n",
            " [12576  9233  7809  4837]\n",
            " [ 7288  7460  9750  9826]\n",
            " [ 2819  3371  6877 22057]]\n"
          ]
        }
      ]
    }
  ]
}